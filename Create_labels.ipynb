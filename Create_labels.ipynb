{
 "cells": [
  {
   "cell_type": "code",
   "execution_count": null,
   "metadata": {
    "collapsed": true,
    "pycharm": {
     "name": "#%%\n"
    }
   },
   "outputs": [],
   "source": [
    "import numpy as np\n",
    "import pandas as pd"
   ]
  },
  {
   "cell_type": "code",
   "execution_count": null,
   "outputs": [],
   "source": [
    "folder_path =\"/Users/raphaelkronberg/Downloads/export_939_20220910_0950/__DUMMY_ID__820__/\"\n",
    "meta_data_file_path =\"ecotaxa___DUMMY_ID__820__.tsv\"\n",
    "fpath = folder_path + meta_data_file_path\n",
    "df_eco_taxa_820 = pd.read_csv(fpath, sep='\\t')\n",
    "df_eco_taxa_820.head()"
   ],
   "metadata": {
    "collapsed": false,
    "pycharm": {
     "name": "#%%\n"
    }
   }
  },
  {
   "cell_type": "code",
   "execution_count": null,
   "outputs": [],
   "source": [
    "labels = df_eco_taxa_820[[\"img_file_name\",\"object_annotation_category\",\"object_annotation_category_id\"]]\n",
    "labels.shape"
   ],
   "metadata": {
    "collapsed": false,
    "pycharm": {
     "name": "#%%\n"
    }
   }
  },
  {
   "cell_type": "code",
   "execution_count": null,
   "outputs": [],
   "source": [
    "labels.describe()"
   ],
   "metadata": {
    "collapsed": false,
    "pycharm": {
     "name": "#%%\n"
    }
   }
  },
  {
   "cell_type": "code",
   "execution_count": null,
   "outputs": [],
   "source": [
    "labels"
   ],
   "metadata": {
    "collapsed": false,
    "pycharm": {
     "name": "#%%\n"
    }
   }
  },
  {
   "cell_type": "code",
   "execution_count": null,
   "outputs": [],
   "source": [],
   "metadata": {
    "collapsed": false,
    "pycharm": {
     "name": "#%%\n"
    }
   }
  },
  {
   "cell_type": "code",
   "execution_count": null,
   "outputs": [],
   "source": [
    "label_dict = labels[[\"img_file_name\",\"object_annotation_category_id\"]]\n",
    "id_name_map =labels[[\"object_annotation_category\",\"object_annotation_category_id\"]]"
   ],
   "metadata": {
    "collapsed": false,
    "pycharm": {
     "name": "#%%\n"
    }
   }
  },
  {
   "cell_type": "code",
   "execution_count": null,
   "outputs": [],
   "source": [
    "label_dict = {row[\"img_file_name\"]: row[\"object_annotation_category_id\"] for index, row in labels.iterrows()}\n",
    "len(label_dict)"
   ],
   "metadata": {
    "collapsed": false,
    "pycharm": {
     "name": "#%%\n"
    }
   }
  },
  {
   "cell_type": "code",
   "execution_count": null,
   "outputs": [],
   "source": [
    "id_name_map_dict = {row[\"object_annotation_category\"]: row[\"object_annotation_category_id\"] for index, row in id_name_map.iterrows()}\n",
    "len(id_name_map_dict)"
   ],
   "metadata": {
    "collapsed": false,
    "pycharm": {
     "name": "#%%\n"
    }
   }
  },
  {
   "cell_type": "code",
   "execution_count": null,
   "outputs": [],
   "source": [
    "import os"
   ],
   "metadata": {
    "collapsed": false,
    "pycharm": {
     "name": "#%%\n"
    }
   }
  },
  {
   "cell_type": "code",
   "execution_count": null,
   "outputs": [],
   "source": [
    "def create_label_image_mapping(path):\n",
    "    df = pd.read_csv(path, sep='\\t')[[\"img_file_name\",\"object_annotation_category_id\"]]\n",
    "    label_dict = {row[\"img_file_name\"]: row[\"object_annotation_category_id\"] for index, row in df.iterrows()}\n",
    "    print(len(label_dict))\n",
    "    return label_dict, len(label_dict)\n",
    "\n",
    "def create_label_id_label_name_mapping(path):\n",
    "    df = pd.read_csv(path, sep='\\t')[[\"object_annotation_category\",\"object_annotation_category_id\"]]\n",
    "    id_name_map_dict = {row[\"object_annotation_category\"]: row[\"object_annotation_category_id\"] for index, row in df.iterrows()}\n",
    "    print(len(id_name_map_dict))\n",
    "    return id_name_map_dict, len(id_name_map_dict)\n"
   ],
   "metadata": {
    "collapsed": false,
    "pycharm": {
     "name": "#%%\n"
    }
   }
  },
  {
   "cell_type": "code",
   "execution_count": null,
   "outputs": [],
   "source": [
    "label_img_map = {}\n",
    "id_name_map ={}\n",
    "counter = 0\n",
    "for root, dirs, files in os.walk(\"/Users/raphaelkronberg/Downloads/export_939_20220910_0950\"):\n",
    "    for name in dirs:\n",
    "        print(os.path.join(root, name))\n",
    "    for name in files:\n",
    "        if name.endswith('.tsv'):\n",
    "            path = os.path.join(root, name)\n",
    "            print(path)\n",
    "            label_img_map[name], temp_len1 = create_label_image_mapping(path)\n",
    "            id_name_map[name], temp_len2 = create_label_id_label_name_mapping(path)\n",
    "            counter += temp_len1\n",
    "            print('#'*20)\n",
    "print('Number of Datapoints:', counter)"
   ],
   "metadata": {
    "collapsed": false,
    "pycharm": {
     "name": "#%%\n"
    }
   }
  },
  {
   "cell_type": "code",
   "execution_count": null,
   "outputs": [],
   "source": [
    "len(label_img_map)"
   ],
   "metadata": {
    "collapsed": false,
    "pycharm": {
     "name": "#%%\n"
    }
   }
  },
  {
   "cell_type": "code",
   "execution_count": null,
   "outputs": [],
   "source": [],
   "metadata": {
    "collapsed": false,
    "pycharm": {
     "name": "#%%\n"
    }
   }
  },
  {
   "cell_type": "code",
   "execution_count": null,
   "outputs": [],
   "source": [
    "list_of_ids = []\n",
    "for key, val in label_img_map.items():\n",
    "    for key1, val1 in val.items():\n",
    "        list_of_ids.append(key1)\n",
    "print(len(list_of_ids))\n",
    "print(len(set(list_of_ids)))"
   ],
   "metadata": {
    "collapsed": false,
    "pycharm": {
     "name": "#%%\n"
    }
   }
  },
  {
   "cell_type": "code",
   "execution_count": null,
   "outputs": [],
   "source": [
    "import collections\n",
    "print([item for item, count in collections.Counter(list_of_ids).items() if count > 1])"
   ],
   "metadata": {
    "collapsed": false,
    "pycharm": {
     "name": "#%%\n"
    }
   }
  },
  {
   "cell_type": "code",
   "execution_count": null,
   "outputs": [],
   "source": [
    "data_table = pd.DataFrame()\n",
    "imgs = list()\n",
    "labels = list()\n",
    "for key, val in label_img_map.items():\n",
    "    for key1, val1 in val.items():\n",
    "        if key1 != \"[t]\":\n",
    "            imgs.append(key1)\n",
    "            labels.append(val1)\n",
    "        else:\n",
    "            print(\"[t]\")\n",
    "data_table['image'] = pd.Series(imgs, dtype='str')\n",
    "data_table['labels'] = pd.Series(labels, dtype='str')\n",
    "print(data_table.shape)\n",
    "data_table.head(5)"
   ],
   "metadata": {
    "collapsed": false,
    "pycharm": {
     "name": "#%%\n"
    }
   }
  },
  {
   "cell_type": "code",
   "execution_count": null,
   "outputs": [],
   "source": [
    "data_table.describe()"
   ],
   "metadata": {
    "collapsed": false,
    "pycharm": {
     "name": "#%%\n"
    }
   }
  },
  {
   "cell_type": "code",
   "execution_count": null,
   "outputs": [],
   "source": [
    "different_labels = np.unique(labels)\n",
    "print(different_labels)"
   ],
   "metadata": {
    "collapsed": false,
    "pycharm": {
     "name": "#%%\n"
    }
   }
  },
  {
   "cell_type": "code",
   "execution_count": null,
   "outputs": [],
   "source": [
    "data_table.sort_values(by=['labels'],inplace = True)"
   ],
   "metadata": {
    "collapsed": false,
    "pycharm": {
     "name": "#%%\n"
    }
   }
  },
  {
   "cell_type": "code",
   "execution_count": null,
   "outputs": [],
   "source": [
    "data_table.describe()"
   ],
   "metadata": {
    "collapsed": false,
    "pycharm": {
     "name": "#%%\n"
    }
   }
  },
  {
   "cell_type": "code",
   "execution_count": null,
   "outputs": [],
   "source": [
    "id_over_treshhold = list()\n",
    "counter_over_treshold = list()\n",
    "for id in different_labels:\n",
    "    if len(data_table[data_table[\"labels\"]==id]) > 300:\n",
    "        #print(f'id: {id}  count: {len(data_table[data_table[\"labels\"]==id])}')\n",
    "        id_over_treshhold.append(id)\n",
    "        counter_over_treshold.append(len(data_table[data_table[\"labels\"]==id]))\n",
    "tresh_hold_df = pd.DataFrame()\n",
    "tresh_hold_df['id'] =id_over_treshhold\n",
    "tresh_hold_df['count'] = counter_over_treshold\n",
    "tresh_hold_df.sort_values(by=['count'],inplace = True)\n"
   ],
   "metadata": {
    "collapsed": false,
    "pycharm": {
     "name": "#%%\n"
    }
   }
  },
  {
   "cell_type": "code",
   "execution_count": null,
   "outputs": [],
   "source": [
    "data_map = pd.DataFrame()\n",
    "id_lab = list()\n",
    "name_lab = list()\n",
    "for key, val in id_name_map.items():\n",
    "    for key1, val1 in val.items():\n",
    "        if key1 != \"[t]\":\n",
    "            name_lab.append(key1)\n",
    "            id_lab.append(val1)\n",
    "        else:\n",
    "            print(\"[t]\")\n",
    "data_map['id'] = pd.Series(id_lab, dtype='str')\n",
    "data_map['name'] = pd.Series(name_lab, dtype='str')\n",
    "print(data_map.shape)\n",
    "data_map.drop_duplicates(inplace = True)\n",
    "data_map\n",
    "#len(data_map)"
   ],
   "metadata": {
    "collapsed": false,
    "pycharm": {
     "name": "#%%\n"
    }
   }
  },
  {
   "cell_type": "code",
   "execution_count": null,
   "outputs": [],
   "source": [
    "data_map.keys()"
   ],
   "metadata": {
    "collapsed": false,
    "pycharm": {
     "name": "#%%\n"
    }
   }
  },
  {
   "cell_type": "code",
   "execution_count": null,
   "outputs": [],
   "source": [
    "data_map_dict = {row[\"id\"]: row[\"name\"] for index, row in data_map.iterrows()}\n",
    "def applydict(key):\n",
    "    try:\n",
    "        ret = data_map_dict[key]\n",
    "        #print(type(key))\n",
    "    except Exception as err:\n",
    "        #print(type(key))\n",
    "        print(err)\n",
    "        ret = 'noname found'\n",
    "    return ret\n",
    "data_map_dict"
   ],
   "metadata": {
    "collapsed": false,
    "pycharm": {
     "name": "#%%\n"
    }
   }
  },
  {
   "cell_type": "code",
   "execution_count": null,
   "outputs": [],
   "source": [
    "tresh_hold_df['label_name']= tresh_hold_df['id'].astype('str').apply(applydict)\n",
    "len(tresh_hold_df)\n"
   ],
   "metadata": {
    "collapsed": false,
    "pycharm": {
     "name": "#%%\n"
    }
   }
  },
  {
   "cell_type": "code",
   "execution_count": null,
   "outputs": [],
   "source": [
    "tresh_hold_df"
   ],
   "metadata": {
    "collapsed": false,
    "pycharm": {
     "name": "#%%\n"
    }
   }
  },
  {
   "cell_type": "code",
   "execution_count": null,
   "outputs": [],
   "source": [
    "tresh_hold_df.to_csv('classes.csv', sep=';')"
   ],
   "metadata": {
    "collapsed": false,
    "pycharm": {
     "name": "#%%\n"
    }
   }
  },
  {
   "cell_type": "code",
   "execution_count": null,
   "outputs": [],
   "source": [
    "\n",
    "\n",
    "def create_folder(path):\n",
    "    try:\n",
    "        os.makedirs(path)\n",
    "    except FileExistsError:\n",
    "        print(\"directory already exists\")\n",
    "        pass\n",
    "    return None\n",
    "\n",
    "create_folder(\"/Users/raphaelkronberg/PycharmProjects/deeploki/data/loki\")"
   ],
   "metadata": {
    "collapsed": false,
    "pycharm": {
     "name": "#%%\n"
    }
   }
  },
  {
   "cell_type": "code",
   "execution_count": null,
   "outputs": [],
   "source": [
    "folders_to_create = ['train', 'val', 'test']"
   ],
   "metadata": {
    "collapsed": false,
    "pycharm": {
     "name": "#%%\n"
    }
   }
  },
  {
   "cell_type": "code",
   "execution_count": null,
   "outputs": [],
   "source": [
    "classes = list(tresh_hold_df['id'])\n",
    "classes"
   ],
   "metadata": {
    "collapsed": false,
    "pycharm": {
     "name": "#%%\n"
    }
   }
  },
  {
   "cell_type": "code",
   "execution_count": null,
   "outputs": [],
   "source": [
    "def is_in_df(key):\n",
    "    if str(key) in list(tresh_hold_df['id']):\n",
    "        ret = True\n",
    "    else:\n",
    "        ret = False\n",
    "    return ret\n",
    "print(list(tresh_hold_df['id']))"
   ],
   "metadata": {
    "collapsed": false,
    "pycharm": {
     "name": "#%%\n"
    }
   }
  },
  {
   "cell_type": "code",
   "execution_count": null,
   "outputs": [],
   "source": [
    "from sklearn.model_selection import train_test_split\n",
    "df = data_table\n",
    "print(df.shape)\n",
    "print(df.columns)\n",
    "df['select'] = df['labels'].apply(is_in_df)\n",
    "df = df[df['select']]\n",
    "print(df.shape)\n",
    "train, temp = train_test_split(df, test_size=0.2, train_size=0.8, random_state=42, shuffle=True, stratify=df['labels'])\n",
    "val, test = train_test_split(temp, test_size=0.5, random_state=42, shuffle=True)\n",
    "print(train.shape, test.shape, val.shape)"
   ],
   "metadata": {
    "collapsed": false,
    "pycharm": {
     "name": "#%%\n"
    }
   }
  },
  {
   "cell_type": "code",
   "execution_count": null,
   "outputs": [],
   "source": [
    "val.head()"
   ],
   "metadata": {
    "collapsed": false,
    "pycharm": {
     "name": "#%%\n"
    }
   }
  },
  {
   "cell_type": "code",
   "execution_count": null,
   "outputs": [],
   "source": [
    "train['select']= 'train'\n",
    "test['select']='test'\n",
    "val['select']=\"val\"\n",
    "train.head(5)"
   ],
   "metadata": {
    "collapsed": false,
    "pycharm": {
     "name": "#%%\n"
    }
   }
  },
  {
   "cell_type": "code",
   "execution_count": null,
   "outputs": [],
   "source": [
    "dfdf = pd.read_csv('classes.csv', sep=';')\n",
    "print(dfdf.head(5))\n",
    "id_to_cla = {row[\"id\"]: row[\"class\"] for index, row in dfdf.iterrows()}\n",
    "for kii,vii in id_to_cla.items():\n",
    "    print(type(kii))"
   ],
   "metadata": {
    "collapsed": false,
    "pycharm": {
     "name": "#%%\n"
    }
   }
  },
  {
   "cell_type": "code",
   "execution_count": null,
   "outputs": [],
   "source": [
    "df_train_val_test = pd.concat([train, val, test])"
   ],
   "metadata": {
    "collapsed": false,
    "pycharm": {
     "name": "#%%\n"
    }
   }
  },
  {
   "cell_type": "code",
   "execution_count": null,
   "outputs": [],
   "source": [
    "df_train_val_test.head()"
   ],
   "metadata": {
    "collapsed": false,
    "pycharm": {
     "name": "#%%\n"
    }
   }
  },
  {
   "cell_type": "code",
   "execution_count": null,
   "outputs": [],
   "source": [
    "def applydict_class(key):\n",
    "    try:\n",
    "        ret = id_to_cla[int(key)]\n",
    "        #print(type(key))\n",
    "    except Exception as err:\n",
    "        #print(type(key))\n",
    "        print(err)\n",
    "        ret = 'noname found'\n",
    "    return ret\n",
    "df_train_val_test['class'] = df_train_val_test['labels'].apply(applydict_class)\n",
    "df_train_val_test.head()\n",
    "print(list(set(list(df_train_val_test['class']))))"
   ],
   "metadata": {
    "collapsed": false,
    "pycharm": {
     "name": "#%%\n"
    }
   }
  },
  {
   "cell_type": "code",
   "execution_count": null,
   "outputs": [],
   "source": [
    "df_train_val_test.shape"
   ],
   "metadata": {
    "collapsed": false,
    "pycharm": {
     "name": "#%%\n"
    }
   }
  },
  {
   "cell_type": "code",
   "execution_count": null,
   "outputs": [],
   "source": [
    "img_to_cl = {row[\"image\"]: row[\"class\"] for index, row in df_train_val_test.iterrows()}\n",
    "img_to_fl = {row[\"image\"]: row[\"select\"] for index, row in df_train_val_test.iterrows()}"
   ],
   "metadata": {
    "collapsed": false,
    "pycharm": {
     "name": "#%%\n"
    }
   }
  },
  {
   "cell_type": "code",
   "execution_count": null,
   "outputs": [],
   "source": [
    "all_class = list(set(df_train_val_test['class']))\n",
    "print(len(all_class))"
   ],
   "metadata": {
    "collapsed": false,
    "pycharm": {
     "name": "#%%\n"
    }
   }
  },
  {
   "cell_type": "code",
   "execution_count": null,
   "outputs": [],
   "source": [
    "for tvt in folders_to_create:\n",
    "    for id in all_class:\n",
    "        path = f\"/Users/raphaelkronberg/PycharmProjects/deeploki/data/loki_subclasses/{tvt}/{id}\"\n",
    "        create_folder(path)"
   ],
   "metadata": {
    "collapsed": false,
    "pycharm": {
     "name": "#%%\n"
    }
   }
  },
  {
   "cell_type": "code",
   "execution_count": null,
   "outputs": [],
   "source": [
    "import shutil\n",
    "\n",
    "for root, dirs, files in os.walk(\"/Users/raphaelkronberg/Downloads/export_939_20220910_0950\"):\n",
    "    for name in files:\n",
    "        if name.endswith('.png'):\n",
    "            try:\n",
    "                temp_class = img_to_cl[name]\n",
    "                temp_folder = img_to_fl[name]\n",
    "            except Exception as err:\n",
    "                print('Not in Pool')\n",
    "            temp_path = f\"/Users/raphaelkronberg/PycharmProjects/deeploki/data/loki_subclasses/{temp_folder}/{temp_class}\"\n",
    "            src_file = os.path.join(root, name)\n",
    "            #shutil.copy(src_file, temp_path)"
   ],
   "metadata": {
    "collapsed": false,
    "pycharm": {
     "name": "#%%\n"
    }
   }
  },
  {
   "cell_type": "code",
   "execution_count": null,
   "outputs": [],
   "source": [
    "to_concat_df = []\n",
    "for cls in all_class:\n",
    "    print(len(classes))\n",
    "    to_concat_df.append(data_table[data_table[\"labels\"]==cls][:300])\n",
    "data_table_small =pd.concat(to_concat_df)"
   ],
   "metadata": {
    "collapsed": false,
    "pycharm": {
     "name": "#%%\n"
    }
   }
  },
  {
   "cell_type": "code",
   "execution_count": null,
   "outputs": [],
   "source": [],
   "metadata": {
    "collapsed": false,
    "pycharm": {
     "name": "#%%\n"
    }
   }
  },
  {
   "cell_type": "code",
   "execution_count": null,
   "outputs": [],
   "source": [
    "data_table_small"
   ],
   "metadata": {
    "collapsed": false,
    "pycharm": {
     "name": "#%%\n"
    }
   }
  },
  {
   "cell_type": "code",
   "execution_count": null,
   "outputs": [],
   "source": [
    "from sklearn.model_selection import train_test_split\n",
    "df = data_table_small\n",
    "print(df.shape)\n",
    "print(df.columns)\n",
    "df['select'] = df['labels'].apply(is_in_df)\n",
    "df = df[df['select']]\n",
    "print(df.shape)\n",
    "train, temp = train_test_split(df, test_size=0.2, train_size=0.8, random_state=42, shuffle=True, stratify=df['labels'])\n",
    "val, test = train_test_split(temp, test_size=0.5, random_state=42, shuffle=True)\n",
    "print(train.shape, test.shape, val.shape)"
   ],
   "metadata": {
    "collapsed": false,
    "pycharm": {
     "name": "#%%\n"
    }
   }
  },
  {
   "cell_type": "code",
   "execution_count": null,
   "outputs": [],
   "source": [
    "train['select']= 'train'\n",
    "test['select']='test'\n",
    "val['select']=\"val\""
   ],
   "metadata": {
    "collapsed": false,
    "pycharm": {
     "name": "#%%\n"
    }
   }
  },
  {
   "cell_type": "markdown",
   "source": [],
   "metadata": {
    "collapsed": false,
    "pycharm": {
     "name": "#%% md\n"
    }
   }
  },
  {
   "cell_type": "code",
   "execution_count": null,
   "outputs": [],
   "source": [
    "df_train_val_test_simple = pd.concat([train, val, test])\n",
    "df_train_val_test_simple.shape\n"
   ],
   "metadata": {
    "collapsed": false,
    "pycharm": {
     "name": "#%%\n"
    }
   }
  },
  {
   "cell_type": "code",
   "execution_count": null,
   "outputs": [],
   "source": [
    "img_to_cl2 = {row[\"image\"]: row[\"labels\"] for index, row in df_train_val_test_simple.iterrows()}\n",
    "img_to_fl2 = {row[\"image\"]: row[\"select\"] for index, row in df_train_val_test_simple.iterrows()}\n",
    "len(img_to_cl2)\n",
    "len(img_to_fl2)"
   ],
   "metadata": {
    "collapsed": false,
    "pycharm": {
     "name": "#%%\n"
    }
   }
  },
  {
   "cell_type": "code",
   "execution_count": null,
   "outputs": [],
   "source": [
    "import shutil\n",
    "\n",
    "for root, dirs, files in os.walk(\"/Users/raphaelkronberg/Downloads/export_939_20220910_0950\"):\n",
    "    for name in files:\n",
    "        if name.endswith('.png'):\n",
    "            try:\n",
    "                temp_class = img_to_cl2[name]\n",
    "                temp_folder = img_to_fl2[name]\n",
    "                print(temp_class, temp_folder)\n",
    "            except Exception as err:\n",
    "                pass\n",
    "                #print('Not in Pool')\n",
    "            temp_path = f\"/Users/raphaelkronberg/PycharmProjects/deeploki/data/loki_small/{temp_folder}/{temp_class}\"\n",
    "            src_file = os.path.join(root, name)\n",
    "            #print(temp_path)\n",
    "            #shutil.copy(src_file, temp_path)\n",
    "print(('end'))"
   ],
   "metadata": {
    "collapsed": false,
    "pycharm": {
     "name": "#%%\n"
    }
   }
  },
  {
   "cell_type": "code",
   "execution_count": null,
   "outputs": [],
   "source": [],
   "metadata": {
    "collapsed": false,
    "pycharm": {
     "name": "#%%\n"
    }
   }
  }
 ],
 "metadata": {
  "kernelspec": {
   "display_name": "Python 3",
   "language": "python",
   "name": "python3"
  },
  "language_info": {
   "codemirror_mode": {
    "name": "ipython",
    "version": 2
   },
   "file_extension": ".py",
   "mimetype": "text/x-python",
   "name": "python",
   "nbconvert_exporter": "python",
   "pygments_lexer": "ipython2",
   "version": "2.7.6"
  }
 },
 "nbformat": 4,
 "nbformat_minor": 0
}