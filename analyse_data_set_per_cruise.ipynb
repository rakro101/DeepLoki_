{
 "cells": [
  {
   "cell_type": "code",
   "execution_count": null,
   "metadata": {
    "collapsed": true,
    "pycharm": {
     "name": "#%%\n"
    }
   },
   "outputs": [],
   "source": [
    "import pandas as pd\n",
    "import numpy as np"
   ]
  },
  {
   "cell_type": "code",
   "execution_count": null,
   "outputs": [],
   "source": [
    "df_abt = pd.read_csv(\"output/allcruises_df_validated_5with_zoomie.csv\")"
   ],
   "metadata": {
    "collapsed": false,
    "pycharm": {
     "name": "#%%\n"
    }
   }
  },
  {
   "cell_type": "code",
   "execution_count": null,
   "outputs": [],
   "source": [
    "df_abt_99 =df_abt[df_abt[\"object_cruise\"] == \"PS99.2\"]\n",
    "df_abt_106 =df_abt[df_abt[\"object_cruise\"] == \"PS106.2\"]\n",
    "df_abt_107 =df_abt[df_abt[\"object_cruise\"] == \"PS107\"]\n",
    "df_abt_114 =df_abt[df_abt[\"object_cruise\"] == \"PS114\"]\n",
    "df_abt_122 =df_abt[df_abt[\"object_cruise\"].isin(['PS122', 'PS122-2', 'PS122.1', 'PS122.2'])]"
   ],
   "metadata": {
    "collapsed": false,
    "pycharm": {
     "name": "#%%\n"
    }
   }
  },
  {
   "cell_type": "code",
   "execution_count": null,
   "outputs": [],
   "source": [
    "all_cls = list(np.unique(df_abt[\"label\"]))"
   ],
   "metadata": {
    "collapsed": false,
    "pycharm": {
     "name": "#%%\n"
    }
   }
  },
  {
   "cell_type": "code",
   "execution_count": null,
   "outputs": [],
   "source": [
    "dl_99 = df_abt_99[[\"label\",\"count\"]].groupby(\"label\").sum()\n",
    "dl_106 = df_abt_106[[\"label\",\"count\"]].groupby(\"label\").sum()\n",
    "dl_107 = df_abt_107[[\"label\",\"count\"]].groupby(\"label\").sum()\n",
    "dl_114 = df_abt_114[[\"label\",\"count\"]].groupby(\"label\").sum()\n",
    "dl_122 = df_abt_122[[\"label\",\"count\"]].groupby(\"label\").sum()"
   ],
   "metadata": {
    "collapsed": false,
    "pycharm": {
     "name": "#%%\n"
    }
   }
  },
  {
   "cell_type": "code",
   "execution_count": null,
   "outputs": [],
   "source": [
    "for i in [dl_99, dl_106, dl_107, dl_114, dl_122]:\n",
    "    print(len(i))\n",
    "temp = dl_106.join(dl_99, on=\"label\", rsuffix='_99')\n",
    "temp = temp.join(dl_107, on=\"label\", rsuffix='_107')\n",
    "temp = temp.join(dl_114, on=\"label\", rsuffix='_114')\n",
    "temp = temp.join(dl_122, on=\"label\",lsuffix='_106', rsuffix='_122')\n",
    "temp['sum'] = temp[['count_106', 'count_99', 'count_107', 'count_114', 'count_122']].sum(axis=1)\n",
    "temp.to_csv(\"paper/tables/statistics_over_cruises.csv\", sep=\";\")"
   ],
   "metadata": {
    "collapsed": false,
    "pycharm": {
     "name": "#%%\n"
    }
   }
  },
  {
   "cell_type": "code",
   "execution_count": null,
   "outputs": [],
   "source": [
    "for df in [df_abt_99, df_abt_106, df_abt_107, df_abt_114, df_abt_122]:\n",
    "    #print(df[\"object_cruise\"].values[0])\n",
    "    df = df[[\"label\", \"count\"]]\n",
    "    df=df.groupby(\"label\").sum()\n",
    "    sum1 = df.sum().item()\n",
    "    df[\"count\"] =df[\"count\"]/sum1\n",
    "    #print(df.sum().item())\n",
    "    df.plot.bar(width=1.0,figsize=(20, 10))\n",
    "    #print(df)"
   ],
   "metadata": {
    "collapsed": false,
    "pycharm": {
     "name": "#%%\n"
    }
   }
  },
  {
   "cell_type": "code",
   "execution_count": null,
   "outputs": [],
   "source": [],
   "metadata": {
    "collapsed": false,
    "pycharm": {
     "name": "#%%\n"
    }
   }
  }
 ],
 "metadata": {
  "kernelspec": {
   "display_name": "Python 3",
   "language": "python",
   "name": "python3"
  },
  "language_info": {
   "codemirror_mode": {
    "name": "ipython",
    "version": 2
   },
   "file_extension": ".py",
   "mimetype": "text/x-python",
   "name": "python",
   "nbconvert_exporter": "python",
   "pygments_lexer": "ipython2",
   "version": "2.7.6"
  }
 },
 "nbformat": 4,
 "nbformat_minor": 0
}