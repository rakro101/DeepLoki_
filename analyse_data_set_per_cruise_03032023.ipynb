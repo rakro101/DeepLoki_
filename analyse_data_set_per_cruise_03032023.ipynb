{
 "cells": [
  {
   "cell_type": "code",
   "execution_count": null,
   "metadata": {
    "collapsed": true,
    "pycharm": {
     "name": "#%%\n"
    }
   },
   "outputs": [],
   "source": [
    "import pandas as pd\n",
    "import numpy as np"
   ]
  },
  {
   "cell_type": "code",
   "execution_count": null,
   "outputs": [],
   "source": [
    "#df_abt = pd.read_csv(\"output/allcruises_df_validated_5with_zoomie.csv\")\n",
    "df_abt = pd.read_csv('output/update_allcruises_df_validated_5with_zoomie_20230303.csv')\n",
    "df_abt =df_abt[df_abt[\"label\"] != \"Artefact\"]\n",
    "#test = pd.read_csv(\"output/update_wo_artefacts_test_dataset_PS992_03032023.csv\")\n",
    "test = pd.read_csv(\"output/update_wo_artefacts_test_dataset_PS992_03032023_nicole.csv\")"
   ],
   "metadata": {
    "collapsed": false,
    "pycharm": {
     "name": "#%%\n"
    }
   }
  },
  {
   "cell_type": "code",
   "execution_count": null,
   "outputs": [],
   "source": [
    "df_abt_tv =df_abt[df_abt[\"object_cruise\"] != \"PS99.2\"]\n",
    "df_abt_tv_S = df_abt_tv[[\"label\",\"count\"]].groupby(\"label\").sum()\n",
    "df_abt_t_S = test[[\"label\",\"count\"]].groupby(\"label\").sum()\n",
    "df_abt_tv_S = df_abt_tv_S.rename(columns={\"count\": \"train_val\"})\n",
    "df_abt_t_S =df_abt_t_S.rename(columns={\"count\": \"test\"})\n",
    "df_plot = df_abt_tv_S.join(df_abt_t_S, on=\"label\")\n",
    "df_plot.to_csv(\"paper/tables/train_val_test.csv\", sep=\";\")"
   ],
   "metadata": {
    "collapsed": false,
    "pycharm": {
     "name": "#%%\n"
    }
   }
  },
  {
   "cell_type": "code",
   "execution_count": null,
   "outputs": [],
   "source": [
    "df_abt_99 =test[test[\"object_cruise\"] == \"PS99.2\"]\n",
    "df_abt_106 =df_abt[df_abt[\"object_cruise\"] == \"PS106.2\"]\n",
    "df_abt_107 =df_abt[df_abt[\"object_cruise\"] == \"PS107\"]\n",
    "df_abt_114 =df_abt[df_abt[\"object_cruise\"] == \"PS114\"]\n",
    "df_abt_122 =df_abt[df_abt[\"object_cruise\"].isin(['PS122', 'PS122-2', 'PS122.1', 'PS122.2'])]"
   ],
   "metadata": {
    "collapsed": false,
    "pycharm": {
     "name": "#%%\n"
    }
   }
  },
  {
   "cell_type": "code",
   "execution_count": null,
   "outputs": [],
   "source": [
    "all_cls = list(np.unique(df_abt[\"label\"]))"
   ],
   "metadata": {
    "collapsed": false,
    "pycharm": {
     "name": "#%%\n"
    }
   }
  },
  {
   "cell_type": "code",
   "execution_count": null,
   "outputs": [],
   "source": [
    "dl_99 = df_abt_99[[\"label\",\"count\"]].groupby(\"label\").sum()\n",
    "dl_106 = df_abt_106[[\"label\",\"count\"]].groupby(\"label\").sum()\n",
    "dl_107 = df_abt_107[[\"label\",\"count\"]].groupby(\"label\").sum()\n",
    "dl_114 = df_abt_114[[\"label\",\"count\"]].groupby(\"label\").sum()\n",
    "dl_122 = df_abt_122[[\"label\",\"count\"]].groupby(\"label\").sum()"
   ],
   "metadata": {
    "collapsed": false,
    "pycharm": {
     "name": "#%%\n"
    }
   }
  },
  {
   "cell_type": "code",
   "execution_count": null,
   "outputs": [],
   "source": [
    "for i in [dl_99, dl_106, dl_107, dl_114, dl_122]:\n",
    "    print(len(i))\n",
    "temp = dl_106.join(dl_99, on=\"label\", rsuffix='_99')\n",
    "temp = temp.join(dl_107, on=\"label\", rsuffix='_107')\n",
    "temp = temp.join(dl_114, on=\"label\", rsuffix='_114')\n",
    "temp = temp.join(dl_122, on=\"label\",lsuffix='_106', rsuffix='_122')\n",
    "temp['sum'] = temp[['count_106', 'count_99', 'count_107', 'count_114', 'count_122']].sum(axis=1)\n",
    "temp.to_csv(\"paper/tables/statistics_over_cruises.csv\", sep=\";\")"
   ],
   "metadata": {
    "collapsed": false,
    "pycharm": {
     "name": "#%%\n"
    }
   }
  },
  {
   "cell_type": "code",
   "execution_count": null,
   "outputs": [],
   "source": [
    "from matplotlib import pyplot as plt\n",
    "fig, axes = plt.subplots(nrows=5, ncols=1)\n",
    "cruises = [\"PS99.2\", \"PS106.2\", \"PS107\", \"PS114\", \"PS122\"]\n",
    "for index, df in enumerate([df_abt_99, df_abt_106, df_abt_107, df_abt_114, df_abt_122]):\n",
    "    #print(df[\"object_cruise\"].values[0])\n",
    "    df = df[[\"label\", \"count\"]]\n",
    "    df=df.groupby(\"label\").sum()\n",
    "    sum1 = df.sum().item()\n",
    "    df[\"count\"] =df[\"count\"]/sum1\n",
    "    #print(df.sum().item())\n",
    "    df.plot(ax =axes[index],  width=1.0, figsize=(25, 50), kind='bar')\n",
    "    axes[index].set_ylabel('Number of Sample in % of total Samples')\n",
    "    axes[index].set_title(f'{cruises[index]} #Samples={sum1}')\n",
    "plt.tight_layout()\n",
    "plt.savefig(f'paper/figures/CruiseStats.jpg')"
   ],
   "metadata": {
    "collapsed": false,
    "pycharm": {
     "name": "#%%\n",
     "is_executing": true
    }
   }
  },
  {
   "cell_type": "code",
   "execution_count": null,
   "outputs": [],
   "source": [
    "from sklearn.metrics.pairwise import cosine_similarity\n",
    "a = df_abt_99[['label','count']].groupby('label').agg(sum)/df_abt_99[['label','count']].groupby('label').agg(sum).sum()\n",
    "b = df_abt_106[['label','count']].groupby('label').agg(sum)/df_abt_106[['label','count']].groupby('label').agg(sum).sum()\n",
    "c = df_abt_107[['label','count']].groupby('label').agg(sum)/df_abt_107[['label','count']].groupby('label').agg(sum).sum()\n",
    "d = df_abt_114[['label','count']].groupby('label').agg(sum)/df_abt_114[['label','count']].groupby('label').agg(sum).sum()\n",
    "e = df_abt_122[['label','count']].groupby('label').agg(sum)/df_abt_122[['label','count']].groupby('label').agg(sum).sum()\n",
    "\n",
    "#t = cosine_similarity(X=d.values, Y=c.values, dense_output=True)\n",
    "a_new = b.join(a, rsuffix='_PS99').drop('count', axis=1).fillna(0)\n",
    "c_new = b.join(c, rsuffix='_PS107').drop('count', axis=1).fillna(0)\n",
    "d_new = b.join(d, rsuffix='_PS114').drop('count', axis=1).fillna(0)\n",
    "e_new = b.join(e, rsuffix='_PS122').drop('count', axis=1).fillna(0)\n",
    "#t = cosine_similarity(X=a_new, Y=c_new, dense_output=True)\n",
    "b_new =b\n",
    "b_new = b_new.rename(columns={'count':'count_PS106'})\n",
    "b_new = b_new.join(a_new)\n",
    "b_new = b_new.join(c_new)\n",
    "b_new = b_new.join(d_new)\n",
    "b_new = b_new.join(e_new)\n",
    "b_new.corr()\n",
    "\n",
    "b_new['PS_train_val'] =  b_new['count_PS122'] + b_new['count_PS106'] + b_new['count_PS107'] +b_new['count_PS114']\n",
    "b_new['PS_all'] = b_new['count_PS122'] + b_new['count_PS106'] + b_new['count_PS107'] +b_new['count_PS114'] + b_new['count_PS99']\n",
    "#plt.imshow(b_new.corr())\n",
    "import numpy as np\n",
    "import seaborn as sns\n",
    "import matplotlib.pylab as plt\n",
    "\n",
    "ax = sns.heatmap(b_new.corr(), linewidth=0.5, cmap='viridis')\n",
    "#plt.show()\n",
    "plt.tight_layout()\n",
    "plt.savefig(f'paper/figures/HeatmapCorrelationLabelDistribution.jpg')\n",
    "plt.show()"
   ],
   "metadata": {
    "collapsed": false,
    "pycharm": {
     "name": "#%%\n"
    }
   }
  },
  {
   "cell_type": "code",
   "execution_count": null,
   "outputs": [],
   "source": [
    "b_new"
   ],
   "metadata": {
    "collapsed": false,
    "pycharm": {
     "name": "#%%\n"
    }
   }
  },
  {
   "cell_type": "code",
   "execution_count": null,
   "outputs": [],
   "source": [
    "import matplotlib.pyplot as plt\n",
    "# Pie chart\n",
    "from matplotlib import cm\n",
    "from matplotlib.colors import ListedColormap, LinearSegmentedColormap\n",
    "MEDIUM_SIZE = 18\n",
    "BIGGER_SIZE = 18\n",
    "SMALL_SIZE=18\n",
    "plt.rc('font', size=SMALL_SIZE)          # controls default text sizes\n",
    "plt.rc('axes', titlesize=SMALL_SIZE)     # fontsize of the axes title\n",
    "plt.rc('axes', labelsize=MEDIUM_SIZE)    # fontsize of the x and y labels\n",
    "plt.rc('xtick', labelsize=SMALL_SIZE)    # fontsize of the tick labels\n",
    "plt.rc('ytick', labelsize=SMALL_SIZE)    # fontsize of the tick labels\n",
    "plt.rc('legend', fontsize=BIGGER_SIZE)   # legend fontsize\n",
    "plt.rc('figure', titlesize=BIGGER_SIZE)  # fontsize of the figure title\n",
    "#r_new =  b_new[['count_PS99']].sort_values(\"count_PS99\")\n",
    "#r_plot = r_new[r_new['count_PS99']>= 0.00]\n",
    "#r_rest = r_new[r_new['count_PS99']<= 0.00]\n",
    "#print(r_rest.T)\n",
    "#print(r_rest.sum())\n",
    "#r_plot = r_plot.T\n",
    "#r_plot['other'] =r_rest.sum().values\n",
    "#r_plot = r_plot.T\n",
    "#r_plot = r_plot['count_PS99']\n",
    "#r_new.loc[r_new[['count_PS99']] < 0.05, 'label'] = 'rest'\n",
    "#r_new = r_new.groupby('label')['count_PS99'].sum().reset_index()\n",
    "b_new = b_new.sort_values(\"PS_all\").tail(10)\n",
    "print(b_new)\n",
    "labels = list(b_new.index)\n",
    "sizes = b_new['count_PS99'].values\n",
    "sizes0 = b_new['count_PS106'].values\n",
    "sizes1 =b_new['count_PS107'].values\n",
    "sizes2 =b_new['count_PS114'].values\n",
    "sizes3 =b_new['count_PS122'].values\n",
    "\n",
    "#colors\n",
    "colors = ['#ff9999','#66b3ff','#99ff99','#ffcc99']\n",
    "color_new = cm.get_cmap('rainbow', len(labels))\n",
    "newcolors = color_new(np.linspace(0, 1, len(labels)))\n",
    "\n",
    "fig1, ax1 = plt.subplots(figsize=(16,9))\n",
    "#ax1.pie(sizes, labels=labels, autopct='%1.1f%%', startangle=25)\n",
    "#ax1 = fig.add_axes([0,0,1,1])\n",
    "x = np.arange(len(labels))\n",
    "\n",
    "ax1.bar(x +0.00, height=sizes, color = 'black', width = 0.2)\n",
    "ax1.bar(x +0.20, height=sizes0, color = 'coral', width = 0.2)\n",
    "ax1.bar(x +0.40, height=sizes1, color = 'lightgreen', width = 0.2)\n",
    "ax1.bar(x +0.60, height=sizes2, color = 'steelblue', width = 0.2)\n",
    "ax1.bar(x +0.80, height=sizes3, color = 'plum', width = 0.2)\n",
    "\n",
    "plt.legend([\"count_PS99\", \"count_PS106\", \"count_PS107\", \"count_PS114\", \"count_PS122\"])\n",
    "#draw circle\n",
    "#centre_circle = plt.Circle((0,0),0.70,fc='white')\n",
    "#fig = plt.gcf()\n",
    "#fig.gca().add_artist(centre_circle)\n",
    "#ax1.set_title('HI')\n",
    "# Equal aspect ratio ensures that pie is drawn as a circle\n",
    "#ax1.axis('equal')\n",
    "#ax1.set_xticklabels(x, labels, rotation=90)\n",
    "plt.xticks(x, labels,rotation=90)\n",
    "plt.tight_layout(pad=3.95, w_pad=3.95, h_pad=3.0)\n",
    "plt.grid(visible=False)\n",
    "plt.show()"
   ],
   "metadata": {
    "collapsed": false,
    "pycharm": {
     "name": "#%%\n"
    }
   }
  },
  {
   "cell_type": "code",
   "execution_count": null,
   "outputs": [],
   "source": [],
   "metadata": {
    "collapsed": false,
    "pycharm": {
     "name": "#%%\n",
     "is_executing": true
    }
   }
  }
 ],
 "metadata": {
  "kernelspec": {
   "display_name": "Python 3",
   "language": "python",
   "name": "python3"
  },
  "language_info": {
   "codemirror_mode": {
    "name": "ipython",
    "version": 2
   },
   "file_extension": ".py",
   "mimetype": "text/x-python",
   "name": "python",
   "nbconvert_exporter": "python",
   "pygments_lexer": "ipython2",
   "version": "2.7.6"
  }
 },
 "nbformat": 4,
 "nbformat_minor": 0
}