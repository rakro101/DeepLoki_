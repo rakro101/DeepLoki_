{
 "cells": [
  {
   "cell_type": "code",
   "execution_count": null,
   "metadata": {
    "collapsed": true
   },
   "outputs": [],
   "source": [
    "import pandas as pd\n",
    "import numpy as np\n",
    "from matplotlib import pyplot as plt\n",
    "import os\n",
    "from PIL import Image\n",
    "def is122(col):\n",
    "    if col in [\"PS122.1\", \"PS122.2\", \"PS122-2\"]:\n",
    "        return \"PS122\"\n",
    "    else:\n",
    "        return col"
   ]
  },
  {
   "cell_type": "code",
   "execution_count": null,
   "outputs": [],
   "source": [
    "#df_abt = pd.read_csv(\"output/allcruises_df_validated_5with_zoomie.csv\")\n",
    "df_wo99 = pd.read_csv('output/update_allcruises_df_validated_5with_zoomie_20230727.csv', sep=\";\")\n",
    "df_wo99 = df_wo99[df_wo99[\"object_cruise\"] != \"PS99.2\"]\n",
    "df_wo99 = df_wo99[df_wo99[\"label\"] != \"Artefact\"]\n",
    "\n",
    "df_wo99[\"object_cruise\"] =df_wo99[\"object_cruise\"].apply(is122)\n",
    "df99 = pd.read_csv(\"output/update_wo_artefacts_test_dataset_PS992_20230727_nicole.csv\", sep=\";\")\n",
    "df99 = df99[df99[\"label\"] != \"Artefact\"]  # remove artefact\n",
    "\n",
    "df_all=pd.concat([df_wo99, df99])\n",
    "df_abt =df_all\n"
   ],
   "metadata": {
    "collapsed": false
   }
  },
  {
   "cell_type": "code",
   "execution_count": null,
   "outputs": [],
   "source": [
    "label_list = np.unique(df_abt.label)\n",
    "image_root = df_abt['root_path'].values\n",
    "image_path = df_abt['img_file_name'].values\n",
    "\n",
    "def get_only_class(df,label_index):\n",
    "    df_class = df[df['label']== label_list[label_index]]\n",
    "    return df_class\n",
    "\n",
    "def return_img(item, df):\n",
    "    temp_image_root = df['root_path'].values\n",
    "    temp_image_path = df['img_file_name'].values\n",
    "    img_path = os.path.join(temp_image_root[item], temp_image_path[item])\n",
    "    image = Image.open(img_path).convert('RGB')\n",
    "    image = image.resize((600,600))\n",
    "    return image\n",
    "\n",
    "#label_list[0]"
   ],
   "metadata": {
    "collapsed": false
   }
  },
  {
   "cell_type": "code",
   "execution_count": null,
   "outputs": [],
   "source": [
    "import matplotlib.pyplot as plt\n",
    "import numpy as np\n",
    "\n",
    "fig = plt.figure(figsize=(8*(5+1),8*(8+1)), facecolor='white')\n",
    "sed =2\n",
    "np.random.seed(sed)\n",
    "\n",
    "for i in range(33):\n",
    "    ax = fig.add_subplot(8,5,i+1, xticks=[], yticks=[])\n",
    "    temp_label = label_list[i].replace(\"_\", \"\\n\", 1).replace(\"_\", \"\\n\", 1)\n",
    "    ax.set_title(f'{temp_label}', wrap=True, fontweight=\"bold\", fontsize=58)\n",
    "    ax.imshow(return_img(np.random.randint(50), get_only_class(df_abt, i)))\n",
    "\n",
    "# Adjust subplot spacing\n",
    "fig.subplots_adjust(hspace=0.5, wspace=0.75)\n",
    "\n",
    "plt.show()\n",
    "fig.tight_layout()\n",
    "\n",
    "save_path_temp = 'paper/figures/' + f'000new_matrix_class_view_20230727_{sed}.jpg'\n",
    "fig.savefig(save_path_temp, dpi=300, bbox_inches='tight')"
   ],
   "metadata": {
    "collapsed": false
   }
  },
  {
   "cell_type": "code",
   "execution_count": null,
   "outputs": [],
   "source": [
    "#fig = plt.figure(figsize=(8*(7+3),8*(5+3)),facecolor='white')\n",
    "#np.random.seed(12345)\n",
    "#for i in range(35):\n",
    "#    ax = fig.add_subplot(5,7,i+1, xticks=[], yticks=[],)\n",
    "#    temp_label = label_list[i].replace(\"_\",\"\\n\")\n",
    "#    ax.set_title(f'{temp_label}',wrap=True, fontweight=\"bold\", fontsize=55)\n",
    "#    ax.imshow(return_img(np.random.randint(50),get_only_class(df_abt,i)))\n",
    "#plt.show()\n",
    "#fig.tight_layout()\n",
    "#save_path_temp ='paper/figures/'+f'new_matrix_class_view.png'\n",
    "#fig.savefig(save_path_temp, dpi=300, bbox_inches='tight')"
   ],
   "metadata": {
    "collapsed": false
   }
  },
  {
   "cell_type": "code",
   "execution_count": null,
   "outputs": [],
   "source": [
    "#import matplotlib.pyplot as plt\n",
    "#import numpy as np\n",
    "\n",
    "#fig = plt.figure(figsize=(8*(7+3),8*(5+3)), facecolor='white')\n",
    "#np.random.seed(12345)\n",
    "\n",
    "#for i in range(35):\n",
    "#    ax = fig.add_subplot(5,7,i+1, xticks=[], yticks=[])\n",
    "#    temp_label = label_list[i].replace(\"_\", \"\\n\", 1).replace(\"_\", \" \", 1)\n",
    "#    ax.set_title(f'{temp_label}', wrap=True, fontweight=\"bold\", fontsize=55)\n",
    "#    ax.imshow(return_img(np.random.randint(50), get_only_class(df_abt, i)))\n",
    "\n",
    "#plt.show()\n",
    "#fig.tight_layout()\n",
    "\n",
    "#save_path_temp = 'paper/figures/' + f'0new_matrix_class_view.png'\n",
    "#fig.savefig(save_path_temp, dpi=300, bbox_inches='tight')"
   ],
   "metadata": {
    "collapsed": false
   }
  },
  {
   "cell_type": "code",
   "execution_count": null,
   "outputs": [],
   "source": [
    "import pandas as pd"
   ],
   "metadata": {
    "collapsed": false
   }
  },
  {
   "cell_type": "code",
   "execution_count": null,
   "outputs": [],
   "source": [],
   "metadata": {
    "collapsed": false
   }
  },
  {
   "cell_type": "code",
   "execution_count": null,
   "outputs": [],
   "source": [
    "import matplotlib.pyplot as plt\n",
    "import numpy as np\n",
    "\n",
    "fig = plt.figure(figsize=(8*(5+1),8*(8+1)), facecolor='white')\n",
    "sed =2\n",
    "np.random.seed(sed)\n",
    "\n",
    "import os\n",
    "import glob\n",
    "\n",
    "# Path to the folder containing the images\n",
    "folder_path = 'data/loki_images'\n",
    "\n",
    "# List of valid image file extensions\n",
    "image_extensions = ['jpg', 'jpeg', 'png', 'gif', 'bmp']\n",
    "\n",
    "# Using os.listdir to list all files in the folder\n",
    "image_paths = [os.path.join(folder_path, file) for file in os.listdir(folder_path) if file.lower().split('.')[-1] in image_extensions]\n",
    "\n",
    "# Alternatively, using glob to directly filter by extensions\n",
    "# image_paths = glob.glob(os.path.join(folder_path, '*.[jJ][pP][gG]')) + glob.glob(os.path.join(folder_path, '*.[pP][nN][gG]')) + ...\n",
    "\n",
    "print(image_paths)\n",
    "image_paths.sort()\n",
    "print(image_paths)\n",
    "label_list.sort()\n",
    "print(label_list)\n",
    "for i, img in enumerate(image_paths):\n",
    "    ax = fig.add_subplot(8,5,i+1, xticks=[], yticks=[])\n",
    "    temp_label = image_paths[i].split(\"/\")[-1].split(\".\")[0].replace(\"_\", \"\\n\", 1).replace(\"_\", \"\\n\", 1)\n",
    "    ax.set_title(f'{temp_label}', wrap=True, fontweight=\"bold\", fontsize=58)\n",
    "    img_path = img\n",
    "    image = Image.open(img_path).convert('RGB')\n",
    "    image = image.resize((600,600))\n",
    "    ax.imshow(image)\n",
    "\n",
    "# Adjust subplot spacing\n",
    "fig.subplots_adjust(hspace=0.5, wspace=0.75)\n",
    "\n",
    "plt.show()\n",
    "fig.tight_layout()\n",
    "\n",
    "save_path_temp = 'paper/figures/' + f'000new_matrix_class_view_20230727_Barbara_selection.jpg'\n",
    "fig.savefig(save_path_temp, dpi=300, bbox_inches='tight')"
   ],
   "metadata": {
    "collapsed": false
   }
  },
  {
   "cell_type": "markdown",
   "source": [],
   "metadata": {
    "collapsed": false
   }
  }
 ],
 "metadata": {
  "kernelspec": {
   "display_name": "Python 3",
   "language": "python",
   "name": "python3"
  },
  "language_info": {
   "codemirror_mode": {
    "name": "ipython",
    "version": 2
   },
   "file_extension": ".py",
   "mimetype": "text/x-python",
   "name": "python",
   "nbconvert_exporter": "python",
   "pygments_lexer": "ipython2",
   "version": "2.7.6"
  }
 },
 "nbformat": 4,
 "nbformat_minor": 0
}
