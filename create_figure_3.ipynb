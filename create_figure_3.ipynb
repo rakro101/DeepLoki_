{
 "cells": [
  {
   "cell_type": "code",
   "execution_count": null,
   "metadata": {
    "collapsed": true,
    "pycharm": {
     "name": "#%%\n"
    }
   },
   "outputs": [],
   "source": [
    "import pandas as pd\n",
    "import numpy as np\n",
    "from matplotlib import pyplot as plt\n",
    "import os\n",
    "from PIL import Image"
   ]
  },
  {
   "cell_type": "code",
   "execution_count": null,
   "outputs": [],
   "source": [
    "df_abt = pd.read_csv(\"output/allcruises_df_validated_5with_zoomie.csv\")"
   ],
   "metadata": {
    "collapsed": false,
    "pycharm": {
     "name": "#%%\n"
    }
   }
  },
  {
   "cell_type": "code",
   "execution_count": null,
   "outputs": [],
   "source": [
    "label_list = np.unique(df_abt.label)\n",
    "image_root = df_abt['root_path'].values\n",
    "image_path = df_abt['img_file_name'].values\n",
    "\n",
    "def get_only_class(df,label_index):\n",
    "    df_class = df[df['label']== label_list[label_index]]\n",
    "    return df_class\n",
    "\n",
    "def return_img(item, df):\n",
    "    temp_image_root = df['root_path'].values\n",
    "    temp_image_path = df['img_file_name'].values\n",
    "    img_path = os.path.join(temp_image_root[item], temp_image_path[item])\n",
    "    image = Image.open(img_path).convert('RGB')\n",
    "    image = image.resize((400,400))\n",
    "    return image\n",
    "\n",
    "label_list[0]"
   ],
   "metadata": {
    "collapsed": false,
    "pycharm": {
     "name": "#%%\n"
    }
   }
  },
  {
   "cell_type": "code",
   "execution_count": null,
   "outputs": [],
   "source": [
    "fig = plt.figure(figsize=(2*(9+2),2*(5+2)),facecolor='black')\n",
    "for i in range(43):\n",
    "    ax = fig.add_subplot(5,9,i+1, xticks=[], yticks=[],)\n",
    "    temp_label = label_list[i].replace(\"_\",\"\\n\")\n",
    "    ax.set_title(f'{temp_label}',wrap=True)\n",
    "    ax.imshow(return_img(np.random.randint(50),get_only_class(df_abt,i)))\n",
    "    #ax.set_facecolor(\"black\")\n",
    "ax = fig.add_subplot(5,9,44, xticks=[], yticks=[],)\n",
    "#ax.set_facecolor(\"black\")\n",
    "ax.remove()\n",
    "ax = fig.add_subplot(5,9,45, xticks=[], yticks=[],)\n",
    "#ax.set_facecolor(\"black\")\n",
    "ax.remove()\n",
    "fig.tight_layout()\n",
    "save_path_temp ='paper/figures/'+f'matrix_class_view.png'\n",
    "fig.savefig(save_path_temp, dpi=300, bbox_inches='tight')"
   ],
   "metadata": {
    "collapsed": false,
    "pycharm": {
     "name": "#%%\n"
    }
   }
  },
  {
   "cell_type": "code",
   "execution_count": null,
   "outputs": [],
   "source": [],
   "metadata": {
    "collapsed": false,
    "pycharm": {
     "name": "#%%\n"
    }
   }
  }
 ],
 "metadata": {
  "kernelspec": {
   "display_name": "Python 3",
   "language": "python",
   "name": "python3"
  },
  "language_info": {
   "codemirror_mode": {
    "name": "ipython",
    "version": 2
   },
   "file_extension": ".py",
   "mimetype": "text/x-python",
   "name": "python",
   "nbconvert_exporter": "python",
   "pygments_lexer": "ipython2",
   "version": "2.7.6"
  }
 },
 "nbformat": 4,
 "nbformat_minor": 0
}