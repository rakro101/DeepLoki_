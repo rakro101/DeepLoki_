{
 "cells": [
  {
   "cell_type": "markdown",
   "source": [
    "# Cruise Overview"
   ],
   "metadata": {
    "collapsed": false
   }
  },
  {
   "cell_type": "code",
   "execution_count": null,
   "outputs": [],
   "source": [
    "import numpy as np\n",
    "import pandas as pd"
   ],
   "metadata": {
    "collapsed": false
   }
  },
  {
   "cell_type": "code",
   "execution_count": null,
   "outputs": [],
   "source": [
    "def is122(col):\n",
    "    if col in [\"PS122.1\", \"PS122.2\", \"PS122-2\"]:\n",
    "        return \"PS122\"\n",
    "    else:\n",
    "        return col"
   ],
   "metadata": {
    "collapsed": false
   }
  },
  {
   "cell_type": "code",
   "execution_count": null,
   "outputs": [],
   "source": [
    "#df_all = pd.read_csv(\"output/allcruises_df_validated.csv\")\n",
    "df_wo99 = pd.read_csv('output/update_allcruises_df_validated_5with_zoomie_20230303.csv')\n",
    "df_wo99 = df_wo99[df_wo99[\"object_cruise\"] != \"PS99.2\"]\n",
    "df_wo99 = df_wo99[df_wo99[\"label\"] != \"Artefact\"]\n",
    "\n",
    "df_wo99[\"object_cruise\"] =df_wo99[\"object_cruise\"].apply(is122)\n",
    "#df99 = pd.read_csv(\"output/update_wo_artefacts_test_dataset_PS992_03032023.csv\")\n",
    "df99 = pd.read_csv(\"output/update_wo_artefacts_test_dataset_PS992_03032023_nicole.csv\")\n",
    "df99 = df99[df99[\"label\"] != \"Artefact\"]  # remove artefact\n",
    "\n",
    "df_all=pd.concat([df_wo99, df99])\n",
    "df_all"
   ],
   "metadata": {
    "collapsed": false
   }
  },
  {
   "cell_type": "code",
   "execution_count": null,
   "outputs": [],
   "source": [
    "df_cruises = df_all.groupby(\"object_cruise\").agg(\"sum\")\n",
    "df_cruises[\"object_cruise\"] = df_cruises.index\n",
    "def calc_num_of_cls(cru):\n",
    "    return len(set(df_all[df_all[\"object_cruise\"] == cru]['label']))\n",
    "def calc_date_begin(cru):\n",
    "    return int(np.min(df_all[df_all[\"object_cruise\"] == cru]['object_date']))\n",
    "def calc_date_end(cru):\n",
    "    return int(np.max(df_all[df_all[\"object_cruise\"] == cru]['object_date']))\n",
    "df_cruises[\"classes\"] = df_cruises[\"object_cruise\"].apply(calc_num_of_cls)\n",
    "df_cruises[\"begin_date\"] = df_cruises[\"object_cruise\"].apply(calc_date_begin)\n",
    "df_cruises[\"end_date\"] = df_cruises[\"object_cruise\"].apply(calc_date_end)\n",
    "df_cruises_tab = df_cruises[[\"count\",\"classes\",\"begin_date\",\"end_date\"]]\n",
    "df_cruises_tab = df_cruises_tab.sort_values('begin_date')\n",
    "df_cruises_tab"
   ],
   "metadata": {
    "collapsed": false
   }
  },
  {
   "cell_type": "code",
   "execution_count": null,
   "outputs": [],
   "source": [
    "df_cruises_tab.to_csv(\"paper/tables/table1.csv\", sep=\";\")"
   ],
   "metadata": {
    "collapsed": false
   }
  },
  {
   "cell_type": "code",
   "execution_count": null,
   "outputs": [],
   "source": [],
   "metadata": {
    "collapsed": false
   }
  }
 ],
 "metadata": {
  "kernelspec": {
   "display_name": "Python 3",
   "language": "python",
   "name": "python3"
  },
  "language_info": {
   "codemirror_mode": {
    "name": "ipython",
    "version": 2
   },
   "file_extension": ".py",
   "mimetype": "text/x-python",
   "name": "python",
   "nbconvert_exporter": "python",
   "pygments_lexer": "ipython2",
   "version": "2.7.6"
  }
 },
 "nbformat": 4,
 "nbformat_minor": 0
}
