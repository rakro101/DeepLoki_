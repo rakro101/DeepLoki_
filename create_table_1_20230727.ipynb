{
 "cells": [
  {
   "cell_type": "markdown",
   "source": [
    "# Cruise Overview"
   ],
   "metadata": {
    "collapsed": false
   }
  },
  {
   "cell_type": "code",
   "execution_count": 1,
   "outputs": [],
   "source": [
    "import numpy as np\n",
    "import pandas as pd"
   ],
   "metadata": {
    "collapsed": false
   }
  },
  {
   "cell_type": "code",
   "execution_count": 2,
   "outputs": [],
   "source": [
    "def is122(col):\n",
    "    if col in [\"PS122.1\", \"PS122.2\", \"PS122-2\"]:\n",
    "        return \"PS122\"\n",
    "    else:\n",
    "        return col"
   ],
   "metadata": {
    "collapsed": false
   }
  },
  {
   "cell_type": "code",
   "execution_count": 3,
   "outputs": [
    {
     "data": {
      "text/plain": "['new_index',\n 'img_file_name',\n 'img_rank',\n 'object_id',\n 'object_lat',\n 'object_lon',\n 'object_date',\n 'object_time',\n 'object_link',\n 'object_depth_min',\n 'object_depth_max',\n 'object_annotation_status',\n 'object_annotation_person_name',\n 'object_annotation_person_email',\n 'object_annotation_date',\n 'object_annotation_time',\n 'object_annotation_category',\n 'object_annotation_category_id',\n 'object_index',\n 'object_haul',\n 'object_bottom_depth',\n 'object_pressure',\n 'object_temperature',\n 'object_salinity',\n 'object_conductivity',\n 'object_oxygen_concentration',\n 'object_temperature_oxsens',\n 'object_oxygen_saturation',\n 'object_dr._haardt_fluorescence_channel_a',\n 'object_area_px',\n 'object_form',\n 'object_area',\n 'object_length',\n 'object_width',\n 'object_convexity',\n 'object_structure',\n 'object_graymean',\n 'object_kurtosis',\n 'object_skewness',\n 'object_hu_moment_1',\n 'object_hu_moment_2',\n 'object_hu_moment_3',\n 'object_hu_moment_4',\n 'object_hu_moment_5',\n 'object_hu_moment_6',\n 'object_hu_moment_7',\n 'object_fourier_descriptor_01',\n 'object_fourier_descriptor_02',\n 'object_fourier_descriptor_03',\n 'object_fourier_descriptor_04',\n 'object_fourier_descriptor_05',\n 'object_fourier_descriptor_06',\n 'object_fourier_descriptor_07',\n 'object_fourier_descriptor_08',\n 'object_fourier_descriptor_09',\n 'object_fourier_descriptor_10',\n 'object_posx',\n 'object_posy',\n 'object_milliseconds',\n 'object_timestamp',\n 'object_lenght',\n 'object_zoomie_group_id',\n 'object_mc_width',\n 'object_mc_height',\n 'object_mc_bx',\n 'object_mc_by',\n 'object_mc_circ.',\n 'object_mc_area_exc',\n 'object_mc_area',\n 'object_mc_%area',\n 'object_mc_major',\n 'object_mc_minor',\n 'object_mc_y',\n 'object_mc_x',\n 'object_mc_convex_area',\n 'object_mc_min',\n 'object_mc_max',\n 'object_mc_mean',\n 'object_mc_intden',\n 'object_mc_perim.',\n 'object_mc_elongation',\n 'object_mc_range',\n 'object_mc_perimareaexc',\n 'object_mc_perimmajor',\n 'object_mc_circex',\n 'object_mc_angle',\n 'object_mc_bounding_box_area',\n 'object_mc_eccentricity',\n 'object_mc_equivalent_diameter',\n 'object_mc_euler_number',\n 'object_mc_extent',\n 'object_mc_local_centroid_col',\n 'object_mc_local_centroid_row',\n 'object_mc_solidity',\n 'object_cruise',\n 'object_vessel_name',\n 'object_station',\n 'object_manual_classification',\n 'object_zoomie_state',\n 'object_mc_label',\n 'sample_id',\n 'sample_dataportal_descriptor',\n 'process_id',\n 'acq_id',\n 'acq_instrument',\n 'root_path',\n 'count',\n 'label',\n 'phase',\n 'Unnamed: 0']"
     },
     "execution_count": 3,
     "metadata": {},
     "output_type": "execute_result"
    }
   ],
   "source": [
    "#df_all = pd.read_csv(\"output/allcruises_df_validated.csv\")\n",
    "df_wo99 = pd.read_csv('output/update_allcruises_df_validated_5with_zoomie_20230727.csv',sep=\";\")\n",
    "df_wo99 = df_wo99[df_wo99[\"object_cruise\"] != \"PS99.2\"]\n",
    "df_wo99 = df_wo99[df_wo99[\"label\"] != \"Artefact\"]\n",
    "\n",
    "df_wo99[\"object_cruise\"] =df_wo99[\"object_cruise\"].apply(is122)\n",
    "#df99 = pd.read_csv(\"output/update_wo_artefacts_test_dataset_PS992_03032023.csv\")\n",
    "df99 = pd.read_csv(\"output/update_wo_artefacts_test_dataset_PS992_20230727_nicole.csv\",sep=\";\")\n",
    "df99 = df99[df99[\"label\"] != \"Artefact\"]  # remove artefact\n",
    "\n",
    "df_all=pd.concat([df_wo99, df99])\n",
    "list(df_all.columns)"
   ],
   "metadata": {
    "collapsed": false
   }
  },
  {
   "cell_type": "code",
   "execution_count": 4,
   "outputs": [
    {
     "name": "stderr",
     "output_type": "stream",
     "text": [
      "/var/folders/l5/7vqpfl9j2yd9xqq2n8kh8tyc0000gn/T/ipykernel_29811/2995539503.py:1: FutureWarning: The default value of numeric_only in DataFrameGroupBy.sum is deprecated. In a future version, numeric_only will default to False. Either specify numeric_only or select only columns which should be valid for the function.\n",
      "  df_cruises = df_all.groupby(\"object_cruise\").agg(\"sum\")\n"
     ]
    },
    {
     "data": {
      "text/plain": "                count  classes  begin_date  end_date\nobject_cruise                                       \nPS99.2          20683       31    20160630  20160707\nPS106.2         42462       33    20170207  20170717\nPS107          121628       32    20170726  20170813\nPS114            7199       25    20180716  20180716\nPS122           23190       30    20191110  20200916",
      "text/html": "<div>\n<style scoped>\n    .dataframe tbody tr th:only-of-type {\n        vertical-align: middle;\n    }\n\n    .dataframe tbody tr th {\n        vertical-align: top;\n    }\n\n    .dataframe thead th {\n        text-align: right;\n    }\n</style>\n<table border=\"1\" class=\"dataframe\">\n  <thead>\n    <tr style=\"text-align: right;\">\n      <th></th>\n      <th>count</th>\n      <th>classes</th>\n      <th>begin_date</th>\n      <th>end_date</th>\n    </tr>\n    <tr>\n      <th>object_cruise</th>\n      <th></th>\n      <th></th>\n      <th></th>\n      <th></th>\n    </tr>\n  </thead>\n  <tbody>\n    <tr>\n      <th>PS99.2</th>\n      <td>20683</td>\n      <td>31</td>\n      <td>20160630</td>\n      <td>20160707</td>\n    </tr>\n    <tr>\n      <th>PS106.2</th>\n      <td>42462</td>\n      <td>33</td>\n      <td>20170207</td>\n      <td>20170717</td>\n    </tr>\n    <tr>\n      <th>PS107</th>\n      <td>121628</td>\n      <td>32</td>\n      <td>20170726</td>\n      <td>20170813</td>\n    </tr>\n    <tr>\n      <th>PS114</th>\n      <td>7199</td>\n      <td>25</td>\n      <td>20180716</td>\n      <td>20180716</td>\n    </tr>\n    <tr>\n      <th>PS122</th>\n      <td>23190</td>\n      <td>30</td>\n      <td>20191110</td>\n      <td>20200916</td>\n    </tr>\n  </tbody>\n</table>\n</div>"
     },
     "execution_count": 4,
     "metadata": {},
     "output_type": "execute_result"
    }
   ],
   "source": [
    "df_cruises = df_all.groupby(\"object_cruise\").agg(\"sum\")\n",
    "df_cruises[\"object_cruise\"] = df_cruises.index\n",
    "def calc_num_of_cls(cru):\n",
    "    return len(set(df_all[df_all[\"object_cruise\"] == cru]['label']))\n",
    "def calc_date_begin(cru):\n",
    "    return int(np.min(df_all[df_all[\"object_cruise\"] == cru]['object_date']))\n",
    "def calc_date_end(cru):\n",
    "    return int(np.max(df_all[df_all[\"object_cruise\"] == cru]['object_date']))\n",
    "df_cruises[\"classes\"] = df_cruises[\"object_cruise\"].apply(calc_num_of_cls)\n",
    "df_cruises[\"begin_date\"] = df_cruises[\"object_cruise\"].apply(calc_date_begin)\n",
    "df_cruises[\"end_date\"] = df_cruises[\"object_cruise\"].apply(calc_date_end)\n",
    "df_cruises_tab = df_cruises[[\"count\",\"classes\",\"begin_date\",\"end_date\"]]\n",
    "df_cruises_tab = df_cruises_tab.sort_values('begin_date')\n",
    "df_cruises_tab"
   ],
   "metadata": {
    "collapsed": false
   }
  },
  {
   "cell_type": "code",
   "execution_count": 5,
   "outputs": [],
   "source": [
    "df_cruises_tab.to_csv(\"paper/tables/table1_20230727.csv\", sep=\";\")"
   ],
   "metadata": {
    "collapsed": false
   }
  },
  {
   "cell_type": "code",
   "execution_count": 9,
   "outputs": [
    {
     "data": {
      "text/plain": "['Chaetognata_head',\n 'Copepoda_Microcalanus',\n 'Copepoda_Calanus',\n 'Euphausiacea',\n 'multiples',\n 'Detritus',\n 'Bubble',\n 'Copepoda_Pseudocalanus',\n 'Copepoda_Oncaea',\n 'Copepoda_Spinocalanus',\n 'Ostracoda',\n 'Copepoda_Metridia_longa',\n 'Copepoda_Scaphocalanus',\n 'Copepoda_Calanoida',\n 'Nauplii',\n 'Rhizaria',\n 'Polychaeta',\n 'Feces',\n 'Copepoda_Oithona',\n 'Chaetognata_tail',\n 'Chaetognata_middle',\n 'Eggs',\n 'Crustacea',\n 'Copepoda_Paraeuchaeta',\n 'Amphipoda',\n 'Copepoda_Heterorhabdus',\n 'Copepoda_Scolecithricella',\n 'Copepoda_Gaetanus',\n 'Cnidaria',\n 'Foraminifera',\n 'Trochophora',\n 'Antenna',\n 'Copepoda_dead']"
     },
     "execution_count": 9,
     "metadata": {},
     "output_type": "execute_result"
    }
   ],
   "source": [
    "df_all[\"label\"].unique().tolist()"
   ],
   "metadata": {
    "collapsed": false
   }
  },
  {
   "cell_type": "code",
   "execution_count": null,
   "outputs": [],
   "source": [],
   "metadata": {
    "collapsed": false
   }
  }
 ],
 "metadata": {
  "kernelspec": {
   "display_name": "Python 3",
   "language": "python",
   "name": "python3"
  },
  "language_info": {
   "codemirror_mode": {
    "name": "ipython",
    "version": 2
   },
   "file_extension": ".py",
   "mimetype": "text/x-python",
   "name": "python",
   "nbconvert_exporter": "python",
   "pygments_lexer": "ipython2",
   "version": "2.7.6"
  }
 },
 "nbformat": 4,
 "nbformat_minor": 0
}
