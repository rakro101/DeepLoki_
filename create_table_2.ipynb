{
 "cells": [
  {
   "cell_type": "markdown",
   "source": [
    "# Cruise Overview"
   ],
   "metadata": {
    "collapsed": false,
    "pycharm": {
     "name": "#%% md\n"
    }
   }
  },
  {
   "cell_type": "code",
   "execution_count": null,
   "outputs": [],
   "source": [
    "import numpy as np\n",
    "import pandas as pd\n",
    "\n",
    "pd.set_option('display.float_format', lambda x: '%.2f' % x)"
   ],
   "metadata": {
    "collapsed": false,
    "pycharm": {
     "name": "#%%\n"
    }
   }
  },
  {
   "cell_type": "code",
   "execution_count": null,
   "outputs": [],
   "source": [
    "def is122(col):\n",
    "    if col in [\"PS122.1\", \"PS122.2\", \"PS122-2\"]:\n",
    "        return \"PS122\"\n",
    "    else:\n",
    "        return col"
   ],
   "metadata": {
    "collapsed": false,
    "pycharm": {
     "name": "#%%\n"
    }
   }
  },
  {
   "cell_type": "code",
   "execution_count": null,
   "outputs": [],
   "source": [
    "#df_all = pd.read_csv(\"output/allcruises_df_validated.csv\")\n",
    "df_wo99 = pd.read_csv('output/update_allcruises_df_validated_5with_zoomie_20230303.csv')\n",
    "df_wo99 = df_wo99[df_wo99[\"object_cruise\"] != \"PS99.2\"]\n",
    "df_wo99 = df_wo99[df_wo99[\"label\"] != \"Artefact\"]\n",
    "\n",
    "df_wo99[\"object_cruise\"] =df_wo99[\"object_cruise\"].apply(is122)\n",
    "#df99 = pd.read_csv(\"output/update_wo_artefacts_test_dataset_PS992_03032023.csv\")\n",
    "df99 = pd.read_csv(\"output/update_wo_artefacts_test_dataset_PS992_03032023_nicole.csv\")\n",
    "df99 = df99[df99[\"label\"] != \"Artefact\"]  # remove artefact\n",
    "\n",
    "df_all=pd.concat([df_wo99, df99])\n",
    "df_all"
   ],
   "metadata": {
    "collapsed": false,
    "pycharm": {
     "name": "#%%\n"
    }
   }
  },
  {
   "cell_type": "code",
   "execution_count": null,
   "outputs": [],
   "source": [
    "numeric_cols= ['object_annotation_time', 'object_fourier_descriptor_03', 'object_mc_perimareaexc', 'object_fourier_descriptor_05', 'object_mc_extent', 'object_hu_moment_6', 'object_mc_circex', 'object_area_px', 'object_hu_moment_2', 'object_fourier_descriptor_09', 'object_mc_major', 'object_mc_angle', 'object_hu_moment_1', 'object_mc_mean', 'object_hu_moment_4', 'object_mc_circ.', 'object_fourier_descriptor_02', 'object_time', 'object_annotation_date', 'object_hu_moment_5', 'object_graymean', 'object_index', 'object_mc_area_exc', 'object_conductivity', 'object_mc_%area', 'object_mc_local_centroid_row', 'object_skewness', 'object_mc_width', 'object_mc_intden', 'object_fourier_descriptor_08', 'object_mc_euler_number', 'object_mc_x', 'object_mc_bounding_box_area', 'object_temperature_oxsens', 'object_kurtosis', 'object_salinity', 'object_mc_max', 'img_rank', 'object_mc_solidity', 'object_lon', 'object_mc_min', 'object_mc_perim.', 'object_depth_min', 'object_structure', 'object_mc_equivalent_diameter', 'object_date', 'object_width', 'object_timestamp', 'object_fourier_descriptor_07', 'object_mc_eccentricity', 'object_bottom_depth', 'object_haul', 'object_mc_minor', 'object_form', 'object_oxygen_concentration', 'object_milliseconds', 'object_fourier_descriptor_04', 'object_mc_local_centroid_col', 'object_fourier_descriptor_06', 'object_lat', 'object_length', 'object_dr._haardt_fluorescence_channel_a', 'object_convexity', 'object_mc_perimmajor', 'new_index', 'object_fourier_descriptor_01', 'object_posx', 'object_fourier_descriptor_10', 'object_mc_by', 'object_oxygen_saturation', 'object_mc_area', 'object_mc_elongation', 'object_hu_moment_3', 'object_hu_moment_7', 'object_posy', 'object_mc_convex_area', 'object_mc_height', 'object_area', 'object_mc_bx', 'object_mc_range', 'object_pressure', 'object_mc_y']"
   ],
   "metadata": {
    "collapsed": false,
    "pycharm": {
     "name": "#%%\n"
    }
   }
  },
  {
   "cell_type": "code",
   "execution_count": null,
   "outputs": [],
   "source": [
    "df_cruises_tab =df_all[numeric_cols]\n",
    "df_cruises_tab.describe()\n",
    "#df_cruises_tab.to_csv(\"paper/tables/table1.csv\", sep=\";\")\n",
    "df_num_stats = df_cruises_tab.describe().T\n",
    "df_num_stats = df_num_stats.round(2)\n",
    "df_num_stats.to_csv(\"paper/tables/table2_num.csv\", sep=\";\")\n"
   ],
   "metadata": {
    "collapsed": false,
    "pycharm": {
     "name": "#%%\n"
    }
   }
  },
  {
   "cell_type": "code",
   "execution_count": null,
   "outputs": [],
   "source": [],
   "metadata": {
    "collapsed": false,
    "pycharm": {
     "name": "#%%\n"
    }
   }
  },
  {
   "cell_type": "code",
   "execution_count": null,
   "outputs": [],
   "source": [],
   "metadata": {
    "collapsed": false,
    "pycharm": {
     "name": "#%%\n"
    }
   }
  }
 ],
 "metadata": {
  "kernelspec": {
   "display_name": "Python 3",
   "language": "python",
   "name": "python3"
  },
  "language_info": {
   "codemirror_mode": {
    "name": "ipython",
    "version": 2
   },
   "file_extension": ".py",
   "mimetype": "text/x-python",
   "name": "python",
   "nbconvert_exporter": "python",
   "pygments_lexer": "ipython2",
   "version": "2.7.6"
  }
 },
 "nbformat": 4,
 "nbformat_minor": 0
}