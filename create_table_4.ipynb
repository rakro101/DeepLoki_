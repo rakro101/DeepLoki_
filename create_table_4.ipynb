{
 "cells": [
  {
   "cell_type": "markdown",
   "source": [
    "# Hyperparameter tuning / Different Archs"
   ],
   "metadata": {
    "collapsed": false,
    "pycharm": {
     "name": "#%% md\n"
    }
   }
  },
  {
   "cell_type": "code",
   "execution_count": null,
   "outputs": [],
   "source": [
    "import numpy as np\n",
    "import pandas as pd\n",
    "# concat all dataframes to one\n",
    "\n",
    "df1 = pd.read_csv(\"saved_models/43_hyper_parameter_testing_grid_search_2023_02_12__17_08_12.csv\",sep=\";\")\n",
    "df2 = pd.read_csv(\"saved_models/43_hyper_parameter_testing_grid_search_2023_02_12__17_08_12.csv\",sep=\";\")\n",
    "df_all = pd.concat([df1,df1])\n",
    "df_all =df_all.drop_duplicates()\n",
    "#df_all.to_csv(\"paper/tables/table4.csv\", sep=\";\")"
   ],
   "metadata": {
    "collapsed": false,
    "pycharm": {
     "name": "#%%\n"
    }
   }
  },
  {
   "cell_type": "code",
   "execution_count": null,
   "outputs": [],
   "source": [
    "df_all_short =df_all.drop(['Unnamed: 0', 'path','arch', 'tilesize','lr_steps','balanced_acc'],axis=1)\n",
    "df_all_short =df_all_short.round(decimals=4)\n",
    "df_all_short.to_csv(\"paper/tables/table4.csv\", sep=\";\")"
   ],
   "metadata": {
    "collapsed": false,
    "pycharm": {
     "name": "#%%\n"
    }
   }
  },
  {
   "cell_type": "code",
   "execution_count": null,
   "outputs": [],
   "source": [],
   "metadata": {
    "collapsed": false,
    "pycharm": {
     "name": "#%%\n"
    }
   }
  }
 ],
 "metadata": {
  "kernelspec": {
   "display_name": "Python 3",
   "language": "python",
   "name": "python3"
  },
  "language_info": {
   "codemirror_mode": {
    "name": "ipython",
    "version": 2
   },
   "file_extension": ".py",
   "mimetype": "text/x-python",
   "name": "python",
   "nbconvert_exporter": "python",
   "pygments_lexer": "ipython2",
   "version": "2.7.6"
  }
 },
 "nbformat": 4,
 "nbformat_minor": 0
}