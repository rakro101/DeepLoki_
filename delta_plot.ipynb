{
 "cells": [
  {
   "cell_type": "code",
   "execution_count": null,
   "metadata": {
    "collapsed": true,
    "pycharm": {
     "name": "#%%\n"
    }
   },
   "outputs": [],
   "source": [
    "import pandas as pd\n",
    "import numpy as np\n",
    "from matplotlib import pyplot as plt\n",
    "\n",
    "SMALL_SIZE = 24\n",
    "MEDIUM_SIZE = 24\n",
    "BIGGER_SIZE = 24\n",
    "MEDIUM= 28\n",
    "TICK = 20\n",
    "I_SIZE = 8\n",
    "plt.rc('font', size=SMALL_SIZE)          # controls default text sizes\n",
    "plt.rc('axes', titlesize=SMALL_SIZE)     # fontsize of the axes title\n",
    "plt.rc('axes', labelsize=MEDIUM)    # fontsize of the x and y labels\n",
    "plt.rc('xtick', labelsize=TICK)    # fontsize of the tick labels\n",
    "plt.rc('ytick', labelsize=TICK)    # fontsize of the tick labels\n",
    "plt.rc('legend', fontsize=15)   # legend fontsize\n",
    "plt.rc('figure', titlesize=BIGGER_SIZE)"
   ]
  },
  {
   "cell_type": "code",
   "execution_count": null,
   "outputs": [],
   "source": [
    "df = pd.read_csv(\"output/ellen_resnet_icy_sea_89_vs_eco_taxa_sklearn_class_report.csv\", sep=\";\")"
   ],
   "metadata": {
    "collapsed": false,
    "pycharm": {
     "name": "#%%\n"
    }
   }
  },
  {
   "cell_type": "code",
   "execution_count": null,
   "outputs": [],
   "source": [
    "df"
   ],
   "metadata": {
    "collapsed": false,
    "pycharm": {
     "name": "#%%\n"
    }
   }
  },
  {
   "cell_type": "code",
   "execution_count": null,
   "outputs": [],
   "source": [
    "# create scatter plot\n",
    "plt.figure(figsize=(18, 12))\n",
    "dfp = df.sort_values(\"precision\", ascending=False)\n",
    "dfp = dfp.reset_index()\n",
    "plt.scatter(dfp.index, dfp['precision'], c='#3366FF', marker='+',s=120)\n",
    "plt.scatter(dfp.index, dfp['precision_dtl'], c='#FF9933', marker='^',s=120)\n",
    "plt.scatter(dfp.index, dfp['precision_dino'], c=\"#33FF99\", marker='o',s=120)\n",
    "\n",
    "# add axis labels and legend\n",
    "plt.xlabel('Taxa Names')\n",
    "plt.ylabel('Precision')\n",
    "plt.legend(['EcoTaxa', 'DTL', 'DINO'],loc='center right', bbox_to_anchor=(1.15, 0.5))\n",
    "plt.xticks(range(len(dfp.index)), dfp.taxa,rotation=45, ha='right')\n",
    "plt.tight_layout(pad=1.1, h_pad=0.85, w_pad=0.85)\n",
    "fig2 = plt.gcf()\n",
    "fig2.savefig(f\"paper/figures/symbols_precision_plot.png\")\n",
    "# display plot\n",
    "plt.show()"
   ],
   "metadata": {
    "collapsed": false,
    "pycharm": {
     "name": "#%%\n"
    }
   }
  },
  {
   "cell_type": "code",
   "execution_count": null,
   "outputs": [],
   "source": [
    "# create scatter plot\n",
    "plt.figure(figsize=(18, 12))\n",
    "dfr = df.sort_values(\"recall\", ascending=False)\n",
    "dfr = dfr.reset_index()\n",
    "plt.scatter(dfr.index, dfr['recall'], c='#3366FF', marker='+',s=120)\n",
    "plt.scatter(dfr.index, dfr['recall_dtl'], c='#FF9933', marker='^',s=120)\n",
    "plt.scatter(dfr.index, dfr['recall_dino'], c=\"#33FF99\", marker='o',s=120)\n",
    "\n",
    "# add axis labels and legend\n",
    "plt.xlabel('Taxa Names')\n",
    "plt.ylabel('Recall')\n",
    "plt.legend(['EcoTaxa', 'DTL', 'DINO'],loc='center right', bbox_to_anchor=(1.15, 0.5))\n",
    "plt.xticks(range(len(dfr.index)), dfr.taxa,rotation=45, ha='right')\n",
    "plt.tight_layout(pad=1.1, h_pad=0.85, w_pad=0.85)\n",
    "fig2 = plt.gcf()\n",
    "fig2.savefig(f\"paper/figures/symbol_recall_plot.png\")\n",
    "# display plot\n",
    "plt.show()"
   ],
   "metadata": {
    "collapsed": false,
    "pycharm": {
     "name": "#%%\n"
    }
   }
  },
  {
   "cell_type": "code",
   "execution_count": null,
   "outputs": [],
   "source": [
    "# create scatter plot\n",
    "plt.figure(figsize=(18, 12))\n",
    "dff = df.sort_values(\"f1-score\", ascending=False)\n",
    "dff = dff.reset_index()\n",
    "plt.scatter(dff.index, dff['f1-score'], c='#3366FF', marker='+',s=120)\n",
    "plt.scatter(dff.index, dff['f1-score_dtl'], c='#FF9933', marker='^',s=120)\n",
    "plt.scatter(dff.index, dff['f1-score_dino'], c=\"#33FF99\", marker='o',s=120)\n",
    "\n",
    "# add axis labels and legend\n",
    "plt.xlabel('Taxa Names')\n",
    "plt.ylabel('F1-score')\n",
    "plt.legend(['EcoTaxa', 'DTL', 'DINO'],loc='center right', bbox_to_anchor=(1.15, 0.5))\n",
    "plt.xticks(range(len(dff.index)), dff.taxa,rotation=45, ha='right')\n",
    "plt.tight_layout(pad=1.1, h_pad=0.85, w_pad=0.85)\n",
    "fig2 = plt.gcf()\n",
    "fig2.savefig(f\"paper/figures/symbol_f1score_plot.png\")\n",
    "# display plot\n",
    "plt.show()"
   ],
   "metadata": {
    "collapsed": false,
    "pycharm": {
     "name": "#%%\n"
    }
   }
  },
  {
   "cell_type": "code",
   "execution_count": null,
   "outputs": [],
   "source": [
    "# create scatter plot\n",
    "plt.figure(figsize=(18, 12))\n",
    "bar_width = 0.3\n",
    "\n",
    "plt.bar(dfp.index, dfp['precision'], color=\"grey\", width=bar_width)\n",
    "plt.bar(dfp.index + bar_width, dfp['precision_dtl'], color=\"#CC3333\", width=bar_width)\n",
    "plt.bar(dfp.index + 2*bar_width, dfp['precision_dino'], color=\"#6666FF\", width=bar_width)\n",
    "\n",
    "# add axis labels and legend\n",
    "plt.xlabel('Taxa Names')\n",
    "plt.ylabel('Precision')\n",
    "plt.legend(['EcoTaxa', 'DTL', 'DINO'],loc='center right', bbox_to_anchor=(1.15, 0.5))\n",
    "plt.xticks(range(len(dfp.index)), dfp.taxa,rotation=45, ha='right')\n",
    "plt.tight_layout(pad=1.1, h_pad=0.85, w_pad=0.85)\n",
    "fig2 = plt.gcf()\n",
    "ax = plt.gca()\n",
    "ax.set_facecolor(\"white\")\n",
    "fig2.savefig(f\"paper/figures/bar_precision_plot.png\")\n",
    "# display plot\n",
    "plt.show()"
   ],
   "metadata": {
    "collapsed": false,
    "pycharm": {
     "name": "#%%\n"
    }
   }
  },
  {
   "cell_type": "code",
   "execution_count": null,
   "outputs": [],
   "source": [
    "# create scatter plot\n",
    "plt.figure(figsize=(18, 12))\n",
    "bar_width = 0.3\n",
    "\n",
    "plt.bar(dfr.index, dfr['recall'], color=\"grey\", width=bar_width)\n",
    "plt.bar(dfr.index + bar_width, dfr['recall_dtl'], color=\"#CC3333\", width=bar_width)\n",
    "plt.bar(dfr.index + 2*bar_width, dfr['recall_dino'], color=\"#6666FF\", width=bar_width)\n",
    "\n",
    "# add axis labels and legend\n",
    "plt.xlabel('Taxa Names')\n",
    "plt.ylabel('Recall')\n",
    "plt.legend(['EcoTaxa', 'DTL', 'DINO'],loc='center right', bbox_to_anchor=(1.15, 0.5))\n",
    "plt.xticks(range(len(dfr.index)), dfr.taxa,rotation=45, ha='right')\n",
    "plt.tight_layout(pad=1.1, h_pad=0.85, w_pad=0.85)\n",
    "fig2 = plt.gcf()\n",
    "ax = plt.gca()\n",
    "ax.set_facecolor(\"white\")\n",
    "fig2.savefig(f\"paper/figures/bar_recall_plot.png\")\n",
    "# display plot\n",
    "plt.show()"
   ],
   "metadata": {
    "collapsed": false,
    "pycharm": {
     "name": "#%%\n"
    }
   }
  },
  {
   "cell_type": "code",
   "execution_count": null,
   "outputs": [],
   "source": [
    "# create scatter plot\n",
    "plt.figure(figsize=(18, 12))\n",
    "bar_width = 0.3\n",
    "\n",
    "plt.bar(dff.index, dff['f1-score'], color=\"grey\", width=bar_width)\n",
    "plt.bar(dff.index + bar_width, dff['f1-score_dtl'], color='#CC3333', width=bar_width)\n",
    "plt.bar(dff.index + 2*bar_width, dff['f1-score_dino'], color=\"#6666FF\", width=bar_width)\n",
    "\n",
    "# add axis labels and legend\n",
    "plt.xlabel('Taxa Names')\n",
    "plt.ylabel('F1-score')\n",
    "plt.legend(['EcoTaxa', 'DTL', 'DINO'],loc='center right', bbox_to_anchor=(1.15, 0.5))\n",
    "plt.xticks(range(len(dff.index)), dff.taxa,rotation=45, ha='right')\n",
    "plt.tight_layout(pad=1.1, h_pad=0.85, w_pad=0.85)\n",
    "fig2 = plt.gcf()\n",
    "ax = plt.gca()\n",
    "ax.set_facecolor(\"white\")\n",
    "fig2.savefig(f\"paper/figures/bar_f1score_plot.png\")\n",
    "# display plot\n",
    "plt.show()"
   ],
   "metadata": {
    "collapsed": false,
    "pycharm": {
     "name": "#%%\n"
    }
   }
  },
  {
   "cell_type": "code",
   "execution_count": null,
   "outputs": [],
   "source": [],
   "metadata": {
    "collapsed": false,
    "pycharm": {
     "name": "#%%\n"
    }
   }
  }
 ],
 "metadata": {
  "kernelspec": {
   "display_name": "Python 3",
   "language": "python",
   "name": "python3"
  },
  "language_info": {
   "codemirror_mode": {
    "name": "ipython",
    "version": 2
   },
   "file_extension": ".py",
   "mimetype": "text/x-python",
   "name": "python",
   "nbconvert_exporter": "python",
   "pygments_lexer": "ipython2",
   "version": "2.7.6"
  }
 },
 "nbformat": 4,
 "nbformat_minor": 0
}