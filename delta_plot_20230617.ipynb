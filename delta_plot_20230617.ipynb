{
 "cells": [
  {
   "cell_type": "code",
   "execution_count": null,
   "metadata": {
    "collapsed": true
   },
   "outputs": [],
   "source": [
    "import pandas as pd\n",
    "import numpy as np\n",
    "from matplotlib import pyplot as plt\n",
    "\n",
    "SMALL_SIZE = 24\n",
    "MEDIUM_SIZE = 24\n",
    "BIGGER_SIZE = 24\n",
    "MEDIUM= 28\n",
    "TICK = 20\n",
    "I_SIZE = 8\n",
    "plt.rc('font', size=SMALL_SIZE)          # controls default text sizes\n",
    "plt.rc('axes', titlesize=SMALL_SIZE)     # fontsize of the axes title\n",
    "plt.rc('axes', labelsize=MEDIUM)    # fontsize of the x and y labels\n",
    "plt.rc('xtick', labelsize=TICK)    # fontsize of the tick labels\n",
    "plt.rc('ytick', labelsize=TICK)    # fontsize of the tick labels\n",
    "plt.rc('legend', fontsize=15)   # legend fontsize\n",
    "plt.rc('figure', titlesize=BIGGER_SIZE)"
   ]
  },
  {
   "cell_type": "code",
   "execution_count": null,
   "outputs": [],
   "source": [
    "color_eco =\"#9C0066\"\n",
    "color_dtl = \"#C8CCFC\"\n",
    "color_dino = \"#888888\""
   ],
   "metadata": {
    "collapsed": false
   }
  },
  {
   "cell_type": "code",
   "execution_count": null,
   "outputs": [],
   "source": [
    "df = pd.read_csv(\"output/DTL_DINO_ECO_all.csv\", sep=\";\")"
   ],
   "metadata": {
    "collapsed": false
   }
  },
  {
   "cell_type": "code",
   "execution_count": null,
   "outputs": [],
   "source": [
    "df"
   ],
   "metadata": {
    "collapsed": false
   }
  },
  {
   "cell_type": "code",
   "execution_count": null,
   "outputs": [],
   "source": [
    "# create scatter plot\n",
    "plt.figure(figsize=(18, 12))\n",
    "dfp = df.sort_values(\"eco_precision\", ascending=False)\n",
    "dfp = dfp.reset_index()"
   ],
   "metadata": {
    "collapsed": false
   }
  },
  {
   "cell_type": "code",
   "execution_count": null,
   "outputs": [],
   "source": [
    "# create scatter plot\n",
    "plt.figure(figsize=(18, 12))\n",
    "dfr = df.sort_values(\"eco_recall\", ascending=False)\n",
    "dfr = dfr.reset_index()"
   ],
   "metadata": {
    "collapsed": false
   }
  },
  {
   "cell_type": "code",
   "execution_count": null,
   "outputs": [],
   "source": [
    "# create scatter plot\n",
    "plt.figure(figsize=(18, 12))\n",
    "dff = df.sort_values(\"eco_f1-score\", ascending=False)\n",
    "dff = dff.reset_index()"
   ],
   "metadata": {
    "collapsed": false
   }
  },
  {
   "cell_type": "code",
   "execution_count": null,
   "outputs": [],
   "source": [
    "# create scatter plot\n",
    "plt.figure(figsize=(30, 9))\n",
    "bar_width = 0.3\n",
    "\n",
    "plt.bar(dfp.index + 2*bar_width, dfp['eco_precision'], color=color_eco, width=bar_width)\n",
    "plt.bar(dfp.index + bar_width, dfp['dtl_precision'], color=color_dtl, width=bar_width)\n",
    "plt.bar(dfp.index, dfp['dino_precision'], color=color_dino, width=bar_width)\n",
    "\n",
    "# add axis labels and legend\n",
    "plt.xlabel('Taxa Names')\n",
    "plt.ylabel('Precision')\n",
    "plt.legend(['EcoTaxa', 'DTL', 'DINO'],loc='center right', bbox_to_anchor=(0.95, 0.75))\n",
    "plt.xticks(range(len(dfp.index)), dfp.taxa,rotation=45, ha='right')\n",
    "plt.tight_layout(pad=1.1, h_pad=0.85, w_pad=0.85)\n",
    "fig2 = plt.gcf()\n",
    "ax = plt.gca()\n",
    "ax.set_facecolor(\"white\")\n",
    "fig2.savefig(f\"paper/figures/0bar_precision_plot.png\")\n",
    "# display plot\n",
    "plt.show()"
   ],
   "metadata": {
    "collapsed": false
   }
  },
  {
   "cell_type": "code",
   "execution_count": null,
   "outputs": [],
   "source": [
    "# create scatter plot\n",
    "plt.figure(figsize=(30, 9))\n",
    "bar_width = 0.3\n",
    "\n",
    "plt.bar(dfr.index + 2*bar_width, dfr['eco_recall'], color=color_eco, width=bar_width)\n",
    "plt.bar(dfr.index + bar_width, dfr['dtl_recall'], color=color_dtl, width=bar_width)\n",
    "plt.bar(dfr.index, dfr['dino_recall'], color=color_dino, width=bar_width)\n",
    "\n",
    "# add axis labels and legend\n",
    "plt.xlabel('Taxa Names')\n",
    "plt.ylabel('Recall')\n",
    "plt.legend(['EcoTaxa', 'DTL', 'DINO'],loc='center right', bbox_to_anchor=(0.95, 0.75))\n",
    "plt.xticks(range(len(dfr.index)), dfr.taxa,rotation=45, ha='right')\n",
    "plt.tight_layout(pad=1.1, h_pad=0.85, w_pad=0.85)\n",
    "fig2 = plt.gcf()\n",
    "ax = plt.gca()\n",
    "ax.set_facecolor(\"white\")\n",
    "fig2.savefig(f\"paper/figures/0bar_recall_plot.png\")\n",
    "# display plot\n",
    "plt.show()"
   ],
   "metadata": {
    "collapsed": false
   }
  },
  {
   "cell_type": "code",
   "execution_count": null,
   "outputs": [],
   "source": [
    "# create scatter plot\n",
    "plt.figure(figsize=(21, 7))\n",
    "bar_width = 0.3\n",
    "\n",
    "plt.bar(dff.index + 2*bar_width, dff['eco_f1-score'], color=color_eco, width=bar_width)\n",
    "plt.bar(dff.index + bar_width, dff['dtl_f1-score'], color=color_dtl, width=bar_width)\n",
    "plt.bar(dff.index, dff['dino_f1-score'], color=color_dino, width=bar_width)\n",
    "\n",
    "# add axis labels and legend\n",
    "plt.xlabel('Taxa Names')\n",
    "plt.ylabel('F1-score')\n",
    "plt.legend(['EcoTaxa', 'DTL', 'DINO'],loc='center right', bbox_to_anchor=(0.95, 0.75))\n",
    "plt.xticks(range(len(dff.index)), dff.taxa,rotation=45, ha='right')\n",
    "plt.tight_layout(pad=1.1, h_pad=0.85, w_pad=0.85)\n",
    "fig2 = plt.gcf()\n",
    "ax = plt.gca()\n",
    "ax.set_facecolor(\"white\")\n",
    "fig2.savefig(f\"paper/figures/000bar_f1score_plot.png\")\n",
    "# display plot\n",
    "plt.show()"
   ],
   "metadata": {
    "collapsed": false
   }
  },
  {
   "cell_type": "code",
   "execution_count": null,
   "outputs": [],
   "source": [
    "import matplotlib.pyplot as plt\n",
    "import pandas as pd\n",
    "bar_width = 0.3\n",
    "# Sample data for demonstration\n",
    "\n",
    "# Create a figure and three subplots sharing the x-axis\n",
    "fig, axs = plt.subplots(3, 1, figsize=(21, 7*3),layout='constrained', frameon=True,linewidth=10.,)\n",
    "\n",
    "# Bar plot for 'eco_recall'\n",
    "axs[0].bar(dff.index + 2*bar_width, dff['eco_precision'], color=color_eco, width=bar_width)\n",
    "axs[0].bar(dff.index + bar_width, dff['dtl_precision'], color=color_dtl, width=bar_width)\n",
    "axs[0].bar(dff.index, dff['dino_precision'], color=color_dino, width=bar_width)\n",
    "#axs[0].bar(dfr.index, dfr['eco_recall'], color='blue', width=0.3)\n",
    "axs[0].set_ylabel('Precision')\n",
    "#axs[0].axhline(0, color='gray', linewidth=1.5)\n",
    "\n",
    "axs[0].grid(True)\n",
    "axs[0].set_facecolor(\"white\")\n",
    "axs[0].set_frame_on(True)\n",
    "\n",
    "# Bar plot for 'dtl_recall'\n",
    "axs[1].bar(dff.index + 2*bar_width, dff['eco_recall'], color=color_eco, width=bar_width)\n",
    "axs[1].bar(dff.index + bar_width, dff['dtl_recall'], color=color_dtl, width=bar_width)\n",
    "axs[1].bar(dff.index, dff['dino_recall'], color=color_dino, width=bar_width)\n",
    "#axs[1].bar(dfr.index, dfr['dtl_recall'], color='green', width=0.3)\n",
    "axs[1].set_ylabel('Recall')\n",
    "axs[1].grid(True)\n",
    "#axs[1].axhline(0, color='gray', linewidth=1.5)\n",
    "\n",
    "axs[1].set_facecolor(\"white\")\n",
    "axs[1].set_frame_on(True)\n",
    "\n",
    "# Bar plot for 'dino_recall'\n",
    "axs[2].bar(dff.index + 2*bar_width, dff['eco_f1-score'], color=color_eco, width=bar_width)\n",
    "axs[2].bar(dff.index + bar_width, dff['dtl_f1-score'], color=color_dtl, width=bar_width)\n",
    "axs[2].bar(dff.index, dff['dino_f1-score'], color=color_dino, width=bar_width)\n",
    "axs[2].set_ylabel('F1-Score')\n",
    "axs[2].grid(True)\n",
    "axs[2].set_facecolor(\"white\")\n",
    "axs[2].set_frame_on(True)\n",
    "#axs[2].axhline(0, color='gray', linewidth=1.5)\n",
    "\n",
    "# Set common labels and title\n",
    "plt.xlabel('Taxa Names')\n",
    "#fig.suptitle('Recall for Different Taxa')\n",
    "\n",
    "# Set x-ticks and labels\n",
    "plt.xticks(range(len(dfr.index)), dfr['taxa'], rotation=45, ha='right')\n",
    "# Add a legend to the last subplot\n",
    "axs[0].legend(['EcoTaxa', 'DTL', 'DINO'], loc='center', bbox_to_anchor=(0.95, 0.85))\n",
    "# Adjust layout and save the figure\n",
    "#plt.set_facecolor(\"white\")\n",
    "plt.tight_layout(pad=1.1, h_pad=0.85, w_pad=0.85)\n",
    "axs[0].spines[\"top\"].set_visible(True)\n",
    "axs[0].spines[\"right\"].set_visible(True)\n",
    "axs[0].spines[\"left\"].set_visible(True)\n",
    "axs[1].spines[\"top\"].set_visible(True)\n",
    "axs[1].spines[\"right\"].set_visible(True)\n",
    "axs[1].spines[\"left\"].set_visible(True)\n",
    "axs[2].spines[\"top\"].set_visible(True)\n",
    "axs[2].spines[\"right\"].set_visible(True)\n",
    "axs[2].spines[\"left\"].set_visible(True)\n",
    "fig.savefig(\"paper/figures/All_bar_recall_plot.png\",facecolor=fig.get_facecolor())\n",
    "#plt.grid(False)\n",
    "# Display the plot\n",
    "plt.show()"
   ],
   "metadata": {
    "collapsed": false
   }
  },
  {
   "cell_type": "code",
   "execution_count": null,
   "outputs": [],
   "source": [
    "print(dff.index)"
   ],
   "metadata": {
    "collapsed": false
   }
  },
  {
   "cell_type": "code",
   "execution_count": null,
   "outputs": [],
   "source": [
    "dff"
   ],
   "metadata": {
    "collapsed": false
   }
  },
  {
   "cell_type": "code",
   "execution_count": null,
   "outputs": [],
   "source": [],
   "metadata": {
    "collapsed": false
   }
  }
 ],
 "metadata": {
  "kernelspec": {
   "display_name": "Python 3",
   "language": "python",
   "name": "python3"
  },
  "language_info": {
   "codemirror_mode": {
    "name": "ipython",
    "version": 2
   },
   "file_extension": ".py",
   "mimetype": "text/x-python",
   "name": "python",
   "nbconvert_exporter": "python",
   "pygments_lexer": "ipython2",
   "version": "2.7.6"
  }
 },
 "nbformat": 4,
 "nbformat_minor": 0
}
