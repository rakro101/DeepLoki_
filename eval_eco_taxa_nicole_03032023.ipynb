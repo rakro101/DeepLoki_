{
 "cells": [
  {
   "cell_type": "code",
   "execution_count": null,
   "metadata": {
    "collapsed": true,
    "pycharm": {
     "name": "#%%\n"
    }
   },
   "outputs": [],
   "source": [
    "from sklearn.metrics import confusion_matrix, ConfusionMatrixDisplay\n",
    "from sklearn.metrics import classification_report\n",
    "from matplotlib import pyplot as plt\n",
    "import pandas as pd\n",
    "import numpy as np"
   ]
  },
  {
   "cell_type": "code",
   "execution_count": null,
   "outputs": [],
   "source": [
    "df_eco_taxa = pd.read_csv('output/ecoTaxa_nicole_dataPS992_0230303.csv')\n",
    "df_eco_taxa.head()\n",
    "df_preds = df_eco_taxa[[\"object_id\",\"label\"]]\n",
    "df_preds = df_preds[df_preds['label']!= \"Artefact\"]\n",
    "df_preds.shape"
   ],
   "metadata": {
    "collapsed": false,
    "pycharm": {
     "name": "#%%\n"
    }
   }
  },
  {
   "cell_type": "markdown",
   "source": [],
   "metadata": {
    "collapsed": false,
    "pycharm": {
     "name": "#%% md\n"
    }
   }
  },
  {
   "cell_type": "code",
   "execution_count": null,
   "outputs": [],
   "source": [
    "df_gt = pd.read_csv(\"output/update_wo_artefacts_test_dataset_PS992_03032023.csv\")\n",
    "df_gt =df_gt[df_gt[\"object_cruise\"]==\"PS99.2\"]\n",
    "df_gt_save =df_gt.copy()\n",
    "df_gt = df_gt[[\"object_id\",\"label\"]]\n",
    "df_gt = df_gt[df_gt['label']!= \"Artefact\"]\n",
    "df_gt.shape"
   ],
   "metadata": {
    "collapsed": false,
    "pycharm": {
     "name": "#%%\n"
    }
   }
  },
  {
   "cell_type": "code",
   "execution_count": null,
   "outputs": [],
   "source": [
    "df_preds = df_preds[df_preds[\"object_id\"].isin(df_gt[\"object_id\"])]\n",
    "df_preds.shape"
   ],
   "metadata": {
    "collapsed": false,
    "pycharm": {
     "name": "#%%\n"
    }
   }
  },
  {
   "cell_type": "code",
   "execution_count": null,
   "outputs": [],
   "source": [
    "df_gt = df_gt[df_gt[\"object_id\"].isin(df_preds[\"object_id\"])]\n",
    "df_gt.shape\n",
    "# testdatset\n",
    "df_gt_save =df_gt_save[df_gt_save[\"object_id\"].isin(df_preds[\"object_id\"])]\n",
    "df_gt_save.to_csv(\"output/update_wo_artefacts_test_dataset_PS992_03032023_nicole.csv\")"
   ],
   "metadata": {
    "collapsed": false,
    "pycharm": {
     "name": "#%%\n"
    }
   }
  },
  {
   "cell_type": "code",
   "execution_count": null,
   "outputs": [],
   "source": [
    "# ecotaxa class report\n",
    "df_preds = df_preds.sort_values(\"object_id\")\n",
    "df_gt = df_gt.sort_values(\"object_id\")\n",
    "all_cls =list(set(np.unique(list(df_gt['label']))).union(set(np.unique(list(df_preds['label'])))))\n",
    "all_cls.sort()\n",
    "\n",
    "print(list(set(np.unique(list(df_gt['label']))).difference(set(np.unique(list(df_preds['label']))))))\n",
    "print(list(set(np.unique(list(df_preds['label']))).difference(set(np.unique(list(df_gt['label']))))))\n",
    "preds = df_preds[\"label\"]\n",
    "gt = df_gt[\"label\"]\n",
    "rf_class_report = pd.DataFrame(classification_report(y_true = gt, y_pred = preds , output_dict=True)).transpose()\n",
    "print(rf_class_report)\n",
    "rf_class_report.to_csv(f\"paper/tables/nicole_03032023_update_wo_artefacts_eco_taxa_sklearn_class_report.csv\", sep=\";\")\n",
    "# rf save confusion matrix\n",
    "cm = confusion_matrix(gt, preds)\n",
    "disp = ConfusionMatrixDisplay(confusion_matrix=cm, display_labels=all_cls)\n",
    "disp.plot()\n",
    "fig_rf = disp.figure_\n",
    "fig_rf.set_figwidth(20)\n",
    "fig_rf.set_figheight(20)\n",
    "#fig_rf.suptitle('Plot of confusion matrix')\n",
    "plt.xticks(rotation='vertical')\n",
    "plt.tight_layout()\n",
    "plt.savefig(f'paper/figures/nicole_03032023_wo_artefacts_eco_taxa_sklearn_confusion_matrix.jpg')\n",
    "plt.show()"
   ],
   "metadata": {
    "collapsed": false,
    "pycharm": {
     "name": "#%%\n"
    }
   }
  },
  {
   "cell_type": "code",
   "execution_count": null,
   "outputs": [],
   "source": [],
   "metadata": {
    "collapsed": false,
    "pycharm": {
     "name": "#%%\n"
    }
   }
  }
 ],
 "metadata": {
  "kernelspec": {
   "display_name": "Python 3",
   "language": "python",
   "name": "python3"
  },
  "language_info": {
   "codemirror_mode": {
    "name": "ipython",
    "version": 2
   },
   "file_extension": ".py",
   "mimetype": "text/x-python",
   "name": "python",
   "nbconvert_exporter": "python",
   "pygments_lexer": "ipython2",
   "version": "2.7.6"
  }
 },
 "nbformat": 4,
 "nbformat_minor": 0
}