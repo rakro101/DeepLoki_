{
 "cells": [
  {
   "cell_type": "code",
   "execution_count": null,
   "metadata": {
    "collapsed": true
   },
   "outputs": [],
   "source": [
    "from sklearn.metrics import confusion_matrix, ConfusionMatrixDisplay\n",
    "from sklearn.metrics import classification_report\n",
    "from matplotlib import pyplot as plt\n",
    "import pandas as pd\n",
    "import numpy as np"
   ]
  },
  {
   "cell_type": "code",
   "execution_count": null,
   "outputs": [],
   "source": [
    "### ONLY Plot Matricies not eco taxa"
   ],
   "metadata": {
    "collapsed": false
   }
  },
  {
   "cell_type": "markdown",
   "source": [],
   "metadata": {
    "collapsed": false
   }
  },
  {
   "cell_type": "code",
   "execution_count": null,
   "outputs": [],
   "source": [
    "SMALL_SIZE = 24\n",
    "MEDIUM_SIZE = 24\n",
    "BIGGER_SIZE = 24\n",
    "MEDIUM= 28\n",
    "TICK = 22\n",
    "I_SIZE = 8\n",
    "plt.rc('font', size=12)          # controls default text sizes\n",
    "plt.rc('axes', titlesize=SMALL_SIZE)     # fontsize of the axes title\n",
    "plt.rc('axes', labelsize=MEDIUM)    # fontsize of the x and y labels\n",
    "plt.rc('xtick', labelsize=TICK)    # fontsize of the tick labels\n",
    "plt.rc('ytick', labelsize=TICK)    # fontsize of the tick labels\n",
    "plt.rc('legend', fontsize=10)   # legend fontsize\n",
    "plt.rc('figure', titlesize=BIGGER_SIZE)\n",
    "plt.rcParams[\"figure.dpi\"] = 300"
   ],
   "metadata": {
    "collapsed": false
   }
  },
  {
   "cell_type": "code",
   "execution_count": null,
   "outputs": [],
   "source": [
    "import numpy as np\n",
    "import matplotlib.pyplot as plt\n",
    "from sklearn.metrics import ConfusionMatrixDisplay\n",
    "df = pd.read_csv(\"paper/runs/crimson-salad-175_test_classification_report.csv\", sep=\";\")\n",
    "class_names = df[df.columns[0]]\n",
    "cls_n =list(class_names.values[:-3])\n",
    "cls_n.sort()\n",
    "# load confusion matrix from CSV file\n",
    "cm = pd.read_csv(\"paper/runs/crimson-salad-175_test_confusion_matrix.csv\", sep=\";\", index_col=0)\n",
    "# plot confusion matrix using ConfusionMatrixDisplay\n",
    "disp = ConfusionMatrixDisplay(confusion_matrix=cm.values, display_labels=cls_n)\n",
    "disp.plot(cmap=plt.cm.Blues)\n",
    "fig_rf = disp.figure_\n",
    "fig_rf.set_figwidth(20)\n",
    "fig_rf.set_figheight(20)\n",
    "#fig_rf.suptitle('Plot of confusion matrix')\n",
    "plt.xticks(rotation='vertical')\n",
    "plt.tight_layout()\n",
    "plt.savefig(f'paper/figures/crimson-salad-175_confu_blue.jpg')\n",
    "plt.show()\n",
    "# show plot\n",
    "#plt.show()"
   ],
   "metadata": {
    "collapsed": false
   }
  },
  {
   "cell_type": "code",
   "execution_count": null,
   "outputs": [],
   "source": [
    "import matplotlib.pyplot as plt\n",
    "from sklearn.metrics import ConfusionMatrixDisplay\n",
    "df = pd.read_csv(\"paper/runs/confused-capybara-171_test_classification_report.csv\", sep=\";\")\n",
    "class_names = df[df.columns[0]]\n",
    "cls_n =list(class_names.values[:-3])\n",
    "cls_n.append(\"Trochophora\")\n",
    "cls_n.append(\"Copepoda_dead\")\n",
    "cls_n.sort()\n",
    "# load confusion matrix from CSV file\n",
    "cm = pd.read_csv(\"paper/runs/confused-capybara-171_test_confusion_matrix.csv\", sep=\";\", index_col=0)\n",
    "# plot confusion matrix using ConfusionMatrixDisplay\n",
    "disp = ConfusionMatrixDisplay(confusion_matrix=cm.values, display_labels=cls_n)\n",
    "disp.plot(cmap=plt.cm.Blues)\n",
    "\n",
    "fig_rf = disp.figure_\n",
    "fig_rf.set_figwidth(20)\n",
    "fig_rf.set_figheight(20)\n",
    "plt.xticks(rotation='vertical')\n",
    "plt.tight_layout()\n",
    "plt.savefig(f'paper/figures/confused-capybara-171_confu_blue.jpg')\n",
    "plt.show()"
   ],
   "metadata": {
    "collapsed": false
   }
  },
  {
   "cell_type": "code",
   "execution_count": null,
   "outputs": [],
   "source": [],
   "metadata": {
    "collapsed": false,
    "pycharm": {
     "is_executing": true
    }
   }
  },
  {
   "cell_type": "code",
   "execution_count": null,
   "outputs": [],
   "source": [],
   "metadata": {
    "collapsed": false,
    "pycharm": {
     "is_executing": true
    }
   }
  },
  {
   "cell_type": "code",
   "execution_count": null,
   "outputs": [],
   "source": [],
   "metadata": {
    "collapsed": false,
    "pycharm": {
     "is_executing": true
    }
   }
  }
 ],
 "metadata": {
  "kernelspec": {
   "display_name": "Python 3",
   "language": "python",
   "name": "python3"
  },
  "language_info": {
   "codemirror_mode": {
    "name": "ipython",
    "version": 2
   },
   "file_extension": ".py",
   "mimetype": "text/x-python",
   "name": "python",
   "nbconvert_exporter": "python",
   "pygments_lexer": "ipython2",
   "version": "2.7.6"
  }
 },
 "nbformat": 4,
 "nbformat_minor": 0
}
