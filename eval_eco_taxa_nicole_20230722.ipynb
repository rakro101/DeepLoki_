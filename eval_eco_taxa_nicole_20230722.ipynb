{
 "cells": [
  {
   "cell_type": "code",
   "execution_count": null,
   "metadata": {
    "collapsed": true
   },
   "outputs": [],
   "source": [
    "from sklearn.metrics import confusion_matrix, ConfusionMatrixDisplay\n",
    "from sklearn.metrics import classification_report\n",
    "from matplotlib import pyplot as plt\n",
    "import pandas as pd\n",
    "import numpy as np"
   ]
  },
  {
   "cell_type": "code",
   "execution_count": null,
   "outputs": [],
   "source": [
    "df_eco_taxa = pd.read_csv('output/ecoTaxa_nicole_dataPS992_20230722.csv')\n",
    "df_eco_taxa.head()\n",
    "df_preds = df_eco_taxa[[\"object_id\",\"label\"]]\n",
    "df_preds = df_preds[df_preds['label']!= \"Artefact\"]\n",
    "df_preds.shape"
   ],
   "metadata": {
    "collapsed": false
   }
  },
  {
   "cell_type": "markdown",
   "source": [],
   "metadata": {
    "collapsed": false
   }
  },
  {
   "cell_type": "code",
   "execution_count": null,
   "outputs": [],
   "source": [
    "df_gt = pd.read_csv('output/update_allcruises_df_validated_5with_zoomie_20230722.csv', sep=\";\")\n",
    "df_gt =df_gt[df_gt[\"object_cruise\"]==\"PS99.2\"]\n",
    "df_gt_save =df_gt.copy()\n",
    "df_gt = df_gt[[\"object_id\",\"label\"]]\n",
    "df_gt = df_gt[df_gt['label']!= \"Artefact\"]\n",
    "df_gt.shape"
   ],
   "metadata": {
    "collapsed": false
   }
  },
  {
   "cell_type": "code",
   "execution_count": null,
   "outputs": [],
   "source": [
    "df_preds = df_preds[df_preds[\"object_id\"].isin(df_gt[\"object_id\"])]\n",
    "df_preds.shape"
   ],
   "metadata": {
    "collapsed": false
   }
  },
  {
   "cell_type": "code",
   "execution_count": null,
   "outputs": [],
   "source": [
    "df_gt = df_gt[df_gt[\"object_id\"].isin(df_preds[\"object_id\"])]\n",
    "df_gt.shape\n",
    "# testdatset\n",
    "df_gt_save =df_gt_save[df_gt_save[\"object_id\"].isin(df_preds[\"object_id\"])]\n",
    "df_gt_save.to_csv(\"output/update_wo_artefacts_test_dataset_PS992_20230722_nicole.csv\",sep=\";\")"
   ],
   "metadata": {
    "collapsed": false
   }
  },
  {
   "cell_type": "code",
   "execution_count": null,
   "outputs": [],
   "source": [
    "SMALL_SIZE = 24\n",
    "MEDIUM_SIZE = 24\n",
    "BIGGER_SIZE = 24\n",
    "MEDIUM= 28\n",
    "TICK = 22\n",
    "I_SIZE = 8\n",
    "plt.rc('font', size=12)          # controls default text sizes\n",
    "plt.rc('axes', titlesize=SMALL_SIZE)     # fontsize of the axes title\n",
    "plt.rc('axes', labelsize=MEDIUM)    # fontsize of the x and y labels\n",
    "plt.rc('xtick', labelsize=TICK)    # fontsize of the tick labels\n",
    "plt.rc('ytick', labelsize=TICK)    # fontsize of the tick labels\n",
    "plt.rc('legend', fontsize=10)   # legend fontsize\n",
    "plt.rc('figure', titlesize=BIGGER_SIZE)\n",
    "plt.rcParams[\"figure.dpi\"] = 250"
   ],
   "metadata": {
    "collapsed": false
   }
  },
  {
   "cell_type": "code",
   "execution_count": null,
   "outputs": [],
   "source": [
    "# ecotaxa class report\n",
    "import locale\n",
    "df_preds = df_preds.sort_values(\"object_id\")\n",
    "df_gt = df_gt.sort_values(\"object_id\")\n",
    "all_cls =list(set(np.unique(list(df_gt['label']))).union(set(np.unique(list(df_preds['label'])))))\n",
    "all_cls.sort()\n",
    "\n",
    "#print(list(set(np.unique(list(df_gt['label']))).difference(set(np.unique(list(df_preds['label']))))))\n",
    "#print(list(set(np.unique(list(df_preds['label']))).difference(set(np.unique(list(df_gt['label']))))))\n",
    "preds = df_preds[\"label\"]\n",
    "gt = df_gt[\"label\"]\n",
    "rf_class_report = pd.DataFrame(classification_report(y_true = gt, y_pred = preds , output_dict=True)).transpose()\n",
    "#print(rf_class_report)\n",
    "rf_class_report.to_csv(f\"paper/tables/nicole_20230722_update_wo_artefacts_eco_taxa_sklearn_class_report.csv\", sep=\";\")\n",
    "print(rf_class_report)\n",
    "# rf save confusion matrix\n",
    "cm = confusion_matrix(gt, preds, labels=all_cls)\n",
    "disp = ConfusionMatrixDisplay(confusion_matrix=cm, display_labels=all_cls,)\n",
    "\n",
    "disp.plot(cmap=plt.cm.Blues, values_format='.2f')\n",
    "\n",
    "# remove the background raster\n",
    "df_cm = pd.DataFrame(cm)\n",
    "df_cm.to_csv(\"output/eco_matrix/eco_taxa_confusion_matrix_20230722.csv\", sep=\";\")\n",
    "fig_rf = disp.figure_\n",
    "fig_rf.set_figwidth(20)\n",
    "fig_rf.set_figheight(20)\n",
    "#fig_rf.suptitle('Plot of confusion matrix')\n",
    "plt.xticks(rotation='vertical')\n",
    "plt.tight_layout()\n",
    "plt.savefig(f'paper/figures/0nicole_20230722_wo_artefacts_eco_taxa_sklearn_confusion_matrix.jpg')\n",
    "plt.show()"
   ],
   "metadata": {
    "collapsed": false
   }
  },
  {
   "cell_type": "code",
   "execution_count": null,
   "outputs": [],
   "source": [
    "# rf save confusion matrix\n",
    "cm = confusion_matrix(gt, preds, labels=all_cls)\n",
    "disp = ConfusionMatrixDisplay(confusion_matrix=cm, display_labels=all_cls,)\n",
    "\n",
    "disp.plot(cmap=plt.cm.Blues, values_format='.0f')\n",
    "\n",
    "# remove the background raster\n",
    "df_cm = pd.DataFrame(cm)\n",
    "df_cm.to_csv(\"output/eco_matrix/eco_taxa_confusion_matrix_20230722.csv\", sep=\";\")\n",
    "fig_rf = disp.figure_\n",
    "fig_rf.set_figwidth(20)\n",
    "fig_rf.set_figheight(20)\n",
    "#fig_rf.suptitle('Plot of confusion matrix')\n",
    "plt.xticks(rotation='vertical')\n",
    "plt.tight_layout()\n",
    "plt.savefig(f'paper/figures/0nicole_20230722_wo_artefacts_eco_taxa_sklearn_confusion_matrix.jpg')\n",
    "plt.show()"
   ],
   "metadata": {
    "collapsed": false
   }
  },
  {
   "cell_type": "code",
   "execution_count": null,
   "outputs": [],
   "source": [
    "mod = False"
   ],
   "metadata": {
    "collapsed": false
   }
  },
  {
   "cell_type": "code",
   "execution_count": null,
   "outputs": [],
   "source": [
    "if mod:\n",
    "    icy_sea = \"paper/runs/icy-sea-89_test_confusion_matrix.csv\"\n",
    "    import numpy as np\n",
    "    import matplotlib.pyplot as plt\n",
    "    from sklearn.metrics import ConfusionMatrixDisplay\n",
    "    df = pd.read_csv(\"paper/runs/icy-sea-89_test_classification_report.csv\", sep=\";\")\n",
    "    class_names = df[df.columns[0]]\n",
    "    cls_n =list(class_names.values[:-3])\n",
    "    cls_n.append(\"Trochophora\")\n",
    "    cls_n.append(\"Copepoda_dead\")\n",
    "    cls_n.sort()\n",
    "    # load confusion matrix from CSV file\n",
    "    cm = pd.read_csv(icy_sea, sep=\";\", index_col=0)\n",
    "    # plot confusion matrix using ConfusionMatrixDisplay\n",
    "    disp = ConfusionMatrixDisplay(confusion_matrix=cm.values, display_labels=cls_n)\n",
    "    disp.plot(cmap=plt.cm.Blues)\n",
    "    fig_rf = disp.figure_\n",
    "    fig_rf.set_figwidth(20)\n",
    "    fig_rf.set_figheight(20)\n",
    "    #fig_rf.suptitle('Plot of confusion matrix')\n",
    "    plt.xticks(rotation='vertical')\n",
    "    plt.tight_layout()\n",
    "    #plt.savefig(f'paper/figures/icy_sea_confu_blue.jpg')\n",
    "    plt.show()\n",
    "    # show plot\n",
    "    #plt.show()"
   ],
   "metadata": {
    "collapsed": false
   }
  },
  {
   "cell_type": "code",
   "execution_count": null,
   "outputs": [],
   "source": [
    "if mod:\n",
    "    import matplotlib.pyplot as plt\n",
    "    from sklearn.metrics import ConfusionMatrixDisplay\n",
    "    df = pd.read_csv(\"paper/runs/icy-sea-89_test_classification_report.csv\", sep=\";\")\n",
    "    class_names = df[df.columns[0]]\n",
    "    cls_n =list(class_names.values[:-3])\n",
    "    cls_n.append(\"Trochophora\")\n",
    "    cls_n.append(\"Copepoda_dead\")\n",
    "    cls_n.sort()\n",
    "    # load confusion matrix from CSV file\n",
    "    cm = pd.read_csv(\"paper/runs/major-firebrand-98_test_confusion_matrix.csv\", sep=\";\", index_col=0)\n",
    "    # plot confusion matrix using ConfusionMatrixDisplay\n",
    "    disp = ConfusionMatrixDisplay(confusion_matrix=cm.values, display_labels=cls_n)\n",
    "    disp.plot(cmap=plt.cm.Blues)\n",
    "    fig_rf = disp.figure_\n",
    "    fig_rf.set_figwidth(20)\n",
    "    fig_rf.set_figheight(20)\n",
    "    #fig_rf.suptitle('Plot of confusion matrix')\n",
    "    plt.xticks(rotation='vertical')\n",
    "    plt.tight_layout()\n",
    "    #plt.savefig(f'paper/figures/major_firebrand_confu_blue.jpg')\n",
    "    plt.show()"
   ],
   "metadata": {
    "collapsed": false
   }
  },
  {
   "cell_type": "code",
   "execution_count": null,
   "outputs": [],
   "source": [
    "if mod:\n",
    "    import pandas as pd\n",
    "    import matplotlib.pyplot as plt\n",
    "    from sklearn.metrics import ConfusionMatrixDisplay\n",
    "\n",
    "    # Load the confusion matrices from the CSV files\n",
    "    cm1 = pd.read_csv(\"output/eco_matrix/eco_taxa_confusion_matrix.csv\", sep=\";\", index_col=0).values\n",
    "    cm2 = pd.read_csv(\"paper/runs/major-firebrand-98_test_confusion_matrix.csv\", sep=\";\", index_col=0).values\n",
    "    cm3 = pd.read_csv(\"paper/runs/icy-sea-89_test_confusion_matrix.csv\", sep=\";\", index_col=0).values\n",
    "\n",
    "    # Create a figure with subplots\n",
    "    fig, axes = plt.subplots(nrows=3, ncols=1, figsize=(32, 3*16))\n",
    "\n",
    "    # Compute the maximum value in all the confusion matrices\n",
    "    max_val = max(cm1.max().max(), cm2.max().max(), cm3.max().max())\n",
    "    label_names = [all_cls, cls_n,cls_n]\n",
    "    cm_names = [\"EcoTaxa\", \"dtl_resnet18\", \"dino_resnet18\"]\n",
    "    # Loop through the subplots and plot each confusion matrix\n",
    "    for i, cm in enumerate([cm1, cm2, cm3]):\n",
    "        print(cm.shape)\n",
    "        # Create a ConfusionMatrixDisplay object\n",
    "        #cm  = cm / cm.sum(axis=None, keepdims=True)\n",
    "        disp = ConfusionMatrixDisplay(cm, display_labels=label_names[i])\n",
    "        axes[i].set_facecolor('white')\n",
    "\n",
    "        # Plot the confusion matrix on the current subplot\n",
    "        disp.plot(ax=axes[i], cmap=plt.cm.Blues, xticks_rotation=\"vertical\", values_format='.0f', colorbar = True)\n",
    "\n",
    "        # Set the title of the subplot to the filename\n",
    "        #axes[i].set_title(f\"Confusion Matrix {i+1}\")\n",
    "\n",
    "        # Set the colorbar limits to the maximum value across all confusion matrices\n",
    "        disp.im_.set_clim(0, max_val)\n",
    "\n",
    "    # Add a shared colorbar\n",
    "    cbar_ax = fig.add_axes([0.92, 0.15, 0.03, 0.7])\n",
    "\n",
    "    cbar = fig.colorbar(disp.im_, ax=axes.ravel().tolist(), shrink=0.6, cax=cbar_ax)\n",
    "    cbar.ax.set_ylabel('Counts', rotation=90, labelpad=10)\n",
    "\n",
    "    # Adjust the layout and spacing of the subplots\n",
    "    #plt.subplots_adjust(left=0.05, bottom=0.2, right=0.9, top=0.85, wspace=0.35)\n",
    "    plt.tight_layout()\n",
    "    # Show the figure\n",
    "    plt.savefig(f'paper/figures/eco_dtl_dino_confusion_matrix.jpg')\n",
    "    plt.show()\n"
   ],
   "metadata": {
    "collapsed": false
   }
  },
  {
   "cell_type": "code",
   "execution_count": null,
   "outputs": [],
   "source": [],
   "metadata": {
    "collapsed": false,
    "pycharm": {
     "is_executing": true
    }
   }
  },
  {
   "cell_type": "code",
   "execution_count": null,
   "outputs": [],
   "source": [],
   "metadata": {
    "collapsed": false,
    "pycharm": {
     "is_executing": true
    }
   }
  }
 ],
 "metadata": {
  "kernelspec": {
   "display_name": "Python 3",
   "language": "python",
   "name": "python3"
  },
  "language_info": {
   "codemirror_mode": {
    "name": "ipython",
    "version": 2
   },
   "file_extension": ".py",
   "mimetype": "text/x-python",
   "name": "python",
   "nbconvert_exporter": "python",
   "pygments_lexer": "ipython2",
   "version": "2.7.6"
  }
 },
 "nbformat": 4,
 "nbformat_minor": 0
}
