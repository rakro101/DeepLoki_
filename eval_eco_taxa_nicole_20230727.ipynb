{
 "cells": [
  {
   "cell_type": "code",
   "execution_count": null,
   "metadata": {
    "collapsed": true
   },
   "outputs": [],
   "source": [
    "from sklearn.metrics import confusion_matrix, ConfusionMatrixDisplay\n",
    "from sklearn.metrics import classification_report\n",
    "from matplotlib import pyplot as plt\n",
    "import pandas as pd\n",
    "import numpy as np"
   ]
  },
  {
   "cell_type": "code",
   "execution_count": null,
   "outputs": [],
   "source": [
    "df_eco_taxa = pd.read_csv('output/ecoTaxa_nicole_dataPS992_20230727.csv')\n",
    "df_eco_taxa.head()\n",
    "df_preds = df_eco_taxa[[\"object_id\",\"label\"]]\n",
    "df_preds = df_preds[df_preds['label']!= \"Artefact\"]\n",
    "df_preds.shape"
   ],
   "metadata": {
    "collapsed": false
   }
  },
  {
   "cell_type": "markdown",
   "source": [],
   "metadata": {
    "collapsed": false
   }
  },
  {
   "cell_type": "code",
   "execution_count": null,
   "outputs": [],
   "source": [
    "df_gt = pd.read_csv('output/update_allcruises_df_validated_5with_zoomie_20230727.csv', sep=\";\")\n",
    "df_gt =df_gt[df_gt[\"object_cruise\"]==\"PS99.2\"]\n",
    "df_gt_save =df_gt.copy()\n",
    "df_gt = df_gt[[\"object_id\",\"label\"]]\n",
    "df_gt = df_gt[df_gt['label']!= \"Artefact\"]\n",
    "df_gt.shape"
   ],
   "metadata": {
    "collapsed": false
   }
  },
  {
   "cell_type": "code",
   "execution_count": null,
   "outputs": [],
   "source": [
    "df_preds = df_preds[df_preds[\"object_id\"].isin(df_gt[\"object_id\"])]\n",
    "df_preds.shape"
   ],
   "metadata": {
    "collapsed": false
   }
  },
  {
   "cell_type": "code",
   "execution_count": null,
   "outputs": [],
   "source": [
    "df_gt = df_gt[df_gt[\"object_id\"].isin(df_preds[\"object_id\"])]\n",
    "df_gt.shape\n",
    "# testdatset\n",
    "df_gt_save =df_gt_save[df_gt_save[\"object_id\"].isin(df_preds[\"object_id\"])]\n",
    "df_gt_save.to_csv(\"output/update_wo_artefacts_test_dataset_PS992_20230727_nicole.csv\",sep=\";\")"
   ],
   "metadata": {
    "collapsed": false
   }
  },
  {
   "cell_type": "code",
   "execution_count": null,
   "outputs": [],
   "source": [
    "SMALL_SIZE = 24\n",
    "MEDIUM_SIZE = 24\n",
    "BIGGER_SIZE = 24\n",
    "MEDIUM= 28\n",
    "TICK = 22\n",
    "I_SIZE = 8\n",
    "plt.rc('font', size=12)          # controls default text sizes\n",
    "plt.rc('axes', titlesize=SMALL_SIZE)     # fontsize of the axes title\n",
    "plt.rc('axes', labelsize=MEDIUM)    # fontsize of the x and y labels\n",
    "plt.rc('xtick', labelsize=TICK)    # fontsize of the tick labels\n",
    "plt.rc('ytick', labelsize=TICK)    # fontsize of the tick labels\n",
    "plt.rc('legend', fontsize=10)   # legend fontsize\n",
    "plt.rc('figure', titlesize=BIGGER_SIZE)\n",
    "plt.rcParams[\"figure.dpi\"] = 250"
   ],
   "metadata": {
    "collapsed": false
   }
  },
  {
   "cell_type": "code",
   "execution_count": null,
   "outputs": [],
   "source": [
    "# ecotaxa class report\n",
    "import locale\n",
    "df_preds = df_preds.sort_values(\"object_id\")\n",
    "df_gt = df_gt.sort_values(\"object_id\")\n",
    "all_cls =list(set(np.unique(list(df_gt['label']))).union(set(np.unique(list(df_preds['label'])))))\n",
    "all_cls.sort()\n",
    "all_cls.append(\"Trochophora\")\n",
    "all_cls.sort()\n",
    "#print(list(set(np.unique(list(df_gt['label']))).difference(set(np.unique(list(df_preds['label']))))))\n",
    "#print(list(set(np.unique(list(df_preds['label']))).difference(set(np.unique(list(df_gt['label']))))))\n",
    "preds = df_preds[\"label\"]\n",
    "gt = df_gt[\"label\"]\n",
    "rf_class_report = pd.DataFrame(classification_report(y_true = gt, y_pred = preds , output_dict=True)).transpose()\n",
    "#print(rf_class_report)\n",
    "rf_class_report.to_csv(f\"paper/tab20/nicole_20230722_update_wo_artefacts_eco_taxa_sklearn_class_report.csv\", sep=\";\")\n",
    "rf_class_report.to_csv(f\"trinity/eco_taxa_sklearn_class_report.csv\", sep=\";\")\n",
    "print(rf_class_report)\n",
    "# rf save confusion matrix\n",
    "cm = confusion_matrix(gt, preds, labels=all_cls)\n",
    "disp = ConfusionMatrixDisplay(confusion_matrix=cm, display_labels=all_cls,)\n",
    "\n",
    "disp.plot(cmap=plt.cm.Blues, values_format='.0f', colorbar=False)\n",
    "\n",
    "\n",
    "# remove the background raster\n",
    "df_cm = pd.DataFrame(cm)\n",
    "df_cm.to_csv(\"output/eco_matrix/eco_taxa_confusion_matrix_20230727.csv\", sep=\";\")\n",
    "df_cm.to_csv(\"trinity/eco_taxa_confusion_matrix_20230727.csv\", sep=\";\")\n",
    "fig_rf = disp.figure_\n",
    "fig_rf.set_figwidth(20)\n",
    "fig_rf.set_figheight(20)\n",
    "#fig_rf.suptitle('Plot of confusion matrix')\n",
    "plt.xticks(rotation='vertical')\n",
    "c = plt.imshow(cm,cmap=plt.cm.Blues,)\n",
    "plt.colorbar(c, shrink=0.7)\n",
    "plt.grid(False)\n",
    "plt.tight_layout()\n",
    "plt.savefig(f'paper/fig20/0nicole_20230727_wo_artefacts_eco_taxa_sklearn_confusion_matrix.jpg')\n",
    "plt.savefig(f'trinity/eco_taxa_sklearn_confusion_matrix.jpg')\n",
    "plt.show()"
   ],
   "metadata": {
    "collapsed": false
   }
  },
  {
   "cell_type": "code",
   "execution_count": null,
   "outputs": [],
   "source": [
    "# rf save confusion matrix\n",
    "cm = confusion_matrix(gt, preds, labels=all_cls)\n",
    "disp = ConfusionMatrixDisplay(confusion_matrix=cm, display_labels=all_cls,)\n",
    "\n",
    "disp.plot(cmap=plt.cm.Blues, values_format='.0f', colorbar=False)\n",
    "\n",
    "# remove the background raster\n",
    "df_cm = pd.DataFrame(cm)\n",
    "df_cm.to_csv(\"output/eco_matrix/eco_taxa_confusion_matrix_20230727.csv\", sep=\";\")\n",
    "fig_rf = disp.figure_\n",
    "fig_rf.set_figwidth(20)\n",
    "fig_rf.set_figheight(20)\n",
    "#fig_rf.suptitle('Plot of confusion matrix')\n",
    "plt.xticks(rotation='vertical')\n",
    "c = plt.imshow(cm,cmap=plt.cm.Blues,)\n",
    "plt.colorbar(c, shrink=0.7)\n",
    "plt.grid(False)\n",
    "plt.tight_layout()\n",
    "plt.savefig(f'paper/figures/0nicole_20230727_wo_artefacts_eco_taxa_sklearn_confusion_matrix.jpg')\n",
    "plt.show()"
   ],
   "metadata": {
    "collapsed": false
   }
  },
  {
   "cell_type": "code",
   "execution_count": null,
   "outputs": [],
   "source": [
    "mod = False"
   ],
   "metadata": {
    "collapsed": false
   }
  },
  {
   "cell_type": "code",
   "execution_count": null,
   "outputs": [],
   "source": [
    "mod = True\n",
    "if mod:\n",
    "    # fast salat\n",
    "    icy_sea = \"paper/runs/fast-salad-180_test_confusion_matrix.csv\"\n",
    "    import numpy as np\n",
    "    import matplotlib.pyplot as plt\n",
    "    from sklearn.metrics import ConfusionMatrixDisplay\n",
    "    df = pd.read_csv(\"paper/runs/fast-salad-180_test_classification_report.csv\", sep=\";\")\n",
    "    class_names = df[df.columns[0]]\n",
    "    cls_n =list(class_names.values[:-3])\n",
    "    #cls_n.append(\"Trochophora\")\n",
    "    #cls_n.append(\"Copepoda_dead\")\n",
    "    cls_n.sort()\n",
    "    # load confusion matrix from CSV file\n",
    "    cm = pd.read_csv(icy_sea, sep=\";\", index_col=0)\n",
    "    # plot confusion matrix using ConfusionMatrixDisplay\n",
    "    disp = ConfusionMatrixDisplay(confusion_matrix=cm.values, display_labels=cls_n)\n",
    "    disp.plot(cmap=plt.cm.Blues,colorbar=False)\n",
    "    fig_rf = disp.figure_\n",
    "    fig_rf.set_figwidth(20)\n",
    "    fig_rf.set_figheight(20)\n",
    "    #fig_rf.suptitle('Plot of confusion matrix')\n",
    "    plt.xticks(rotation='vertical')\n",
    "    c = plt.imshow(cm,cmap=plt.cm.Blues,)\n",
    "    plt.colorbar(c, shrink=0.7)\n",
    "    plt.grid(False)\n",
    "    plt.tight_layout()\n",
    "    plt.savefig(f'paper/fig20/dino_fast-salad-180_confu_blue.jpg')\n",
    "    plt.show()\n",
    "    # show plot\n",
    "    #plt.show()"
   ],
   "metadata": {
    "collapsed": false
   }
  },
  {
   "cell_type": "code",
   "execution_count": null,
   "outputs": [],
   "source": [
    "if mod:\n",
    "    import matplotlib.pyplot as plt\n",
    "    from sklearn.metrics import ConfusionMatrixDisplay\n",
    "    df = pd.read_csv(\"paper/runs/olive-glade-179_test_classification_report.csv\", sep=\";\")\n",
    "    class_names = df[df.columns[0]]\n",
    "    cls_n =list(class_names.values[:-3])\n",
    "    #cls_n.append(\"Trochophora\")\n",
    "    #cls_n.append(\"Copepoda_dead\")\n",
    "    cls_n.sort()\n",
    "    # load confusion matrix from CSV file\n",
    "    cm = pd.read_csv(\"paper/runs/olive-glade-179_test_confusion_matrix.csv\", sep=\";\", index_col=0)\n",
    "    # plot confusion matrix using ConfusionMatrixDisplay\n",
    "    disp = ConfusionMatrixDisplay(confusion_matrix=cm.values, display_labels=cls_n)\n",
    "    disp.plot(cmap=plt.cm.Blues,colorbar=False)\n",
    "    fig_rf = disp.figure_\n",
    "    fig_rf.set_figwidth(20)\n",
    "    fig_rf.set_figheight(20)\n",
    "    #fig_rf.suptitle('Plot of confusion matrix')\n",
    "    plt.xticks(rotation='vertical')\n",
    "    c = plt.imshow(cm,cmap=plt.cm.Blues,)\n",
    "    plt.colorbar(c, shrink=0.7)\n",
    "    plt.grid(False)\n",
    "    plt.tight_layout()\n",
    "    plt.savefig(f'paper/fig20/dtl_olive-glade-179__confu_blue.jpg')\n",
    "    plt.show()"
   ],
   "metadata": {
    "collapsed": false
   }
  },
  {
   "cell_type": "code",
   "execution_count": null,
   "outputs": [],
   "source": [],
   "metadata": {
    "collapsed": false
   }
  }
 ],
 "metadata": {
  "kernelspec": {
   "display_name": "Python 3",
   "language": "python",
   "name": "python3"
  },
  "language_info": {
   "codemirror_mode": {
    "name": "ipython",
    "version": 2
   },
   "file_extension": ".py",
   "mimetype": "text/x-python",
   "name": "python",
   "nbconvert_exporter": "python",
   "pygments_lexer": "ipython2",
   "version": "2.7.6"
  }
 },
 "nbformat": 4,
 "nbformat_minor": 0
}
