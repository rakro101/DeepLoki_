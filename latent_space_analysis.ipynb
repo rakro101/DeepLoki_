{
 "cells": [
  {
   "cell_type": "code",
   "execution_count": null,
   "metadata": {
    "collapsed": true,
    "pycharm": {
     "name": "#%%\n"
    }
   },
   "outputs": [],
   "source": [
    "import pandas as pd\n",
    "import numpy as np\n",
    "from matplotlib import pyplot as plt"
   ]
  },
  {
   "cell_type": "code",
   "execution_count": null,
   "outputs": [],
   "source": [
    "df1 = pd.read_csv(\"tsne_umap_plots/tsen_umap_embeddings.csv\")\n",
    "print(df1)\n",
    "#df1 = df1[df1[\"label\"]==\"Copepoda_Group_Oncaea\"]\n",
    "#df1 = df1[df1[\"label\"]==\"Copepoda_Microcalanus\"]\n",
    "df1 = df1[df1[\"label\"]==\"Copepoda_Calanus\"]\n",
    "df_test = pd.read_csv(\"output/update_wo_artefacts_test_dataset_PS992_03032023.csv\")\n",
    "df_test.to_csv(\"output/excel_update_wo_artefacts_test_dataset_PS992_03032023.csv\", sep=\";\")\n",
    "df = pd.merge(df1, df_test, on='img_file_name', how='left')"
   ],
   "metadata": {
    "collapsed": false,
    "pycharm": {
     "name": "#%%\n"
    }
   }
  },
  {
   "cell_type": "code",
   "execution_count": null,
   "outputs": [],
   "source": [
    "import pandas as pd\n",
    "import matplotlib.pyplot as plt\n",
    "\n",
    "# create example dataframe\n",
    "import seaborn as sns\n",
    "sns.set(rc={'figure.figsize':(24,24)})\n",
    "palette=sns.color_palette(\"bright\",n_colors=10)\n",
    "# create scatter plot\n",
    "fig, ax = plt.subplots()\n",
    "sns_plot_tsne =sns.scatterplot(data=df,x='x_umap', y='y_umap',  hue='label_x', legend='full',palette=palette )\n",
    "\n",
    "# add index labels to each point\n",
    "for i, row in df.iterrows():\n",
    "    ax.annotate(i, (row['x_umap'], row['y_umap']))\n",
    "\n",
    "# add axis labels and title\n",
    "ax.set_xlabel('x')\n",
    "ax.set_ylabel('y')\n",
    "ax.set_title('Scatter plot with index labels')\n",
    "\n",
    "# show plot\n",
    "plt.show()"
   ],
   "metadata": {
    "collapsed": false,
    "pycharm": {
     "name": "#%%\n"
    }
   }
  },
  {
   "cell_type": "code",
   "execution_count": null,
   "outputs": [],
   "source": [
    "df_right = df[df[\"x_umap\"]>=5]\n",
    "#df_right =df_right[df_right[\"y_umap\"]>=4]\n",
    "df_left = df[df[\"x_umap\"]<5]\n",
    "#df_left =df_left[df_left[\"y_umap\"]>=4]"
   ],
   "metadata": {
    "collapsed": false,
    "pycharm": {
     "name": "#%%\n"
    }
   }
  },
  {
   "cell_type": "code",
   "execution_count": null,
   "outputs": [],
   "source": [
    "cols = list(df_right.columns)\n",
    "cols"
   ],
   "metadata": {
    "collapsed": false,
    "pycharm": {
     "name": "#%%\n"
    }
   }
  },
  {
   "cell_type": "code",
   "execution_count": null,
   "outputs": [],
   "source": [
    "df_left['object_annotation_category'].value_counts()"
   ],
   "metadata": {
    "collapsed": false,
    "pycharm": {
     "name": "#%%\n"
    }
   }
  },
  {
   "cell_type": "code",
   "execution_count": null,
   "outputs": [],
   "source": [
    "df_right['object_annotation_category'].value_counts()"
   ],
   "metadata": {
    "collapsed": false,
    "pycharm": {
     "name": "#%%\n"
    }
   }
  },
  {
   "cell_type": "code",
   "execution_count": null,
   "outputs": [],
   "source": [
    "df_left['object_date'].value_counts()"
   ],
   "metadata": {
    "collapsed": false,
    "pycharm": {
     "name": "#%%\n"
    }
   }
  },
  {
   "cell_type": "code",
   "execution_count": null,
   "outputs": [],
   "source": [
    "df_right['object_date'].value_counts()"
   ],
   "metadata": {
    "collapsed": false,
    "pycharm": {
     "name": "#%%\n"
    }
   }
  },
  {
   "cell_type": "code",
   "execution_count": null,
   "outputs": [],
   "source": [
    "df_left['object_lon'].value_counts()"
   ],
   "metadata": {
    "collapsed": false,
    "pycharm": {
     "name": "#%%\n"
    }
   }
  },
  {
   "cell_type": "code",
   "execution_count": null,
   "outputs": [],
   "source": [
    "df_right['object_lon'].value_counts()"
   ],
   "metadata": {
    "collapsed": false,
    "pycharm": {
     "name": "#%%\n"
    }
   }
  },
  {
   "cell_type": "code",
   "execution_count": null,
   "outputs": [],
   "source": [
    "df_right[['object_lon', 'object_lat', \"object_haul\", \"object_station\"]].value_counts()"
   ],
   "metadata": {
    "collapsed": false,
    "pycharm": {
     "name": "#%%\n"
    }
   }
  },
  {
   "cell_type": "code",
   "execution_count": null,
   "outputs": [],
   "source": [
    "df_left[['object_lon', 'object_lat', \"object_haul\", \"object_station\"]].value_counts()"
   ],
   "metadata": {
    "collapsed": false,
    "pycharm": {
     "name": "#%%\n"
    }
   }
  },
  {
   "cell_type": "code",
   "execution_count": null,
   "outputs": [],
   "source": [],
   "metadata": {
    "collapsed": false,
    "pycharm": {
     "name": "#%%\n"
    }
   }
  },
  {
   "cell_type": "code",
   "execution_count": null,
   "outputs": [],
   "source": [],
   "metadata": {
    "collapsed": false,
    "pycharm": {
     "name": "#%%\n"
    }
   }
  }
 ],
 "metadata": {
  "kernelspec": {
   "display_name": "Python 3",
   "language": "python",
   "name": "python3"
  },
  "language_info": {
   "codemirror_mode": {
    "name": "ipython",
    "version": 2
   },
   "file_extension": ".py",
   "mimetype": "text/x-python",
   "name": "python",
   "nbconvert_exporter": "python",
   "pygments_lexer": "ipython2",
   "version": "2.7.6"
  }
 },
 "nbformat": 4,
 "nbformat_minor": 0
}