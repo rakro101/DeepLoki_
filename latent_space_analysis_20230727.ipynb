{
 "cells": [
  {
   "cell_type": "code",
   "execution_count": null,
   "metadata": {
    "collapsed": true
   },
   "outputs": [],
   "source": [
    "import pandas as pd\n",
    "import numpy as np\n",
    "from matplotlib import pyplot as plt"
   ]
  },
  {
   "cell_type": "code",
   "execution_count": null,
   "outputs": [],
   "source": [
    "df1 = pd.read_csv(\"tsne_umap_plots/42_A_tsen_umap_embeddings.csv\")\n",
    "#print(df1)\n",
    "#df1 = df1[df1[\"label\"]==\"Copepoda_Group_Oncaea\"]\n",
    "#df1 = df1[df1[\"label\"]==\"Copepoda_Microcalanus\"]\n",
    "df1 = df1[df1[\"label\"]==\"Copepoda_Calanus\"]\n",
    "df_test = pd.read_csv(\"output/update_wo_artefacts_test_dataset_PS992_20230727_nicole.csv\", sep=\";\")\n",
    "df_test.to_csv(\"output/excel_update_wo_artefacts_test_dataset_PS992_20230727.csv\", sep=\";\")\n",
    "df = pd.merge(df1, df_test, on='img_file_name', how='left')"
   ],
   "metadata": {
    "collapsed": false
   }
  },
  {
   "cell_type": "code",
   "execution_count": null,
   "outputs": [],
   "source": [
    "print(df_test[[\"object_zoomie_state\", \"object_zoomie_group_id\"]].value_counts())"
   ],
   "metadata": {
    "collapsed": false
   }
  },
  {
   "cell_type": "code",
   "execution_count": null,
   "outputs": [],
   "source": [
    "print(df_test.columns.tolist())"
   ],
   "metadata": {
    "collapsed": false
   }
  },
  {
   "cell_type": "code",
   "execution_count": null,
   "outputs": [],
   "source": [
    "#df = df.drop(columns=[\"latent_space\"])\n",
    "df.shape\n",
    "def left_or_right(x):\n",
    "    if x<5:\n",
    "        return \"left\"\n",
    "    else:\n",
    "        return \"right\"\n",
    "df['l_or_r'] =df['x_umap'].apply(lambda x: left_or_right(x))"
   ],
   "metadata": {
    "collapsed": false
   }
  },
  {
   "cell_type": "code",
   "execution_count": null,
   "outputs": [],
   "source": [
    "df['l_or_r'].value_counts()"
   ],
   "metadata": {
    "collapsed": false
   }
  },
  {
   "cell_type": "code",
   "execution_count": null,
   "outputs": [],
   "source": [
    "df001 =df.copy()\n",
    "df001.to_csv(\"output/42_Copepoda_Calanus_PS992_20230727.csv\", sep=\";\")\n",
    "# \"root_path_x\", \"img_file_name\", \"l_or_r\", \"label_x\", \"object_annotation_category\",\"object_station\"\n",
    "# \"object_lat\",\"object_lon\"\n",
    "df002 = df001[[\"img_file_name\", \"root_path_x\", \"l_or_r\", \"label_x\", \"object_annotation_category\",\"object_station\", \"object_lat\",\"object_lon\"]]\n",
    "df002.to_csv(\"output/42_Filtered_Copepoda_Calanus_PS992_20230727.csv\", sep=\";\")\n",
    "df002.head()"
   ],
   "metadata": {
    "collapsed": false
   }
  },
  {
   "cell_type": "code",
   "execution_count": null,
   "outputs": [],
   "source": [
    "df004 = df002[[\"object_station\", \"object_annotation_category\"]].value_counts()"
   ],
   "metadata": {
    "collapsed": false
   }
  },
  {
   "cell_type": "code",
   "execution_count": null,
   "outputs": [],
   "source": [
    "df004.sort_index()"
   ],
   "metadata": {
    "collapsed": false
   }
  },
  {
   "cell_type": "code",
   "execution_count": null,
   "outputs": [],
   "source": [
    "import os\n",
    "import pandas as pd\n",
    "import shutil\n",
    "\n",
    "df002['folder_name'] = df002['object_station'] + df002['label_x'] + df002['l_or_r']\n",
    "folder_counts = df002['folder_name'].value_counts()\n",
    "\n",
    "for folder_name in folder_counts.index:\n",
    "    os.makedirs(os.path.join('object_station', folder_name), exist_ok=True)\n",
    "\n",
    "# Step 2: Copy images to their corresponding folders\n",
    "for index, row in df002.iterrows():\n",
    "    img_file_name = row['img_file_name']\n",
    "    root_path_x = row['root_path_x']\n",
    "    folder_name = row['folder_name']\n",
    "\n",
    "    src_path = os.path.join(root_path_x, img_file_name)\n",
    "    dst_path = os.path.join('object_station', folder_name, img_file_name)\n",
    "    print(src_path, dst_path)\n",
    "    #shutil.copy(src_path, dst_path)\n",
    "\n",
    "print(\"Images have been copied to the corresponding folders.\")"
   ],
   "metadata": {
    "collapsed": false,
    "pycharm": {
     "is_executing": true
    }
   }
  },
  {
   "cell_type": "code",
   "execution_count": null,
   "outputs": [],
   "source": [
    "df002.columns"
   ],
   "metadata": {
    "collapsed": false
   }
  },
  {
   "cell_type": "code",
   "execution_count": null,
   "outputs": [],
   "source": [
    "import pandas as pd\n",
    "import matplotlib.pyplot as plt\n",
    "\n",
    "# create example dataframe\n",
    "import seaborn as sns\n",
    "sns.set(rc={'figure.figsize':(24,24)})\n",
    "palette=sns.color_palette(\"bright\",n_colors=10)\n",
    "# create scatter plot\n",
    "fig, ax = plt.subplots()\n",
    "sns_plot_tsne =sns.scatterplot(data=df001,x='x_umap', y='y_umap',  hue='label_x', legend='full',palette=palette )\n",
    "\n",
    "# add index labels to each point\n",
    "for i, row in df001.iterrows():\n",
    "    ax.annotate(i, (row['x_umap'], row['y_umap']))\n",
    "\n",
    "# add axis labels and title\n",
    "ax.set_xlabel('x')\n",
    "ax.set_ylabel('y')\n",
    "ax.axvline(x=5, color='r', linestyle='--', label='x = 5')\n",
    "ax.set_title('Scatter plot with index labels')\n",
    "plt.savefig('42_umap__plot_20230727.jpeg')\n",
    "# show plot\n",
    "plt.show()"
   ],
   "metadata": {
    "collapsed": false,
    "pycharm": {
     "is_executing": true
    }
   }
  },
  {
   "cell_type": "code",
   "execution_count": null,
   "outputs": [],
   "source": [],
   "metadata": {
    "collapsed": false,
    "pycharm": {
     "is_executing": true
    }
   }
  },
  {
   "cell_type": "code",
   "execution_count": null,
   "outputs": [],
   "source": [
    "df_right = df[df[\"x_umap\"]>=5]\n",
    "#df_right =df_right[df_right[\"y_umap\"]>=4]\n",
    "df_left = df[df[\"x_umap\"]<5]\n",
    "#df_left =df_left[df_left[\"y_umap\"]>=4]"
   ],
   "metadata": {
    "collapsed": false,
    "pycharm": {
     "is_executing": true
    }
   }
  },
  {
   "cell_type": "code",
   "execution_count": null,
   "outputs": [],
   "source": [
    "#df_right_ = df_right.drop(columns=[\"latent_space\"])\n",
    "#df_right_.to_csv(\"elch_analysis/right_data_geq_5_on_xaxis.csv\", sep=\";\")"
   ],
   "metadata": {
    "collapsed": false,
    "pycharm": {
     "is_executing": true
    }
   }
  },
  {
   "cell_type": "code",
   "execution_count": null,
   "outputs": [],
   "source": [
    "#df_left_= df_left.drop(columns=[\"latent_space\"])\n",
    "#df_left_.to_csv(\"elch_analysis/left_data_geq_5_on_xaxis.csv\", sep=\";\")"
   ],
   "metadata": {
    "collapsed": false,
    "pycharm": {
     "is_executing": true
    }
   }
  },
  {
   "cell_type": "code",
   "execution_count": null,
   "outputs": [],
   "source": [
    "cols = list(df_right.columns)\n",
    "cols"
   ],
   "metadata": {
    "collapsed": false,
    "pycharm": {
     "is_executing": true
    }
   }
  },
  {
   "cell_type": "code",
   "execution_count": null,
   "outputs": [],
   "source": [
    "df_left['object_annotation_category'].value_counts().to_csv(\"elch_analysis/42_left_data_geq_5_on_xaxis_object_annotation_category.csv\", sep=\";\")\n",
    "df_left['object_annotation_category'].value_counts()"
   ],
   "metadata": {
    "collapsed": false,
    "pycharm": {
     "is_executing": true
    }
   }
  },
  {
   "cell_type": "code",
   "execution_count": null,
   "outputs": [],
   "source": [
    "df_right['object_annotation_category'].value_counts().to_csv(\"elch_analysis/42_right_data_geq_5_on_xaxis_object_annotation_category.csv\", sep=\";\")\n",
    "df_right['object_annotation_category'].value_counts()"
   ],
   "metadata": {
    "collapsed": false,
    "pycharm": {
     "is_executing": true
    }
   }
  },
  {
   "cell_type": "code",
   "execution_count": null,
   "outputs": [],
   "source": [
    "df_left['object_date'].value_counts()"
   ],
   "metadata": {
    "collapsed": false,
    "pycharm": {
     "is_executing": true
    }
   }
  },
  {
   "cell_type": "code",
   "execution_count": null,
   "outputs": [],
   "source": [
    "df_right['object_date'].value_counts()"
   ],
   "metadata": {
    "collapsed": false,
    "pycharm": {
     "is_executing": true
    }
   }
  },
  {
   "cell_type": "code",
   "execution_count": null,
   "outputs": [],
   "source": [
    "df_left['object_lon'].value_counts()"
   ],
   "metadata": {
    "collapsed": false,
    "pycharm": {
     "is_executing": true
    }
   }
  },
  {
   "cell_type": "code",
   "execution_count": null,
   "outputs": [],
   "source": [
    "df_right['object_lon'].value_counts()"
   ],
   "metadata": {
    "collapsed": false,
    "pycharm": {
     "is_executing": true
    }
   }
  },
  {
   "cell_type": "code",
   "execution_count": null,
   "outputs": [],
   "source": [
    "df_right[['object_lon', 'object_lat', \"object_haul\", \"object_station\", 'object_date']].value_counts().to_csv(\"elch_analysis/42_right_data_geq_5_on_xaxis_object_values.csv\", sep=\";\")\n",
    "df_right[['object_lon', 'object_lat', \"object_haul\", \"object_station\", 'object_date']].value_counts()"
   ],
   "metadata": {
    "collapsed": false,
    "pycharm": {
     "is_executing": true
    }
   }
  },
  {
   "cell_type": "code",
   "execution_count": null,
   "outputs": [],
   "source": [
    "df_left[['object_lon', 'object_lat', \"object_haul\", \"object_station\", 'object_date']].value_counts().to_csv(\"elch_analysis/42_left_data_geq_5_on_xaxis_object_values.csv\", sep=\";\")\n",
    "df_left[['object_lon', 'object_lat', \"object_haul\", \"object_station\", 'object_date']].value_counts()"
   ],
   "metadata": {
    "collapsed": false,
    "pycharm": {
     "is_executing": true
    }
   }
  },
  {
   "cell_type": "code",
   "execution_count": null,
   "outputs": [],
   "source": [
    "df_r = df001[df001[\"l_or_r\"]==\"left\"]\n",
    "df_l = df001[df001[\"l_or_r\"]==\"right\"]\n",
    "nc_r = df_r.select_dtypes(include=np.number)\n",
    "nc_l = df_l.select_dtypes(include=np.number)"
   ],
   "metadata": {
    "collapsed": false,
    "pycharm": {
     "is_executing": true
    }
   }
  },
  {
   "cell_type": "code",
   "execution_count": null,
   "outputs": [],
   "source": [
    "nc_r.mean()"
   ],
   "metadata": {
    "collapsed": false,
    "pycharm": {
     "is_executing": true
    }
   }
  },
  {
   "cell_type": "code",
   "execution_count": null,
   "outputs": [],
   "source": [
    "nc_l.mean()"
   ],
   "metadata": {
    "collapsed": false,
    "pycharm": {
     "is_executing": true
    }
   }
  },
  {
   "cell_type": "code",
   "execution_count": null,
   "outputs": [],
   "source": [
    "merged = pd.concat([nc_r.mean(),nc_l.mean(), nc_r.var(),nc_l.var(), nc_r.min(), nc_l.min(),nc_r.max(), nc_l.max(),nc_r.std(), nc_l.std(),nc_r.median(), nc_l.median(),nc_r.skew(), nc_l.skew(), nc_r.kurtosis(), nc_l.kurtosis()], axis =1)"
   ],
   "metadata": {
    "collapsed": false,
    "pycharm": {
     "is_executing": true
    }
   }
  },
  {
   "cell_type": "code",
   "execution_count": null,
   "outputs": [],
   "source": [
    "merged"
   ],
   "metadata": {
    "collapsed": false,
    "pycharm": {
     "is_executing": true
    }
   }
  },
  {
   "cell_type": "code",
   "execution_count": null,
   "outputs": [],
   "source": [
    "# Rename the columns\n",
    "merged.rename(columns={0: 'mean_r', 1: 'mean_l', 2: 'var_r', 3: 'var_l', 4:'min_r', 5:'min_l', 6:'max_r', 7:'max_l', 8:'std_r', 9:'std_l', 10:'median_r', 11:'median_l', 12:'skew_r', 13:'skew_l', 14:'kurtosis_r', 15:'kurtosis_l'}, inplace=True)"
   ],
   "metadata": {
    "collapsed": false,
    "pycharm": {
     "is_executing": true
    }
   }
  },
  {
   "cell_type": "code",
   "execution_count": null,
   "outputs": [],
   "source": [
    "print(merged)"
   ],
   "metadata": {
    "collapsed": false,
    "pycharm": {
     "is_executing": true
    }
   }
  },
  {
   "cell_type": "code",
   "execution_count": null,
   "outputs": [],
   "source": [],
   "metadata": {
    "collapsed": false,
    "pycharm": {
     "is_executing": true
    }
   }
  },
  {
   "cell_type": "code",
   "execution_count": null,
   "outputs": [],
   "source": [
    "merged_na = merged.dropna()"
   ],
   "metadata": {
    "collapsed": false,
    "pycharm": {
     "is_executing": true
    }
   }
  },
  {
   "cell_type": "code",
   "execution_count": null,
   "outputs": [],
   "source": [
    "merged_na"
   ],
   "metadata": {
    "collapsed": false,
    "pycharm": {
     "is_executing": true
    }
   }
  },
  {
   "cell_type": "code",
   "execution_count": null,
   "outputs": [],
   "source": [
    "merged_na[\"mean_q\"] =merged_na[\"mean_r\"]/merged_na[\"mean_l\"]+0.00000001\n",
    "merged_na[\"mean_p\"] =merged_na[\"mean_l\"]/merged_na[\"mean_r\"]+0.00000001\n",
    "merged_na[\"mean_pq\"] = merged_na[[\"mean_p\", \"mean_l\"]].max(axis=1)"
   ],
   "metadata": {
    "collapsed": false,
    "pycharm": {
     "is_executing": true
    }
   }
  },
  {
   "cell_type": "code",
   "execution_count": null,
   "outputs": [],
   "source": [
    "merged_sorted = merged_na.sort_values(by='mean_pq', ascending=False)"
   ],
   "metadata": {
    "collapsed": false,
    "pycharm": {
     "is_executing": true
    }
   }
  },
  {
   "cell_type": "code",
   "execution_count": null,
   "outputs": [],
   "source": [
    "merged_sorted"
   ],
   "metadata": {
    "collapsed": false,
    "pycharm": {
     "is_executing": true
    }
   }
  },
  {
   "cell_type": "code",
   "execution_count": null,
   "outputs": [],
   "source": [
    "\n",
    "merged_sorted.to_csv(\"barbara/recht_vs_links_stats_evals_on_parameters.csv\")"
   ],
   "metadata": {
    "collapsed": false,
    "pycharm": {
     "is_executing": true
    }
   }
  },
  {
   "cell_type": "code",
   "execution_count": null,
   "outputs": [],
   "source": [
    "import pandas as pd\n",
    "from scipy.stats import ttest_ind\n",
    "\n",
    "# Nehmen wir an, Sie haben bereits Ihre beiden DataFrames df1 und df2\n",
    "\n",
    "# Überprüfen Sie, ob die Spalten in beiden DataFrames übereinstimmen\n",
    "if nc_r.columns.tolist() != nc_l.columns.tolist():\n",
    "    print(\"Die Spalten in den beiden DataFrames stimmen nicht überein.\")\n",
    "else:\n",
    "    # Hier gehen wir davon aus, dass die Spalten in beiden DataFrames gleich sind\n",
    "\n",
    "    # Liste für die Ergebnisse\n",
    "    results = []\n",
    "\n",
    "    # Führen Sie den t-Test für jede Spalte durch\n",
    "    for column in nc_r.columns:\n",
    "        # Extrahieren Sie die Daten für jede Spalte\n",
    "        data1 = nc_r[column]\n",
    "        data2 = nc_l[column]\n",
    "\n",
    "        # Führen Sie den t-Test durch\n",
    "        t_stat, p_value = ttest_ind(data1, data2)\n",
    "\n",
    "        # Entscheiden Sie, ob die Spalten signifikant unterschiedlich sind (hier verwenden wir eine Signifikanzniveau von 0.05)\n",
    "        if p_value < 0.05:\n",
    "            difference = \"Yes\"\n",
    "        else:\n",
    "            difference = \"No\"\n",
    "\n",
    "        # Ergebnisse hinzufügen\n",
    "        results.append({\"Column\": column, \"Difference\": difference, \"P-Value\": p_value})\n",
    "\n",
    "    # DataFrame aus der Ergebnisliste erstellen\n",
    "    results_df = pd.DataFrame(results)\n",
    "\n",
    "    # Ergebnisse anzeigen\n",
    "    print(results_df)"
   ],
   "metadata": {
    "collapsed": false,
    "pycharm": {
     "is_executing": true
    }
   }
  },
  {
   "cell_type": "code",
   "execution_count": null,
   "outputs": [],
   "source": [
    "results_df.to_csv(\"barbara/recht_vs_links_t_test_p_value_results_on_parameters.csv\")"
   ],
   "metadata": {
    "collapsed": false,
    "pycharm": {
     "is_executing": true
    }
   }
  },
  {
   "cell_type": "code",
   "execution_count": null,
   "outputs": [],
   "source": [],
   "metadata": {
    "collapsed": false,
    "pycharm": {
     "is_executing": true
    }
   }
  },
  {
   "cell_type": "code",
   "execution_count": null,
   "outputs": [],
   "source": [],
   "metadata": {
    "collapsed": false
   }
  }
 ],
 "metadata": {
  "kernelspec": {
   "display_name": "Python 3",
   "language": "python",
   "name": "python3"
  },
  "language_info": {
   "codemirror_mode": {
    "name": "ipython",
    "version": 2
   },
   "file_extension": ".py",
   "mimetype": "text/x-python",
   "name": "python",
   "nbconvert_exporter": "python",
   "pygments_lexer": "ipython2",
   "version": "2.7.6"
  }
 },
 "nbformat": 4,
 "nbformat_minor": 0
}
