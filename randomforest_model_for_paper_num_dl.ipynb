{
 "cells": [
  {
   "cell_type": "code",
   "execution_count": null,
   "metadata": {
    "collapsed": true,
    "pycharm": {
     "name": "#%%\n"
    }
   },
   "outputs": [],
   "source": [
    "import pandas as pd\n",
    "import torch\n",
    "\n",
    "from loki_datasets_features import LokiDataModule\n"
   ]
  },
  {
   "cell_type": "code",
   "execution_count": null,
   "outputs": [],
   "source": [
    "dm = LokiDataModule(batch_size=1024)"
   ],
   "metadata": {
    "collapsed": false,
    "pycharm": {
     "name": "#%%\n"
    }
   }
  },
  {
   "cell_type": "code",
   "execution_count": null,
   "outputs": [],
   "source": [
    "from loki_datasets_features import LokiTrainValDataset, LokiTestDataset\n",
    "ab = LokiTrainValDataset()\n",
    "a_encoder_train = ab.label_encoder\n",
    "a_numeric_columns = ab.numeric_columns\n",
    "a_imputer_num = ab.imputer_num\n",
    "cd = LokiTestDataset(label_encoder=a_encoder_train, numeric_columns=a_numeric_columns, imputer_num=a_imputer_num)\n",
    "a =set(ab.numeric_columns)\n",
    "b =set(cd.numeric_columns)\n",
    "print(len(a),len(b))\n",
    "print(a)"
   ],
   "metadata": {
    "collapsed": false,
    "pycharm": {
     "name": "#%%\n"
    }
   }
  },
  {
   "cell_type": "markdown",
   "source": [],
   "metadata": {
    "collapsed": false,
    "pycharm": {
     "name": "#%% md\n"
    }
   }
  },
  {
   "cell_type": "code",
   "execution_count": null,
   "outputs": [],
   "source": [
    "train_dataiter =iter(dm.train_dataloader())\n",
    "train_features_list=[]\n",
    "train_label_list=[]\n",
    "train_counter = 0\n",
    "while True:\n",
    "    img, feature, label = next(train_dataiter)\n",
    "    train_features_list.append(feature)\n",
    "    train_label_list.append(label)\n",
    "    print(train_counter, img.shape, feature.shape, label.shape)\n",
    "    train_counter +=1"
   ],
   "metadata": {
    "collapsed": false,
    "pycharm": {
     "name": "#%%\n"
    }
   }
  },
  {
   "cell_type": "code",
   "execution_count": null,
   "outputs": [],
   "source": [
    "val_dataiter =iter(dm.val_dataloader())\n",
    "val_features_list=[]\n",
    "val_label_list=[]\n",
    "val_counter = 0\n",
    "while True:\n",
    "    img, feature, label = next(val_dataiter)\n",
    "    val_features_list.append(feature)\n",
    "    val_label_list.append(label)\n",
    "    print(val_counter, img.shape, feature.shape, label.shape)\n",
    "    val_counter +=1"
   ],
   "metadata": {
    "collapsed": false,
    "pycharm": {
     "name": "#%%\n"
    }
   }
  },
  {
   "cell_type": "code",
   "execution_count": null,
   "outputs": [],
   "source": [
    "test_dataiter = iter(dm.test_dataloader())\n",
    "test_features_list = []\n",
    "test_label_list = []\n",
    "test_counter = 0\n",
    "while True:\n",
    "    img, feature, label = next(test_dataiter)\n",
    "    test_features_list.append(feature)\n",
    "    test_label_list.append(label)\n",
    "    print(test_counter, img.shape, feature.shape, label.shape)\n",
    "    test_counter += 1"
   ],
   "metadata": {
    "collapsed": false,
    "pycharm": {
     "name": "#%%\n"
    }
   }
  },
  {
   "cell_type": "code",
   "execution_count": null,
   "outputs": [],
   "source": [
    "import torch\n",
    "train_features = torch.concat(train_features_list, dim=0).numpy()\n",
    "train_labels = torch.concat(train_label_list, dim=0).numpy()\n",
    "val_features = torch.concat(val_features_list, dim=0).numpy()\n",
    "val_labels = torch.concat(val_label_list, dim=0).numpy()\n",
    "test_features = torch.concat(test_features_list, dim=0).numpy()\n",
    "test_labels = torch.concat(test_label_list, dim=0).numpy()"
   ],
   "metadata": {
    "collapsed": false,
    "pycharm": {
     "name": "#%%\n"
    }
   }
  },
  {
   "cell_type": "code",
   "execution_count": null,
   "outputs": [],
   "source": [
    "# Sklear\n",
    "X_train = pd.DataFrame(train_features)\n",
    "y_train = pd.DataFrame(train_labels.ravel())\n",
    "X_val = pd.DataFrame(val_features)\n",
    "y_val = pd.DataFrame(val_labels.ravel())\n",
    "X_test = pd.DataFrame(test_features)\n",
    "y_test = pd.DataFrame(test_labels.ravel())"
   ],
   "metadata": {
    "collapsed": false,
    "pycharm": {
     "name": "#%%\n"
    }
   }
  },
  {
   "cell_type": "code",
   "execution_count": null,
   "outputs": [],
   "source": [
    "print(X_train.shape)\n",
    "print(X_val.shape)\n",
    "print(X_test.shape)"
   ],
   "metadata": {
    "collapsed": false,
    "pycharm": {
     "name": "#%%\n"
    }
   }
  },
  {
   "cell_type": "code",
   "execution_count": null,
   "outputs": [],
   "source": [
    "import numpy as np\n",
    "from time import time\n",
    "from sklearn.compose import ColumnTransformer\n",
    "from sklearn.datasets import fetch_openml\n",
    "from sklearn.pipeline import Pipeline\n",
    "from sklearn.impute import SimpleImputer\n",
    "from sklearn.preprocessing import StandardScaler, OneHotEncoder\n",
    "from sklearn.compose import make_column_selector as selector\n",
    "from sklearn.tree import DecisionTreeClassifier\n",
    "from sklearn.ensemble import RandomForestClassifier\n",
    "\n",
    "np.random.seed(42)\n",
    "numeric_transformer = Pipeline(\n",
    "    steps=[\n",
    "        (\"imputer\", SimpleImputer(strategy=\"mean\")),\n",
    "        (\"scaler\", StandardScaler())\n",
    "    ]\n",
    ")\n",
    "\n",
    "preprocessor = ColumnTransformer(\n",
    "    transformers=[\n",
    "        (\"num\", numeric_transformer, selector(dtype_include=\"number\")),\n",
    "    ]\n",
    ")\n",
    "\n",
    "\n",
    "clf = Pipeline(\n",
    "    steps=[(\"preprocessor\", preprocessor), (\"classifier\", RandomForestClassifier(max_depth=20, n_estimators=50, max_features=25))]\n",
    ")\n",
    "\n",
    "t0 = time()\n",
    "clf.fit(X_train, y_train)\n",
    "print(\"fit done in %0.3fs\" % (time() - t0))\n",
    "y_my_test = clf.predict(X_test)\n",
    "y_my_val = clf.predict(X_val)\n",
    "print(\"model score on validation data: %.3f\" % clf.score(X_val, y_val))\n",
    "print(\"model score on test data: %.3f\" % clf.score(X_test, y_test))"
   ],
   "metadata": {
    "collapsed": false,
    "pycharm": {
     "name": "#%%\n"
    }
   }
  },
  {
   "cell_type": "code",
   "execution_count": null,
   "outputs": [],
   "source": [
    "from time import time\n",
    "from matplotlib import pyplot as plt\n",
    "from sklearn.metrics import ConfusionMatrixDisplay\n",
    "from sklearn.metrics import classification_report\n",
    "\n",
    "rf_class_report = pd.DataFrame(classification_report(y_true = y_test, y_pred = y_my_test, output_dict=True)).transpose()\n",
    "rf_class_report.to_csv(f\"paper/tables/RF_03032023_sklearn_class_report.csv\", sep=\";\")\n",
    "print(\"Predicting people's names on the test set\")\n",
    "t0 = time()\n",
    "y_pred = clf.predict(X_test)\n",
    "print(\"done in %0.3fs\" % (time() - t0))\n",
    "\n",
    "#target_names = list(y_test)\n",
    "all_cls  =list(np.unique(a_encoder_train.inverse_transform(y_test)))\n",
    "print(classification_report(y_true = y_test, y_pred = y_pred))\n",
    "disp =ConfusionMatrixDisplay.from_estimator(\n",
    "    clf, X_test, y_test, xticks_rotation=\"vertical\",cmap=\"viridis\",\n",
    "display_labels=all_cls)\n",
    "fig = disp.figure_\n",
    "fig.set_figwidth(20)\n",
    "fig.set_figheight(20)\n",
    "#fig.suptitle('Plot of confusion matrix')\n",
    "plt.tight_layout()\n",
    "plt.savefig('paper/figures/random_forestsklearn_confusion_matrix.jpg')\n",
    "plt.show()"
   ],
   "metadata": {
    "collapsed": false,
    "pycharm": {
     "name": "#%%\n"
    }
   }
  },
  {
   "cell_type": "code",
   "execution_count": null,
   "outputs": [],
   "source": [],
   "metadata": {
    "collapsed": false,
    "pycharm": {
     "name": "#%%\n"
    }
   }
  }
 ],
 "metadata": {
  "kernelspec": {
   "display_name": "Python 3",
   "language": "python",
   "name": "python3"
  },
  "language_info": {
   "codemirror_mode": {
    "name": "ipython",
    "version": 2
   },
   "file_extension": ".py",
   "mimetype": "text/x-python",
   "name": "python",
   "nbconvert_exporter": "python",
   "pygments_lexer": "ipython2",
   "version": "2.7.6"
  }
 },
 "nbformat": 4,
 "nbformat_minor": 0
}