{
 "cells": [
  {
   "cell_type": "code",
   "execution_count": null,
   "metadata": {
    "collapsed": true,
    "pycharm": {
     "name": "#%%\n"
    }
   },
   "outputs": [],
   "source": [
    "import pandas as pd\n",
    "import numpy as np"
   ]
  },
  {
   "cell_type": "code",
   "execution_count": null,
   "outputs": [],
   "source": [
    "df_train_val = pd.read_csv('output/update_allcruises_df_validated_5with_zoomie_20230303.csv')\n",
    "df1 =pd.read_csv(\"map_stations/results_mnv_200-500m.csv\", sep=\";\")\n",
    "df2 =pd.read_csv(\"map_stations/results_mnv_FRAM_0-50m.csv\", sep=\";\")"
   ],
   "metadata": {
    "collapsed": false,
    "pycharm": {
     "name": "#%%\n"
    }
   }
  },
  {
   "cell_type": "code",
   "execution_count": null,
   "outputs": [],
   "source": [
    "df_train_val.columns\n",
    "df_train_val#.groupby(\"object_station\").agg(\"count\")"
   ],
   "metadata": {
    "collapsed": false,
    "pycharm": {
     "name": "#%%\n"
    }
   }
  },
  {
   "cell_type": "code",
   "execution_count": null,
   "outputs": [],
   "source": [
    "df2[\"Detail_Location\"]\n",
    "df2\n",
    "df1[\"Station_Date (UTC)\"]\n",
    "df2[\"object_date_dt\"] =pd.to_datetime(df2[\"Station_Date (UTC)\"])\n",
    "df2[\"object_date_dt\"]\n",
    "df2 = df2.set_index(\"object_date_dt\")"
   ],
   "metadata": {
    "collapsed": false,
    "pycharm": {
     "name": "#%%\n"
    }
   }
  },
  {
   "cell_type": "code",
   "execution_count": null,
   "outputs": [],
   "source": [
    "df_train_val[\"object_date\"]=df_train_val[\"object_date\"].apply(str)\n",
    "df_train_val[\"object_date_dt\"] =pd.to_datetime(df_train_val[\"object_date\"],format='%Y%m%d', errors='ignore')\n",
    "df_train_val[\"object_date_dt\"]\n",
    "df_train_val = df_train_val.set_index(\"object_date_dt\")"
   ],
   "metadata": {
    "collapsed": false,
    "pycharm": {
     "name": "#%%\n"
    }
   }
  },
  {
   "cell_type": "code",
   "execution_count": null,
   "outputs": [],
   "source": [
    "df_station = df_train_val.join(df2, on= \"object_date_dt\")"
   ],
   "metadata": {
    "collapsed": false,
    "pycharm": {
     "name": "#%%\n"
    }
   }
  },
  {
   "cell_type": "code",
   "execution_count": null,
   "outputs": [],
   "source": [
    "set(df_station[\"Detail_Location\"])\n",
    "df_station[\"Longitude\"]\n",
    "df_station[\"Latitude\"]"
   ],
   "metadata": {
    "collapsed": false,
    "pycharm": {
     "name": "#%%\n"
    }
   }
  },
  {
   "cell_type": "code",
   "execution_count": null,
   "outputs": [],
   "source": [
    "df_station[[\"Detail_Location\", \"Longitude\", \"Latitude\"]].groupby([\"Detail_Location\"]).agg(\"mean\").to_csv(\"output/Stations_from_MultiNetData_join_for_LokiMap.csv\", sep=\";\")\n",
    "df_station[[\"Detail_Location\", \"Longitude\", \"Latitude\"]].groupby([\"Detail_Location\"]).agg(\"mean\")"
   ],
   "metadata": {
    "collapsed": false,
    "pycharm": {
     "name": "#%%\n"
    }
   }
  },
  {
   "cell_type": "code",
   "execution_count": null,
   "outputs": [],
   "source": [
    "df2"
   ],
   "metadata": {
    "collapsed": false,
    "pycharm": {
     "name": "#%%\n"
    }
   }
  },
  {
   "cell_type": "code",
   "execution_count": null,
   "outputs": [],
   "source": [
    "df_stat = df_train_val[[\"object_id\", \"object_date\",\"object_time\", \"object_lat\", \"object_lon\",\"object_station\"]]"
   ],
   "metadata": {
    "collapsed": false,
    "pycharm": {
     "name": "#%%\n"
    }
   }
  },
  {
   "cell_type": "code",
   "execution_count": null,
   "outputs": [],
   "source": [
    "df_stat"
   ],
   "metadata": {
    "collapsed": false,
    "pycharm": {
     "name": "#%%\n"
    }
   }
  },
  {
   "cell_type": "code",
   "execution_count": null,
   "outputs": [],
   "source": [],
   "metadata": {
    "collapsed": false,
    "pycharm": {
     "name": "#%%\n"
    }
   }
  }
 ],
 "metadata": {
  "kernelspec": {
   "display_name": "Python 3",
   "language": "python",
   "name": "python3"
  },
  "language_info": {
   "codemirror_mode": {
    "name": "ipython",
    "version": 2
   },
   "file_extension": ".py",
   "mimetype": "text/x-python",
   "name": "python",
   "nbconvert_exporter": "python",
   "pygments_lexer": "ipython2",
   "version": "2.7.6"
  }
 },
 "nbformat": 4,
 "nbformat_minor": 0
}