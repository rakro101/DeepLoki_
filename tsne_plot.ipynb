{
 "cells": [
  {
   "cell_type": "code",
   "execution_count": null,
   "metadata": {
    "collapsed": true,
    "pycharm": {
     "name": "#%%\n"
    }
   },
   "outputs": [],
   "source": [
    "import pandas as pd\n",
    "import numpy as np"
   ]
  },
  {
   "cell_type": "code",
   "execution_count": null,
   "outputs": [],
   "source": [
    "df_train_val = pd.read_csv('output/update_allcruises_df_validated_5with_zoomie_20230303.csv')\n",
    "df_test =df_train_val\n",
    "#df_train_val.to_csv('output/view_all_data03032023.csv', sep=\";\")\n",
    "#df_test = pd.read_csv(\"output/update_wo_artefacts_test_dataset_PS992_03032023.csv\")\n",
    "df_test = df_test[['root_path', 'img_file_name', 'label']]\n",
    "from sklearn.model_selection import train_test_split\n",
    "X_train, X_test, y_train, y_test = train_test_split(df_test, df_test['label'], stratify=df_test['label'], test_size =0.25)\n",
    "df_test =X_test"
   ],
   "metadata": {
    "collapsed": false,
    "pycharm": {
     "name": "#%%\n"
    }
   }
  },
  {
   "cell_type": "code",
   "execution_count": null,
   "outputs": [],
   "source": [
    "from dtl_model_wo_linear_layer import DtlModel\n",
    "import torch\n",
    "import os\n",
    "from PIL import Image\n",
    "from torchvision import transforms\n",
    "model = DtlModel(input_shape=(3,300,300), num_classes=35, arch=\"resnet_dino\")\n",
    "#c_path =\"lightning_logs/version_60/checkpoints/epoch=2-step=912.ckpt\" #paperversion\n",
    "#c_path = \"lightning_logs/version_68/checkpoints/epoch=0-step=608.ckpt\"\n",
    "#checkpoint = torch.load(c_path)\n",
    "#model.load_state_dict(checkpoint[\"state_dict\"])\n",
    "model.eval()\n",
    "\n",
    "convert_tensor = transforms.ToTensor()\n",
    "\n",
    "def get_pred(col1, col2, model=model):\n",
    "    image_root = col1\n",
    "    image_path = col2\n",
    "    img_path = os.path.join(image_root, image_path)\n",
    "    image = Image.open(img_path).convert('RGB')\n",
    "    temp_pred = model(convert_tensor(image).unsqueeze(0))\n",
    "    return temp_pred.detach().numpy().squeeze(0)"
   ],
   "metadata": {
    "collapsed": false,
    "pycharm": {
     "name": "#%%\n"
    }
   }
  },
  {
   "cell_type": "code",
   "execution_count": null,
   "outputs": [],
   "source": [
    "df_test['latent_space']= df_test.apply(lambda x: get_pred(x.root_path, x.img_file_name,model), axis=1)"
   ],
   "metadata": {
    "collapsed": false,
    "pycharm": {
     "name": "#%%\n"
    }
   }
  },
  {
   "cell_type": "code",
   "execution_count": null,
   "outputs": [],
   "source": [
    "df_test['count']=1\n",
    "df_sum = df_test.groupby('label').agg(sum)\n",
    "df_sum =df_sum.sort_values('count', ascending=False)\n",
    "top_n = 6\n",
    "top_5_df =df_test[df_test['label'].isin(df_sum.index[:top_n])]\n",
    "top_5_df = top_5_df[top_5_df['label']!=\"Detritus\"]"
   ],
   "metadata": {
    "collapsed": false,
    "pycharm": {
     "name": "#%%\n"
    }
   }
  },
  {
   "cell_type": "code",
   "execution_count": null,
   "outputs": [],
   "source": [],
   "metadata": {
    "collapsed": false,
    "pycharm": {
     "name": "#%%\n"
    }
   }
  },
  {
   "cell_type": "code",
   "execution_count": null,
   "outputs": [],
   "source": [
    "from sklearn.manifold import TSNE\n",
    "V = top_5_df['latent_space'].values.reshape(-1,1)\n",
    "#V = np.reshape(V, (207,1))\n",
    "L = np.array([V[i][0] for i in range(len(V))])\n",
    "print(L.shape)\n",
    "V_embedded = TSNE(n_components=2, learning_rate='auto', init='pca', perplexity=100).fit_transform(L)\n",
    "V_embedded\n",
    "V_embedded.shape"
   ],
   "metadata": {
    "collapsed": false,
    "pycharm": {
     "name": "#%%\n"
    }
   }
  },
  {
   "cell_type": "code",
   "execution_count": null,
   "outputs": [],
   "source": [
    "top_5_df['x'] =V_embedded[:,0]\n",
    "top_5_df['y'] =V_embedded[:,1]\n",
    "import seaborn as sns\n",
    "import colorcet as cc\n",
    "sns.set(rc={'figure.figsize':(16,16)})\n",
    "#palette = sns.color_palette(\"bright\", 40)\n",
    "palette=sns.color_palette(\"dark\",n_colors=top_n)#sns.color_palette(cc.glasbey, n_colors=top_n)\n",
    "sns.scatterplot(data=top_5_df,x='x', y='y',  hue='label', legend='full',palette=palette )#palette=sns.color_palette(\"cubehelix\", as_cmap=True)"
   ],
   "metadata": {
    "collapsed": false,
    "pycharm": {
     "name": "#%%\n"
    }
   }
  },
  {
   "cell_type": "code",
   "execution_count": null,
   "outputs": [],
   "source": [],
   "metadata": {
    "collapsed": false,
    "pycharm": {
     "name": "#%%\n",
     "is_executing": true
    }
   }
  },
  {
   "cell_type": "code",
   "execution_count": null,
   "outputs": [],
   "source": [],
   "metadata": {
    "collapsed": false,
    "pycharm": {
     "name": "#%%\n",
     "is_executing": true
    }
   }
  },
  {
   "cell_type": "code",
   "execution_count": null,
   "outputs": [],
   "source": [],
   "metadata": {
    "collapsed": false,
    "pycharm": {
     "name": "#%%\n",
     "is_executing": true
    }
   }
  }
 ],
 "metadata": {
  "kernelspec": {
   "display_name": "Python 3",
   "language": "python",
   "name": "python3"
  },
  "language_info": {
   "codemirror_mode": {
    "name": "ipython",
    "version": 2
   },
   "file_extension": ".py",
   "mimetype": "text/x-python",
   "name": "python",
   "nbconvert_exporter": "python",
   "pygments_lexer": "ipython2",
   "version": "2.7.6"
  }
 },
 "nbformat": 4,
 "nbformat_minor": 0
}