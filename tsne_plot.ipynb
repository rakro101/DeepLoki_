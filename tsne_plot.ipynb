{
 "cells": [
  {
   "cell_type": "code",
   "execution_count": null,
   "metadata": {
    "collapsed": true,
    "pycharm": {
     "name": "#%%\n"
    }
   },
   "outputs": [],
   "source": [
    "import pandas as pd\n",
    "import numpy as np"
   ]
  },
  {
   "cell_type": "code",
   "execution_count": null,
   "outputs": [],
   "source": [
    "df_train_val = pd.read_csv('output/update_allcruises_df_validated_5with_zoomie_20230303.csv')\n",
    "df_test =df_train_val\n",
    "#df_train_val.to_csv('output/view_all_data03032023.csv', sep=\";\")\n",
    "df_test = pd.read_csv(\"output/update_wo_artefacts_test_dataset_PS992_03032023.csv\")\n",
    "df_test = df_test[['root_path', 'img_file_name', 'label']]\n",
    "from sklearn.model_selection import train_test_split\n",
    "X_train, X_test, y_train, y_test = train_test_split(df_test, df_test['label'], stratify=df_test['label'], test_size =0.95)\n",
    "df_test =X_test"
   ],
   "metadata": {
    "collapsed": false,
    "pycharm": {
     "name": "#%%\n"
    }
   }
  },
  {
   "cell_type": "code",
   "execution_count": null,
   "outputs": [],
   "source": [
    "from torchvision import transforms\n",
    "transform = transforms.Compose([\n",
    "              transforms.ToTensor(),\n",
    "              transforms.Resize(size=224),\n",
    "              transforms.CenterCrop(size=224),\n",
    "              #transforms.RandomInvert(p=1),\n",
    "              transforms.Normalize([0.485, 0.456, 0.406],[0.229, 0.224, 0.225])\n",
    "        ])\n",
    "\n"
   ],
   "metadata": {
    "collapsed": false,
    "pycharm": {
     "name": "#%%\n"
    }
   }
  },
  {
   "cell_type": "code",
   "execution_count": null,
   "outputs": [],
   "source": [
    "from dtl_model_wo_linear_layer import DtlModel\n",
    "import torch\n",
    "import os\n",
    "from PIL import Image\n",
    "from torchvision import transforms\n",
    "from loki_datasets import LokiDataModule, LokiTrainValDataset\n",
    "dm = LokiDataModule(batch_size=1024)#1024\n",
    "lrvd = LokiTrainValDataset()\n",
    "num_classes = lrvd.n_classes\n",
    "label_encoder = lrvd.label_encoder\n",
    "m_arch = \"resnet_dino450\"\n",
    "model = DtlModel(input_shape=(3,300,300), num_classes=35, arch=m_arch, label_encoder=lrvd)\n",
    "#c_path =\"lightning_logs/version_60/checkpoints/epoch=2-step=912.ckpt\" #paperversion\n",
    "#c_path = \"lightning_logs/version_68/checkpoints/epoch=0-step=608.ckpt\"\n",
    "#checkpoint = torch.load(c_path)\n",
    "#model.load_state_dict(checkpoint[\"state_dict\"])\n",
    "model.eval()\n",
    "\n",
    "#convert_tensor = transforms.ToTensor()\n",
    "convert_tensor = transform\n",
    "def get_pred(col1, col2, model=model):\n",
    "    image_root = col1\n",
    "    image_path = col2\n",
    "    img_path = os.path.join(image_root, image_path)\n",
    "    image = Image.open(img_path).convert('RGB')\n",
    "    temp_pred = model(convert_tensor(image).unsqueeze(0))\n",
    "    return temp_pred.detach().numpy().squeeze(0)"
   ],
   "metadata": {
    "collapsed": false,
    "pycharm": {
     "name": "#%%\n"
    }
   }
  },
  {
   "cell_type": "code",
   "execution_count": null,
   "outputs": [],
   "source": [
    "df_test['latent_space']= df_test.apply(lambda x: get_pred(x.root_path, x.img_file_name,model), axis=1)"
   ],
   "metadata": {
    "collapsed": false,
    "pycharm": {
     "name": "#%%\n"
    }
   }
  },
  {
   "cell_type": "code",
   "execution_count": null,
   "outputs": [],
   "source": [
    "df_test['count']=1\n",
    "df_sum = df_test.groupby('label').agg(sum)\n",
    "df_sum =df_sum.sort_values('count', ascending=False)\n",
    "top_n = 10\n",
    "top_5_df =df_test[df_test['label'].isin(df_sum.index[:top_n])]\n",
    "#top_5_df = top_5_df[top_5_df['label']!=\"Detritus\"]\n",
    "top_5_df = top_5_df[top_5_df['label']!=\"Artefact\"]"
   ],
   "metadata": {
    "collapsed": false,
    "pycharm": {
     "name": "#%%\n"
    }
   }
  },
  {
   "cell_type": "code",
   "execution_count": null,
   "outputs": [],
   "source": [],
   "metadata": {
    "collapsed": false,
    "pycharm": {
     "name": "#%%\n"
    }
   }
  },
  {
   "cell_type": "code",
   "execution_count": null,
   "outputs": [],
   "source": [
    "from sklearn.manifold import TSNE\n",
    "V = top_5_df['latent_space'].values.reshape(-1,1)\n",
    "#V = np.reshape(V, (207,1))\n",
    "L = np.array([V[i][0] for i in range(len(V))])\n",
    "print(L.shape)\n",
    "V_embedded = TSNE(n_components=2, learning_rate='auto', init='pca', perplexity=100).fit_transform(L)\n",
    "V_embedded\n",
    "V_embedded.shape"
   ],
   "metadata": {
    "collapsed": false,
    "pycharm": {
     "name": "#%%\n"
    }
   }
  },
  {
   "cell_type": "code",
   "execution_count": null,
   "outputs": [],
   "source": [
    "top_5_df['x'] =V_embedded[:,0]\n",
    "top_5_df['y'] =V_embedded[:,1]\n",
    "import seaborn as sns\n",
    "import colorcet as cc\n",
    "sns.set(rc={'figure.figsize':(16,16)})\n",
    "#palette = sns.color_palette(\"bright\", 40)\n",
    "palette=sns.color_palette(\"bright\",n_colors=top_n)#sns.color_palette(cc.glasbey, n_colors=top_n)\n",
    "sns_plot_tsne =sns.scatterplot(data=top_5_df,x='x', y='y',  hue='label', legend='full',palette=palette )#palette=sns.color_palette(\"cubehelix\", as_cmap=True)\n",
    "fig = sns_plot_tsne.get_figure()\n",
    "fig.savefig(f\"tsne_umap_plots/{m_arch}_{top_n}_testdata95_tsne_plot.png\")"
   ],
   "metadata": {
    "collapsed": false,
    "pycharm": {
     "name": "#%%\n"
    }
   }
  },
  {
   "cell_type": "code",
   "execution_count": null,
   "outputs": [],
   "source": [
    "import umap\n",
    "from sklearn.preprocessing import StandardScaler\n",
    "import matplotlib.pyplot as plt\n",
    "reducer = umap.UMAP(n_neighbors=15)\n",
    "scaled_data = StandardScaler().fit_transform(L)\n",
    "\n",
    "U_embedding = reducer.fit_transform(scaled_data)\n",
    "print(U_embedding.shape)\n",
    "palette=sns.color_palette(\"bright\",n_colors=top_n)\n",
    "\n",
    "top_5_df['X'] =U_embedding[:, 0]\n",
    "top_5_df['Y'] =U_embedding[:, 1]\n",
    "sns_plot_umap = sns.scatterplot(data=top_5_df,x='X', y='Y',  hue='label', legend='full',palette=palette )\n",
    "fig2 = sns_plot_umap.get_figure()\n",
    "fig2.savefig(f\"tsne_umap_plots/{m_arch}_{top_n}_testdata95_umap_plot.png\")\n",
    "#plt.scatter(U_embedding[:, 0], U_embedding[:, 1], c=palette, cmap='Spectral', s=5)\n",
    "#plt.gca().set_aspect('equal', 'datalim')\n",
    "#plt.colorbar(boundaries=np.arange(11)-0.5).set_ticks(np.arange(10))\n",
    "#plt.title('UMAP projection of the Loki dataset', fontsize=24)"
   ],
   "metadata": {
    "collapsed": false,
    "pycharm": {
     "name": "#%%\n"
    }
   }
  },
  {
   "cell_type": "code",
   "execution_count": null,
   "outputs": [],
   "source": [],
   "metadata": {
    "collapsed": false,
    "pycharm": {
     "name": "#%%\n"
    }
   }
  },
  {
   "cell_type": "code",
   "execution_count": null,
   "outputs": [],
   "source": [],
   "metadata": {
    "collapsed": false,
    "pycharm": {
     "name": "#%%\n"
    }
   }
  }
 ],
 "metadata": {
  "kernelspec": {
   "display_name": "Python 3",
   "language": "python",
   "name": "python3"
  },
  "language_info": {
   "codemirror_mode": {
    "name": "ipython",
    "version": 2
   },
   "file_extension": ".py",
   "mimetype": "text/x-python",
   "name": "python",
   "nbconvert_exporter": "python",
   "pygments_lexer": "ipython2",
   "version": "2.7.6"
  }
 },
 "nbformat": 4,
 "nbformat_minor": 0
}