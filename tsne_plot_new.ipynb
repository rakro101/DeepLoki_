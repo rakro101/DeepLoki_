{
 "cells": [
  {
   "cell_type": "code",
   "execution_count": 2,
   "metadata": {
    "collapsed": true
   },
   "outputs": [],
   "source": [
    "import pandas as pd\n",
    "import numpy as np"
   ]
  },
  {
   "cell_type": "code",
   "execution_count": 5,
   "outputs": [],
   "source": [
    "df_train_val = pd.read_csv('output/update_allcruises_df_validated_5with_zoomie_20230727.csv',sep=\";\")\n",
    "df_test =df_train_val\n",
    "#df_train_val.to_csv('output/view_all_data03032023.csv', sep=\";\")\n",
    "df_test = pd.read_csv(\"output/update_wo_artefacts_test_dataset_PS992_20230727_nicole.csv\",sep=\";\")\n",
    "df_test = df_test[['root_path', 'img_file_name', 'label']]\n",
    "from sklearn.model_selection import train_test_split\n",
    "X_train, X_test, y_train, y_test = train_test_split(df_test, df_test['label'], stratify=df_test['label'], test_size =0.95)\n",
    "df_test =X_test"
   ],
   "metadata": {
    "collapsed": false
   }
  },
  {
   "cell_type": "code",
   "execution_count": 6,
   "outputs": [],
   "source": [
    "from torchvision import transforms\n",
    "transform = transforms.Compose([\n",
    "              transforms.ToTensor(),\n",
    "              transforms.Resize(size=300),\n",
    "              transforms.CenterCrop(size=224),\n",
    "              transforms.Normalize([0.485, 0.456, 0.406],[0.229, 0.224, 0.225]),\n",
    "        ])\n",
    "\n"
   ],
   "metadata": {
    "collapsed": false
   }
  },
  {
   "cell_type": "code",
   "execution_count": null,
   "outputs": [],
   "source": [
    "from dtl_model import DtlModel\n",
    "import torch\n",
    "import os\n",
    "from PIL import Image\n",
    "from torchvision import transforms\n",
    "from loki_datasets import LokiDataModule, LokiTrainValDataset\n",
    "dm = LokiDataModule(batch_size=1024)#1024\n",
    "lrvd = LokiTrainValDataset()\n",
    "num_classes = lrvd.n_classes\n",
    "label_encoder = lrvd.label_encoder\n",
    "m_arch = \"resnet_dino450_latent\"\n",
    "model = DtlModel(input_shape=(3,300,300), num_classes=num_classes, arch=m_arch, label_encoder=lrvd)\n",
    "#c_path =\"lightning_logs/version_60/checkpoints/epoch=2-step=912.ckpt\" #paperversion\n",
    "#c_path = \"lightning_logs/version_68/checkpoints/epoch=0-step=608.ckpt\"\n",
    "#checkpoint = torch.load(c_path)\n",
    "#model.load_state_dict(checkpoint[\"state_dict\"])\n",
    "model.eval()\n",
    "\n",
    "#convert_tensor = transforms.ToTensor()\n",
    "convert_tensor = transform\n",
    "def get_pred(col1, col2, model=model):\n",
    "    image_root = col1\n",
    "    image_path = col2\n",
    "    img_path = os.path.join(image_root, image_path)\n",
    "    image = Image.open(img_path).convert('RGB')\n",
    "    temp_pred = model(convert_tensor(image).unsqueeze(0))\n",
    "    return temp_pred.detach().numpy().squeeze(0)"
   ],
   "metadata": {
    "collapsed": false,
    "pycharm": {
     "is_executing": true
    }
   }
  },
  {
   "cell_type": "code",
   "execution_count": null,
   "outputs": [],
   "source": [
    "df_test['latent_space']= df_test.apply(lambda x: get_pred(x.root_path, x.img_file_name,model), axis=1)"
   ],
   "metadata": {
    "collapsed": false,
    "pycharm": {
     "is_executing": true
    }
   }
  },
  {
   "cell_type": "code",
   "execution_count": null,
   "outputs": [
    {
     "name": "stderr",
     "output_type": "stream",
     "text": [
      "/var/folders/l5/7vqpfl9j2yd9xqq2n8kh8tyc0000gn/T/ipykernel_2416/716733722.py:2: FutureWarning: The operation <built-in function sum> failed on a column. If any error is raised, this will raise an exception in a future version of pandas. Drop these columns to avoid this warning.\n",
      "  df_sum = df_test.groupby('label').agg(sum)\n"
     ]
    }
   ],
   "source": [
    "df_test['count']=1\n",
    "df_sum = df_test.groupby('label').agg(sum)\n",
    "df_sum =df_sum.sort_values('count', ascending=False)\n",
    "top_n = 10\n",
    "top_5_df =df_test[df_test['label'].isin(df_sum.index[:top_n])]\n",
    "#top_5_df = top_5_df[top_5_df['label']!=\"Detritus\"]\n",
    "top_5_df = top_5_df[top_5_df['label']!=\"Artefact\"]"
   ],
   "metadata": {
    "collapsed": false,
    "pycharm": {
     "is_executing": true
    }
   }
  },
  {
   "cell_type": "code",
   "execution_count": null,
   "outputs": [],
   "source": [],
   "metadata": {
    "collapsed": false,
    "pycharm": {
     "is_executing": true
    }
   }
  },
  {
   "cell_type": "code",
   "execution_count": 10,
   "outputs": [
    {
     "data": {
      "text/plain": "(17752, 2)"
     },
     "execution_count": 10,
     "metadata": {},
     "output_type": "execute_result"
    },
    {
     "name": "stdout",
     "output_type": "stream",
     "text": [
      "(17752, 512, 1, 1)\n"
     ]
    },
    {
     "ename": "ValueError",
     "evalue": "Found array with dim 4. TSNE expected <= 2.",
     "output_type": "error",
     "traceback": [
      "\u001B[0;31m---------------------------------------------------------------------------\u001B[0m",
      "\u001B[0;31mValueError\u001B[0m                                Traceback (most recent call last)",
      "Cell \u001B[0;32mIn[16], line 6\u001B[0m\n\u001B[1;32m      4\u001B[0m L \u001B[38;5;241m=\u001B[39m np\u001B[38;5;241m.\u001B[39marray([V[i][\u001B[38;5;241m0\u001B[39m] \u001B[38;5;28;01mfor\u001B[39;00m i \u001B[38;5;129;01min\u001B[39;00m \u001B[38;5;28mrange\u001B[39m(\u001B[38;5;28mlen\u001B[39m(V))])\n\u001B[1;32m      5\u001B[0m \u001B[38;5;28mprint\u001B[39m(L\u001B[38;5;241m.\u001B[39mshape)\n\u001B[0;32m----> 6\u001B[0m V_embedded \u001B[38;5;241m=\u001B[39m \u001B[43mTSNE\u001B[49m\u001B[43m(\u001B[49m\u001B[43mn_components\u001B[49m\u001B[38;5;241;43m=\u001B[39;49m\u001B[38;5;241;43m2\u001B[39;49m\u001B[43m,\u001B[49m\u001B[43m \u001B[49m\u001B[43mlearning_rate\u001B[49m\u001B[38;5;241;43m=\u001B[39;49m\u001B[38;5;124;43m'\u001B[39;49m\u001B[38;5;124;43mauto\u001B[39;49m\u001B[38;5;124;43m'\u001B[39;49m\u001B[43m,\u001B[49m\u001B[43m \u001B[49m\u001B[43minit\u001B[49m\u001B[38;5;241;43m=\u001B[39;49m\u001B[38;5;124;43m'\u001B[39;49m\u001B[38;5;124;43mpca\u001B[39;49m\u001B[38;5;124;43m'\u001B[39;49m\u001B[43m,\u001B[49m\u001B[43m \u001B[49m\u001B[43mperplexity\u001B[49m\u001B[38;5;241;43m=\u001B[39;49m\u001B[38;5;241;43m100\u001B[39;49m\u001B[43m)\u001B[49m\u001B[38;5;241;43m.\u001B[39;49m\u001B[43mfit_transform\u001B[49m\u001B[43m(\u001B[49m\u001B[43mL\u001B[49m\u001B[43m)\u001B[49m\n\u001B[1;32m      7\u001B[0m V_embedded\n\u001B[1;32m      8\u001B[0m V_embedded\u001B[38;5;241m.\u001B[39mshape\n",
      "File \u001B[0;32m~/PycharmProjects/deeploki/venv/lib/python3.10/site-packages/sklearn/manifold/_t_sne.py:1119\u001B[0m, in \u001B[0;36mTSNE.fit_transform\u001B[0;34m(self, X, y)\u001B[0m\n\u001B[1;32m   1117\u001B[0m \u001B[38;5;28mself\u001B[39m\u001B[38;5;241m.\u001B[39m_validate_params()\n\u001B[1;32m   1118\u001B[0m \u001B[38;5;28mself\u001B[39m\u001B[38;5;241m.\u001B[39m_check_params_vs_input(X)\n\u001B[0;32m-> 1119\u001B[0m embedding \u001B[38;5;241m=\u001B[39m \u001B[38;5;28;43mself\u001B[39;49m\u001B[38;5;241;43m.\u001B[39;49m\u001B[43m_fit\u001B[49m\u001B[43m(\u001B[49m\u001B[43mX\u001B[49m\u001B[43m)\u001B[49m\n\u001B[1;32m   1120\u001B[0m \u001B[38;5;28mself\u001B[39m\u001B[38;5;241m.\u001B[39membedding_ \u001B[38;5;241m=\u001B[39m embedding\n\u001B[1;32m   1121\u001B[0m \u001B[38;5;28;01mreturn\u001B[39;00m \u001B[38;5;28mself\u001B[39m\u001B[38;5;241m.\u001B[39membedding_\n",
      "File \u001B[0;32m~/PycharmProjects/deeploki/venv/lib/python3.10/site-packages/sklearn/manifold/_t_sne.py:854\u001B[0m, in \u001B[0;36mTSNE._fit\u001B[0;34m(self, X, skip_num_points)\u001B[0m\n\u001B[1;32m    851\u001B[0m     \u001B[38;5;28mself\u001B[39m\u001B[38;5;241m.\u001B[39mlearning_rate_ \u001B[38;5;241m=\u001B[39m \u001B[38;5;28mself\u001B[39m\u001B[38;5;241m.\u001B[39mlearning_rate\n\u001B[1;32m    853\u001B[0m \u001B[38;5;28;01mif\u001B[39;00m \u001B[38;5;28mself\u001B[39m\u001B[38;5;241m.\u001B[39mmethod \u001B[38;5;241m==\u001B[39m \u001B[38;5;124m\"\u001B[39m\u001B[38;5;124mbarnes_hut\u001B[39m\u001B[38;5;124m\"\u001B[39m:\n\u001B[0;32m--> 854\u001B[0m     X \u001B[38;5;241m=\u001B[39m \u001B[38;5;28;43mself\u001B[39;49m\u001B[38;5;241;43m.\u001B[39;49m\u001B[43m_validate_data\u001B[49m\u001B[43m(\u001B[49m\n\u001B[1;32m    855\u001B[0m \u001B[43m        \u001B[49m\u001B[43mX\u001B[49m\u001B[43m,\u001B[49m\n\u001B[1;32m    856\u001B[0m \u001B[43m        \u001B[49m\u001B[43maccept_sparse\u001B[49m\u001B[38;5;241;43m=\u001B[39;49m\u001B[43m[\u001B[49m\u001B[38;5;124;43m\"\u001B[39;49m\u001B[38;5;124;43mcsr\u001B[39;49m\u001B[38;5;124;43m\"\u001B[39;49m\u001B[43m]\u001B[49m\u001B[43m,\u001B[49m\n\u001B[1;32m    857\u001B[0m \u001B[43m        \u001B[49m\u001B[43mensure_min_samples\u001B[49m\u001B[38;5;241;43m=\u001B[39;49m\u001B[38;5;241;43m2\u001B[39;49m\u001B[43m,\u001B[49m\n\u001B[1;32m    858\u001B[0m \u001B[43m        \u001B[49m\u001B[43mdtype\u001B[49m\u001B[38;5;241;43m=\u001B[39;49m\u001B[43m[\u001B[49m\u001B[43mnp\u001B[49m\u001B[38;5;241;43m.\u001B[39;49m\u001B[43mfloat32\u001B[49m\u001B[43m,\u001B[49m\u001B[43m \u001B[49m\u001B[43mnp\u001B[49m\u001B[38;5;241;43m.\u001B[39;49m\u001B[43mfloat64\u001B[49m\u001B[43m]\u001B[49m\u001B[43m,\u001B[49m\n\u001B[1;32m    859\u001B[0m \u001B[43m    \u001B[49m\u001B[43m)\u001B[49m\n\u001B[1;32m    860\u001B[0m \u001B[38;5;28;01melse\u001B[39;00m:\n\u001B[1;32m    861\u001B[0m     X \u001B[38;5;241m=\u001B[39m \u001B[38;5;28mself\u001B[39m\u001B[38;5;241m.\u001B[39m_validate_data(\n\u001B[1;32m    862\u001B[0m         X, accept_sparse\u001B[38;5;241m=\u001B[39m[\u001B[38;5;124m\"\u001B[39m\u001B[38;5;124mcsr\u001B[39m\u001B[38;5;124m\"\u001B[39m, \u001B[38;5;124m\"\u001B[39m\u001B[38;5;124mcsc\u001B[39m\u001B[38;5;124m\"\u001B[39m, \u001B[38;5;124m\"\u001B[39m\u001B[38;5;124mcoo\u001B[39m\u001B[38;5;124m\"\u001B[39m], dtype\u001B[38;5;241m=\u001B[39m[np\u001B[38;5;241m.\u001B[39mfloat32, np\u001B[38;5;241m.\u001B[39mfloat64]\n\u001B[1;32m    863\u001B[0m     )\n",
      "File \u001B[0;32m~/PycharmProjects/deeploki/venv/lib/python3.10/site-packages/sklearn/base.py:546\u001B[0m, in \u001B[0;36mBaseEstimator._validate_data\u001B[0;34m(self, X, y, reset, validate_separately, **check_params)\u001B[0m\n\u001B[1;32m    544\u001B[0m     \u001B[38;5;28;01mraise\u001B[39;00m \u001B[38;5;167;01mValueError\u001B[39;00m(\u001B[38;5;124m\"\u001B[39m\u001B[38;5;124mValidation should be done on X, y or both.\u001B[39m\u001B[38;5;124m\"\u001B[39m)\n\u001B[1;32m    545\u001B[0m \u001B[38;5;28;01melif\u001B[39;00m \u001B[38;5;129;01mnot\u001B[39;00m no_val_X \u001B[38;5;129;01mand\u001B[39;00m no_val_y:\n\u001B[0;32m--> 546\u001B[0m     X \u001B[38;5;241m=\u001B[39m \u001B[43mcheck_array\u001B[49m\u001B[43m(\u001B[49m\u001B[43mX\u001B[49m\u001B[43m,\u001B[49m\u001B[43m \u001B[49m\u001B[43minput_name\u001B[49m\u001B[38;5;241;43m=\u001B[39;49m\u001B[38;5;124;43m\"\u001B[39;49m\u001B[38;5;124;43mX\u001B[39;49m\u001B[38;5;124;43m\"\u001B[39;49m\u001B[43m,\u001B[49m\u001B[43m \u001B[49m\u001B[38;5;241;43m*\u001B[39;49m\u001B[38;5;241;43m*\u001B[39;49m\u001B[43mcheck_params\u001B[49m\u001B[43m)\u001B[49m\n\u001B[1;32m    547\u001B[0m     out \u001B[38;5;241m=\u001B[39m X\n\u001B[1;32m    548\u001B[0m \u001B[38;5;28;01melif\u001B[39;00m no_val_X \u001B[38;5;129;01mand\u001B[39;00m \u001B[38;5;129;01mnot\u001B[39;00m no_val_y:\n",
      "File \u001B[0;32m~/PycharmProjects/deeploki/venv/lib/python3.10/site-packages/sklearn/utils/validation.py:915\u001B[0m, in \u001B[0;36mcheck_array\u001B[0;34m(array, accept_sparse, accept_large_sparse, dtype, order, copy, force_all_finite, ensure_2d, allow_nd, ensure_min_samples, ensure_min_features, estimator, input_name)\u001B[0m\n\u001B[1;32m    910\u001B[0m     \u001B[38;5;28;01mraise\u001B[39;00m \u001B[38;5;167;01mValueError\u001B[39;00m(\n\u001B[1;32m    911\u001B[0m         \u001B[38;5;124m\"\u001B[39m\u001B[38;5;124mdtype=\u001B[39m\u001B[38;5;124m'\u001B[39m\u001B[38;5;124mnumeric\u001B[39m\u001B[38;5;124m'\u001B[39m\u001B[38;5;124m is not compatible with arrays of bytes/strings.\u001B[39m\u001B[38;5;124m\"\u001B[39m\n\u001B[1;32m    912\u001B[0m         \u001B[38;5;124m\"\u001B[39m\u001B[38;5;124mConvert your data to numeric values explicitly instead.\u001B[39m\u001B[38;5;124m\"\u001B[39m\n\u001B[1;32m    913\u001B[0m     )\n\u001B[1;32m    914\u001B[0m \u001B[38;5;28;01mif\u001B[39;00m \u001B[38;5;129;01mnot\u001B[39;00m allow_nd \u001B[38;5;129;01mand\u001B[39;00m array\u001B[38;5;241m.\u001B[39mndim \u001B[38;5;241m>\u001B[39m\u001B[38;5;241m=\u001B[39m \u001B[38;5;241m3\u001B[39m:\n\u001B[0;32m--> 915\u001B[0m     \u001B[38;5;28;01mraise\u001B[39;00m \u001B[38;5;167;01mValueError\u001B[39;00m(\n\u001B[1;32m    916\u001B[0m         \u001B[38;5;124m\"\u001B[39m\u001B[38;5;124mFound array with dim \u001B[39m\u001B[38;5;132;01m%d\u001B[39;00m\u001B[38;5;124m. \u001B[39m\u001B[38;5;132;01m%s\u001B[39;00m\u001B[38;5;124m expected <= 2.\u001B[39m\u001B[38;5;124m\"\u001B[39m\n\u001B[1;32m    917\u001B[0m         \u001B[38;5;241m%\u001B[39m (array\u001B[38;5;241m.\u001B[39mndim, estimator_name)\n\u001B[1;32m    918\u001B[0m     )\n\u001B[1;32m    920\u001B[0m \u001B[38;5;28;01mif\u001B[39;00m force_all_finite:\n\u001B[1;32m    921\u001B[0m     _assert_all_finite(\n\u001B[1;32m    922\u001B[0m         array,\n\u001B[1;32m    923\u001B[0m         input_name\u001B[38;5;241m=\u001B[39minput_name,\n\u001B[1;32m    924\u001B[0m         estimator_name\u001B[38;5;241m=\u001B[39mestimator_name,\n\u001B[1;32m    925\u001B[0m         allow_nan\u001B[38;5;241m=\u001B[39mforce_all_finite \u001B[38;5;241m==\u001B[39m \u001B[38;5;124m\"\u001B[39m\u001B[38;5;124mallow-nan\u001B[39m\u001B[38;5;124m\"\u001B[39m,\n\u001B[1;32m    926\u001B[0m     )\n",
      "\u001B[0;31mValueError\u001B[0m: Found array with dim 4. TSNE expected <= 2."
     ]
    }
   ],
   "source": [
    "from sklearn.manifold import TSNE\n",
    "V = top_5_df['latent_space'].values.reshape(-1,1)\n",
    "#V = np.reshape(V, (207,1))\n",
    "L = np.array([V[i][0] for i in range(len(V))])\n",
    "print(L.shape)\n",
    "V_embedded = TSNE(n_components=2, learning_rate='auto', init='pca', perplexity=100).fit_transform(L)\n",
    "V_embedded\n",
    "V_embedded.shape"
   ],
   "metadata": {
    "collapsed": false
   }
  },
  {
   "cell_type": "code",
   "execution_count": null,
   "outputs": [],
   "source": [
    "top_5_df['x_tsne'] =V_embedded[:,0]\n",
    "top_5_df['y_tsne'] =V_embedded[:,1]\n",
    "import seaborn as sns\n",
    "import colorcet as cc\n",
    "sns.set(rc={'figure.figsize':(16,16)})\n",
    "#palette = sns.color_palette(\"bright\", 40)\n",
    "palette=sns.color_palette(\"bright\",n_colors=top_n)#sns.color_palette(cc.glasbey, n_colors=top_n)\n",
    "sns_plot_tsne =sns.scatterplot(data=top_5_df,x='x_tsne', y='y_tsne',  hue='label', legend='full',palette=palette )#palette=sns.color_palette(\"cubehelix\", as_cmap=True)\n",
    "fig = sns_plot_tsne.get_figure()\n",
    "fig.savefig(f\"tsne_umap_plots/{m_arch}_{top_n}_testdata95_tsne_plot.png\")"
   ],
   "metadata": {
    "collapsed": false
   }
  },
  {
   "cell_type": "code",
   "execution_count": null,
   "outputs": [],
   "source": [
    "import umap\n",
    "from sklearn.preprocessing import StandardScaler\n",
    "import matplotlib.pyplot as plt\n",
    "reducer = umap.UMAP(n_neighbors=15)\n",
    "scaled_data = StandardScaler().fit_transform(L)\n",
    "\n",
    "U_embedding = reducer.fit_transform(scaled_data)\n",
    "print(U_embedding.shape)\n",
    "palette=sns.color_palette(\"bright\",n_colors=top_n)\n",
    "\n",
    "top_5_df['x_umap'] =U_embedding[:, 0]\n",
    "top_5_df['y_umap'] =U_embedding[:, 1]\n",
    "sns_plot_umap = sns.scatterplot(data=top_5_df,x='x_umap', y='y_umap',  hue='label', legend='full',palette=palette )\n",
    "fig2 = sns_plot_umap.get_figure()\n",
    "fig2.savefig(f\"tsne_umap_plots/{m_arch}_{top_n}_testdata95_umap_plot.png\")\n",
    "top_5_df.to_csv(\"tsne_umap_plots/tsen_umap_embeddings.csv\")\n",
    "#plt.scatter(U_embedding[:, 0], U_embedding[:, 1], c=palette, cmap='Spectral', s=5)\n",
    "#plt.gca().set_aspect('equal', 'datalim')\n",
    "#plt.colorbar(boundaries=np.arange(11)-0.5).set_ticks(np.arange(10))\n",
    "#plt.title('UMAP projection of the Loki dataset', fontsize=24)"
   ],
   "metadata": {
    "collapsed": false
   }
  },
  {
   "cell_type": "code",
   "execution_count": null,
   "outputs": [],
   "source": [],
   "metadata": {
    "collapsed": false,
    "pycharm": {
     "is_executing": true
    }
   }
  },
  {
   "cell_type": "code",
   "execution_count": null,
   "outputs": [],
   "source": [],
   "metadata": {
    "collapsed": false,
    "pycharm": {
     "is_executing": true
    }
   }
  },
  {
   "cell_type": "code",
   "execution_count": null,
   "outputs": [],
   "source": [],
   "metadata": {
    "collapsed": false
   }
  }
 ],
 "metadata": {
  "kernelspec": {
   "display_name": "Python 3",
   "language": "python",
   "name": "python3"
  },
  "language_info": {
   "codemirror_mode": {
    "name": "ipython",
    "version": 2
   },
   "file_extension": ".py",
   "mimetype": "text/x-python",
   "name": "python",
   "nbconvert_exporter": "python",
   "pygments_lexer": "ipython2",
   "version": "2.7.6"
  }
 },
 "nbformat": 4,
 "nbformat_minor": 0
}
